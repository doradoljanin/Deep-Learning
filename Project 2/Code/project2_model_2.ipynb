{
 "cells": [
  {
   "cell_type": "code",
   "execution_count": 3,
   "metadata": {
    "execution": {
     "iopub.execute_input": "2022-05-09T13:30:15.755901Z",
     "iopub.status.busy": "2022-05-09T13:30:15.755448Z",
     "iopub.status.idle": "2022-05-09T13:30:47.219481Z",
     "shell.execute_reply": "2022-05-09T13:30:47.218610Z",
     "shell.execute_reply.started": "2022-05-09T13:30:15.755863Z"
    }
   },
   "outputs": [
    {
     "name": "stdout",
     "output_type": "stream",
     "text": [
      "Requirement already satisfied: torchsummary in /opt/conda/lib/python3.7/site-packages (1.5.1)\n",
      "\u001b[33mWARNING: Running pip as the 'root' user can result in broken permissions and conflicting behaviour with the system package manager. It is recommended to use a virtual environment instead: https://pip.pypa.io/warnings/venv\u001b[0m\n",
      "Requirement already satisfied: torch in /opt/conda/lib/python3.7/site-packages (1.11.0)\n",
      "Requirement already satisfied: torchvision in /opt/conda/lib/python3.7/site-packages (0.12.0)\n",
      "Requirement already satisfied: torchaudio in /opt/conda/lib/python3.7/site-packages (0.11.0)\n",
      "Requirement already satisfied: typing-extensions in /opt/conda/lib/python3.7/site-packages (from torch) (4.1.1)\n",
      "Requirement already satisfied: requests in /opt/conda/lib/python3.7/site-packages (from torchvision) (2.26.0)\n",
      "Requirement already satisfied: numpy in /opt/conda/lib/python3.7/site-packages (from torchvision) (1.20.3)\n",
      "Requirement already satisfied: pillow!=8.3.*,>=5.3.0 in /opt/conda/lib/python3.7/site-packages (from torchvision) (8.2.0)\n",
      "Requirement already satisfied: urllib3<1.27,>=1.21.1 in /opt/conda/lib/python3.7/site-packages (from requests->torchvision) (1.26.7)\n",
      "Requirement already satisfied: charset-normalizer~=2.0.0 in /opt/conda/lib/python3.7/site-packages (from requests->torchvision) (2.0.9)\n",
      "Requirement already satisfied: certifi>=2017.4.17 in /opt/conda/lib/python3.7/site-packages (from requests->torchvision) (2021.10.8)\n",
      "Requirement already satisfied: idna<4,>=2.5 in /opt/conda/lib/python3.7/site-packages (from requests->torchvision) (3.1)\n",
      "\u001b[33mWARNING: Running pip as the 'root' user can result in broken permissions and conflicting behaviour with the system package manager. It is recommended to use a virtual environment instead: https://pip.pypa.io/warnings/venv\u001b[0m\n",
      "Requirement already satisfied: py7zr in /opt/conda/lib/python3.7/site-packages (0.18.5)\n",
      "Requirement already satisfied: psutil in /opt/conda/lib/python3.7/site-packages (from py7zr) (5.9.0)\n",
      "Requirement already satisfied: pyppmd<0.19.0,>=0.18.1 in /opt/conda/lib/python3.7/site-packages (from py7zr) (0.18.2)\n",
      "Requirement already satisfied: pybcj>=0.5.0 in /opt/conda/lib/python3.7/site-packages (from py7zr) (0.5.2)\n",
      "Requirement already satisfied: importlib-metadata in /opt/conda/lib/python3.7/site-packages (from py7zr) (4.11.3)\n",
      "Requirement already satisfied: texttable in /opt/conda/lib/python3.7/site-packages (from py7zr) (1.6.4)\n",
      "Requirement already satisfied: brotli>=1.0.9 in /opt/conda/lib/python3.7/site-packages (from py7zr) (1.0.9)\n",
      "Requirement already satisfied: pycryptodomex>=3.6.6 in /opt/conda/lib/python3.7/site-packages (from py7zr) (3.14.1)\n",
      "Requirement already satisfied: zipfile-deflate64>=0.2.0 in /opt/conda/lib/python3.7/site-packages (from py7zr) (0.2.0)\n",
      "Requirement already satisfied: pyzstd>=0.14.4 in /opt/conda/lib/python3.7/site-packages (from py7zr) (0.15.2)\n",
      "Requirement already satisfied: multivolumefile>=0.2.3 in /opt/conda/lib/python3.7/site-packages (from py7zr) (0.2.3)\n",
      "Requirement already satisfied: zipp>=0.5 in /opt/conda/lib/python3.7/site-packages (from importlib-metadata->py7zr) (3.6.0)\n",
      "Requirement already satisfied: typing-extensions>=3.6.4 in /opt/conda/lib/python3.7/site-packages (from importlib-metadata->py7zr) (4.1.1)\n",
      "\u001b[33mWARNING: Running pip as the 'root' user can result in broken permissions and conflicting behaviour with the system package manager. It is recommended to use a virtual environment instead: https://pip.pypa.io/warnings/venv\u001b[0m\n",
      "Requirement already satisfied: pytorch-model-summary in /opt/conda/lib/python3.7/site-packages (0.1.2)\n",
      "Requirement already satisfied: torch in /opt/conda/lib/python3.7/site-packages (from pytorch-model-summary) (1.11.0)\n",
      "Requirement already satisfied: numpy in /opt/conda/lib/python3.7/site-packages (from pytorch-model-summary) (1.20.3)\n",
      "Requirement already satisfied: tqdm in /opt/conda/lib/python3.7/site-packages (from pytorch-model-summary) (4.62.3)\n",
      "Requirement already satisfied: typing-extensions in /opt/conda/lib/python3.7/site-packages (from torch->pytorch-model-summary) (4.1.1)\n",
      "\u001b[33mWARNING: Running pip as the 'root' user can result in broken permissions and conflicting behaviour with the system package manager. It is recommended to use a virtual environment instead: https://pip.pypa.io/warnings/venv\u001b[0m\n"
     ]
    }
   ],
   "source": [
    "#kaggle notebook\n",
    "!pip install torchsummary\n",
    "!pip install --upgrade torch torchvision torchaudio\n",
    "!pip install py7zr\n",
    "!pip install pytorch-model-summary"
   ]
  },
  {
   "cell_type": "code",
   "execution_count": 4,
   "metadata": {
    "execution": {
     "iopub.execute_input": "2022-05-09T13:31:01.343389Z",
     "iopub.status.busy": "2022-05-09T13:31:01.342531Z",
     "iopub.status.idle": "2022-05-09T13:31:01.350729Z",
     "shell.execute_reply": "2022-05-09T13:31:01.349883Z",
     "shell.execute_reply.started": "2022-05-09T13:31:01.343343Z"
    }
   },
   "outputs": [],
   "source": [
    "#imports\n",
    "from pathlib import Path\n",
    "import os\n",
    "import copy\n",
    "\n",
    "import numpy as np\n",
    "\n",
    "import torch\n",
    "import torch.nn as nn\n",
    "import torch.nn.functional as F\n",
    "import torch.optim as optim\n",
    "import torchaudio\n",
    "from torch.utils.data import Dataset\n",
    "from torch.utils.data import DataLoader\n",
    "from torchsummary import summary\n",
    "import sys\n",
    "\n",
    "from sklearn.model_selection import train_test_split\n",
    "\n",
    "import matplotlib.pyplot as plt\n",
    "import IPython.display as ipd\n",
    "from matplotlib.pyplot import figure\n",
    "\n",
    "\n",
    "from pytorch_model_summary import summary as summ\n",
    "\n",
    "from tqdm import tqdm\n",
    "\n",
    "import librosa\n",
    "import random\n",
    "import shutil\n",
    "\n",
    "import warnings"
   ]
  },
  {
   "cell_type": "code",
   "execution_count": 6,
   "metadata": {
    "execution": {
     "iopub.execute_input": "2022-05-09T13:31:05.200128Z",
     "iopub.status.busy": "2022-05-09T13:31:05.199494Z",
     "iopub.status.idle": "2022-05-09T13:31:05.204842Z",
     "shell.execute_reply": "2022-05-09T13:31:05.204112Z",
     "shell.execute_reply.started": "2022-05-09T13:31:05.200088Z"
    }
   },
   "outputs": [
    {
     "name": "stdout",
     "output_type": "stream",
     "text": [
      "1.11.0+cu102\n"
     ]
    }
   ],
   "source": [
    "print(torch.__version__)"
   ]
  },
  {
   "cell_type": "code",
   "execution_count": 7,
   "metadata": {
    "execution": {
     "iopub.execute_input": "2022-05-09T13:31:07.112417Z",
     "iopub.status.busy": "2022-05-09T13:31:07.111993Z",
     "iopub.status.idle": "2022-05-09T13:31:07.118027Z",
     "shell.execute_reply": "2022-05-09T13:31:07.116747Z",
     "shell.execute_reply.started": "2022-05-09T13:31:07.112380Z"
    }
   },
   "outputs": [],
   "source": [
    "warnings.simplefilter(action='ignore', category=FutureWarning)"
   ]
  },
  {
   "cell_type": "code",
   "execution_count": 8,
   "metadata": {
    "execution": {
     "iopub.execute_input": "2022-05-09T13:31:09.049717Z",
     "iopub.status.busy": "2022-05-09T13:31:09.049141Z",
     "iopub.status.idle": "2022-05-09T13:40:30.569800Z",
     "shell.execute_reply": "2022-05-09T13:40:30.568563Z",
     "shell.execute_reply.started": "2022-05-09T13:31:09.049650Z"
    }
   },
   "outputs": [],
   "source": [
    "!python -m py7zr x ../input/tensorflow-speech-recognition-challenge/train.7z #kaggle notebook"
   ]
  },
  {
   "cell_type": "code",
   "execution_count": 9,
   "metadata": {
    "execution": {
     "iopub.execute_input": "2022-05-09T13:40:30.572284Z",
     "iopub.status.busy": "2022-05-09T13:40:30.571821Z",
     "iopub.status.idle": "2022-05-09T14:03:21.174298Z",
     "shell.execute_reply": "2022-05-09T14:03:21.173401Z",
     "shell.execute_reply.started": "2022-05-09T13:40:30.572245Z"
    }
   },
   "outputs": [],
   "source": [
    "!python -m py7zr x ../input/tensorflow-speech-recognition-challenge/test.7z #kaggle notebook"
   ]
  },
  {
   "cell_type": "code",
   "execution_count": 12,
   "metadata": {
    "execution": {
     "iopub.execute_input": "2022-05-09T14:04:29.569898Z",
     "iopub.status.busy": "2022-05-09T14:04:29.569429Z",
     "iopub.status.idle": "2022-05-09T14:04:29.576425Z",
     "shell.execute_reply": "2022-05-09T14:04:29.575634Z",
     "shell.execute_reply.started": "2022-05-09T14:04:29.569861Z"
    }
   },
   "outputs": [],
   "source": [
    "all_classes = ['one','go', 'two', 'seven', 'bird', 'eight', 'right', 'off', 'yes',\n",
    "       'stop', 'left', 'nine', 'cat', 'dog','three','on', 'zero', 'five', 'sheila','happy', 'wow', 'six' ,'house', 'marvin','no','four', 'tree' ,'down','bed','up']\n",
    "classes =[ \"yes\", \"no\", \"up\", \"down\", \"left\", \"right\", \"on\", \"off\", \"stop\", \"go\"]\n",
    "no_classes = list(set(all_classes) -  set(classes))\n",
    "special_classes = [\"silence\", \"unknown\"] "
   ]
  },
  {
   "cell_type": "code",
   "execution_count": 17,
   "metadata": {
    "execution": {
     "iopub.execute_input": "2022-05-09T14:05:08.334638Z",
     "iopub.status.busy": "2022-05-09T14:05:08.334356Z",
     "iopub.status.idle": "2022-05-09T14:05:08.350078Z",
     "shell.execute_reply": "2022-05-09T14:05:08.348964Z",
     "shell.execute_reply.started": "2022-05-09T14:05:08.334609Z"
    }
   },
   "outputs": [],
   "source": [
    "#https://pytorch.org/audio/stable/_modules/torchaudio/datasets/speechcommands.html\n",
    "def load_speechcommands_item( path: str,filepath: str):\n",
    "    label, filename = os.path.split(filepath)\n",
    "    waveform, sample_rate = torchaudio.load(path +'/'+ filepath)    \n",
    "    return label, waveform, sample_rate\n",
    "    \n",
    "def _load_folder_list(root):\n",
    "    return  list(str(p)[len(root)- 1:] for p in Path(root).glob(\"*/*.wav\"))\n",
    "\n",
    "\n",
    "class _SpeechSubset(Dataset):\n",
    "    def __init__(self, root, subset, transformation = None):\n",
    "        self.root = root\n",
    "        self.subset = subset\n",
    "        self.transformation = transformation\n",
    "    \n",
    "    def __len__(self):\n",
    "        return len(self.subset)\n",
    "    \n",
    "    def __getitem__(self, idx):\n",
    "        filepath = self.subset[idx]\n",
    "        label, waveform, sample_rate = load_speechcommands_item(self.root, filepath)\n",
    "        if self.transformation is not None:\n",
    "            label, waveform, sample_rate = self.transformation(label, waveform, sample_rate)\n",
    "        return waveform, sample_rate, label,\n",
    "    \n",
    "\n",
    "        \n",
    "    \n",
    "\n",
    "class SpeechDataset():\n",
    "    def __init__(self, root, train_size = None, exclude = None, transformation = None, ):\n",
    "        self.root = root\n",
    "        self.train_size = train_size\n",
    "        self.transformation = transformation\n",
    "        self.dataset = _load_folder_list(self.root)\n",
    "        \n",
    "        if exclude is not None:\n",
    "            self.dataset = [x for x in self.dataset if exclude(x) == False]\n",
    "            \n",
    "        if self.train_size is not None:\n",
    "            self.train_subset, self.val_subset = train_test_split(self.dataset, train_size=self.train_size)\n",
    "     \n",
    "    def __getSubset(self, name):\n",
    "        if name == \"train\":\n",
    "            return _SpeechSubset(self.root, self.train_subset, transformation = self.transformation)\n",
    "        elif name == \"val\":\n",
    "            return _SpeechSubset(self.root, self.val_subset, transformation = self.transformation)\n",
    "        elif name == \"train+val\":\n",
    "            return _SpeechSubset(self.root,  self.dataset, transformation = self.transformation)\n",
    "        else:\n",
    "            return None\n",
    "            \n",
    "    def getTrainSubset(self,):\n",
    "        return self.__getSubset(\"train\")\n",
    "    \n",
    "    def getValidationSubset(self):\n",
    "        return self.__getSubset(\"val\")\n",
    "    \n",
    "    def getTrainValidationSubset(self):\n",
    "        return self.__getSubset(\"train+val\")\n",
    "    \n",
    "    def getFilenames(self):\n",
    "        return self.dataset"
   ]
  },
  {
   "cell_type": "code",
   "execution_count": 14,
   "metadata": {
    "execution": {
     "iopub.execute_input": "2022-05-09T14:04:37.500957Z",
     "iopub.status.busy": "2022-05-09T14:04:37.500182Z",
     "iopub.status.idle": "2022-05-09T14:04:37.901598Z",
     "shell.execute_reply": "2022-05-09T14:04:37.900658Z",
     "shell.execute_reply.started": "2022-05-09T14:04:37.500905Z"
    }
   },
   "outputs": [],
   "source": [
    "dataset_noise = SpeechDataset(\"./train/audio\",None, exclude = lambda x: x.startswith('_background_noise_') == False)\n",
    "\n",
    "whole_set_noise = dataset_noise.getTrainValidationSubset()"
   ]
  },
  {
   "cell_type": "code",
   "execution_count": 15,
   "metadata": {
    "execution": {
     "iopub.execute_input": "2022-05-09T14:04:49.771733Z",
     "iopub.status.busy": "2022-05-09T14:04:49.771445Z",
     "iopub.status.idle": "2022-05-09T14:04:49.781460Z",
     "shell.execute_reply": "2022-05-09T14:04:49.780653Z",
     "shell.execute_reply.started": "2022-05-09T14:04:49.771701Z"
    }
   },
   "outputs": [
    {
     "data": {
      "text/plain": [
       "['_background_noise_/dude_miaowing.wav',\n",
       " '_background_noise_/pink_noise.wav',\n",
       " '_background_noise_/running_tap.wav',\n",
       " '_background_noise_/exercise_bike.wav',\n",
       " '_background_noise_/white_noise.wav',\n",
       " '_background_noise_/doing_the_dishes.wav']"
      ]
     },
     "execution_count": 15,
     "metadata": {},
     "output_type": "execute_result"
    }
   ],
   "source": [
    "dataset_noise.getFilenames()"
   ]
  },
  {
   "cell_type": "code",
   "execution_count": 18,
   "metadata": {
    "execution": {
     "iopub.execute_input": "2022-05-09T14:05:57.832102Z",
     "iopub.status.busy": "2022-05-09T14:05:57.831841Z",
     "iopub.status.idle": "2022-05-09T14:05:58.237305Z",
     "shell.execute_reply": "2022-05-09T14:05:58.236557Z",
     "shell.execute_reply.started": "2022-05-09T14:05:57.832074Z"
    }
   },
   "outputs": [
    {
     "data": {
      "text/plain": [
       "(torch.Size([1, 988891]), 0.75177, 61.8056875)"
      ]
     },
     "execution_count": 18,
     "metadata": {},
     "output_type": "execute_result"
    },
    {
     "data": {
      "image/png": "[encoded data removed]",
      "text/plain": [
       "<Figure size 432x288 with 1 Axes>"
      ]
     },
     "metadata": {
      "needs_background": "light"
     },
     "output_type": "display_data"
    }
   ],
   "source": [
    "waveform, sample_rate, label,= whole_set_noise[0]\n",
    "\n",
    "plt.plot(waveform.t().numpy());\n",
    "waveform.shape, waveform.t().numpy().max(), len(waveform[0]) / 16000"
   ]
  },
  {
   "cell_type": "code",
   "execution_count": 19,
   "metadata": {
    "execution": {
     "iopub.execute_input": "2022-05-09T14:06:04.705261Z",
     "iopub.status.busy": "2022-05-09T14:06:04.704997Z",
     "iopub.status.idle": "2022-05-09T14:06:05.767951Z",
     "shell.execute_reply": "2022-05-09T14:06:05.767216Z",
     "shell.execute_reply.started": "2022-05-09T14:06:04.705231Z"
    }
   },
   "outputs": [
    {
     "name": "stdout",
     "output_type": "stream",
     "text": [
      "\n",
      "\n",
      "\n",
      "\n",
      "\n",
      "\n"
     ]
    }
   ],
   "source": [
    "shutil.rmtree('./train/audio/silence', ignore_errors=True)\n",
    "Path(\"./train/audio/silence\").mkdir(parents=True, exist_ok=True)\n",
    "\n",
    "low_sum_by_second = 0.5\n",
    "\n",
    "max_ratio_level = 1\n",
    "multiplication = 5\n",
    "\n",
    "\n",
    "for z,(w,s,l) in enumerate(whole_set_noise):\n",
    "    min_val = len(w[0]) / (s * float(w[0].abs().sum())) * low_sum_by_second\n",
    "    step = (max_ratio_level - min_val) / multiplication\n",
    "    print()\n",
    "    for i in range(multiplication +1):\n",
    "        ratio = min_val + step * i\n",
    "        wave = w * ratio\n",
    "        wave_split = wave.split(16000, dim = 1)\n",
    "        for j,w1 in enumerate(wave_split):\n",
    "            Path(\"./train/audio/silence\").mkdir(parents=True, exist_ok=True)\n",
    "            torchaudio.save('./train/audio/silence/'+str(z) + \"_\" +str(i) + \"_\" + str(j)+'.wav', w1, 16000)"
   ]
  },
  {
   "cell_type": "code",
   "execution_count": 20,
   "metadata": {
    "execution": {
     "iopub.execute_input": "2022-05-09T14:06:25.500410Z",
     "iopub.status.busy": "2022-05-09T14:06:25.500152Z",
     "iopub.status.idle": "2022-05-09T14:06:25.852210Z",
     "shell.execute_reply": "2022-05-09T14:06:25.851458Z",
     "shell.execute_reply.started": "2022-05-09T14:06:25.500381Z"
    }
   },
   "outputs": [],
   "source": [
    "dataset_silence = SpeechDataset(\"./train/audio\",None, exclude = lambda x: x.startswith('silence') == False)\n",
    "\n",
    "\n",
    "whole_set_silence = dataset_silence.getTrainValidationSubset()\n"
   ]
  },
  {
   "cell_type": "code",
   "execution_count": 21,
   "metadata": {
    "execution": {
     "iopub.execute_input": "2022-05-09T14:06:45.282116Z",
     "iopub.status.busy": "2022-05-09T14:06:45.281532Z",
     "iopub.status.idle": "2022-05-09T14:06:45.288316Z",
     "shell.execute_reply": "2022-05-09T14:06:45.287540Z",
     "shell.execute_reply.started": "2022-05-09T14:06:45.282074Z"
    }
   },
   "outputs": [
    {
     "data": {
      "text/plain": [
       "2412"
      ]
     },
     "execution_count": 21,
     "metadata": {},
     "output_type": "execute_result"
    }
   ],
   "source": [
    "len(whole_set_silence)"
   ]
  },
  {
   "cell_type": "code",
   "execution_count": 23,
   "metadata": {
    "execution": {
     "iopub.execute_input": "2022-05-09T14:06:54.160323Z",
     "iopub.status.busy": "2022-05-09T14:06:54.159868Z",
     "iopub.status.idle": "2022-05-09T14:06:54.164122Z",
     "shell.execute_reply": "2022-05-09T14:06:54.163461Z",
     "shell.execute_reply.started": "2022-05-09T14:06:54.160284Z"
    }
   },
   "outputs": [],
   "source": [
    "def unkownTransformation(label, waveform, sample_rate):\n",
    "    if label in no_classes:\n",
    "        label = \"unknown\"\n",
    "    return label, waveform, sample_rate"
   ]
  },
  {
   "cell_type": "code",
   "execution_count": 24,
   "metadata": {
    "execution": {
     "iopub.execute_input": "2022-05-09T14:07:45.241281Z",
     "iopub.status.busy": "2022-05-09T14:07:45.241004Z",
     "iopub.status.idle": "2022-05-09T14:07:45.604860Z",
     "shell.execute_reply": "2022-05-09T14:07:45.604129Z",
     "shell.execute_reply.started": "2022-05-09T14:07:45.241250Z"
    }
   },
   "outputs": [],
   "source": [
    "dataset = SpeechDataset(\"./train/audio\",0.7, exclude = lambda x: x.startswith('_background_noise_'),transformation = unkownTransformation)\n",
    "\n",
    "train_set = dataset.getTrainSubset()\n",
    "val_set = dataset.getValidationSubset()\n",
    "whole_set = dataset.getTrainValidationSubset()\n"
   ]
  },
  {
   "cell_type": "code",
   "execution_count": 25,
   "metadata": {
    "execution": {
     "iopub.execute_input": "2022-05-09T14:07:48.680429Z",
     "iopub.status.busy": "2022-05-09T14:07:48.680109Z",
     "iopub.status.idle": "2022-05-09T14:07:48.946966Z",
     "shell.execute_reply": "2022-05-09T14:07:48.946290Z",
     "shell.execute_reply.started": "2022-05-09T14:07:48.680389Z"
    }
   },
   "outputs": [
    {
     "name": "stdout",
     "output_type": "stream",
     "text": [
      "46993 20140 67133\n"
     ]
    },
    {
     "data": {
      "text/plain": [
       "torch.Size([1, 16000])"
      ]
     },
     "execution_count": 25,
     "metadata": {},
     "output_type": "execute_result"
    },
    {
     "data": {
      "image/png": "[encoded data removed]",
      "text/plain": [
       "<Figure size 432x288 with 1 Axes>"
      ]
     },
     "metadata": {
      "needs_background": "light"
     },
     "output_type": "display_data"
    }
   ],
   "source": [
    "\n",
    "print(len(train_set), len(val_set), len(whole_set))\n",
    "\n",
    "waveform, sample_rate, label,= train_set[0]\n",
    "\n",
    "plt.plot(waveform.t().numpy());\n",
    "waveform.shape"
   ]
  },
  {
   "cell_type": "code",
   "execution_count": 120,
   "metadata": {
    "execution": {
     "iopub.execute_input": "2022-05-09T15:29:52.758211Z",
     "iopub.status.busy": "2022-05-09T15:29:52.757597Z",
     "iopub.status.idle": "2022-05-09T15:29:52.764370Z",
     "shell.execute_reply": "2022-05-09T15:29:52.763679Z",
     "shell.execute_reply.started": "2022-05-09T15:29:52.758173Z"
    }
   },
   "outputs": [
    {
     "data": {
      "text/plain": [
       "['silence',\n",
       " 'unknown',\n",
       " 'yes',\n",
       " 'no',\n",
       " 'up',\n",
       " 'down',\n",
       " 'left',\n",
       " 'right',\n",
       " 'on',\n",
       " 'off',\n",
       " 'stop',\n",
       " 'go']"
      ]
     },
     "execution_count": 120,
     "metadata": {},
     "output_type": "execute_result"
    }
   ],
   "source": [
    "labels = special_classes + classes\n",
    "labels"
   ]
  },
  {
   "cell_type": "code",
   "execution_count": 32,
   "metadata": {
    "execution": {
     "iopub.execute_input": "2022-05-09T14:09:13.242965Z",
     "iopub.status.busy": "2022-05-09T14:09:13.242657Z",
     "iopub.status.idle": "2022-05-09T14:10:07.461201Z",
     "shell.execute_reply": "2022-05-09T14:10:07.460496Z",
     "shell.execute_reply.started": "2022-05-09T14:09:13.242935Z"
    }
   },
   "outputs": [
    {
     "data": {
      "text/plain": [
       "array([['2359', 'down'],\n",
       "       ['2372', 'go'],\n",
       "       ['2353', 'left'],\n",
       "       ['2375', 'no'],\n",
       "       ['2357', 'off'],\n",
       "       ['2367', 'on'],\n",
       "       ['2367', 'right'],\n",
       "       ['2412', 'silence'],\n",
       "       ['2380', 'stop'],\n",
       "       ['41039', 'unknown'],\n",
       "       ['2375', 'up'],\n",
       "       ['2377', 'yes']], dtype='<U21')"
      ]
     },
     "execution_count": 32,
     "metadata": {},
     "output_type": "execute_result"
    }
   ],
   "source": [
    "unique, counts = np.unique([x[2] for x in whole_set], return_counts=True)\n",
    "result = np.column_stack((unique, counts))\n",
    "result.sort(axis = 1)\n",
    "result"
   ]
  },
  {
   "cell_type": "code",
   "execution_count": 33,
   "metadata": {
    "execution": {
     "iopub.execute_input": "2022-05-09T14:11:06.556368Z",
     "iopub.status.busy": "2022-05-09T14:11:06.555574Z",
     "iopub.status.idle": "2022-05-09T14:11:06.562987Z",
     "shell.execute_reply": "2022-05-09T14:11:06.562247Z",
     "shell.execute_reply.started": "2022-05-09T14:11:06.556327Z"
    }
   },
   "outputs": [
    {
     "name": "stdout",
     "output_type": "stream",
     "text": [
      "yes --> tensor(2) --> yes\n"
     ]
    }
   ],
   "source": [
    "def label_to_index(word):\n",
    "    # Return the position of the word in labels\n",
    "    return torch.tensor(labels.index(word))\n",
    "\n",
    "\n",
    "def index_to_label(index):\n",
    "    # Return the word corresponding to the index in labels\n",
    "    # This is the inverse of label_to_index\n",
    "    return labels[index]\n",
    "\n",
    "\n",
    "word_start = \"yes\"\n",
    "index = label_to_index(word_start)\n",
    "word_recovered = index_to_label(index)\n",
    "\n",
    "print(word_start, \"-->\", index, \"-->\", word_recovered)"
   ]
  },
  {
   "cell_type": "code",
   "execution_count": 34,
   "metadata": {
    "execution": {
     "iopub.execute_input": "2022-05-09T14:11:13.584321Z",
     "iopub.status.busy": "2022-05-09T14:11:13.583767Z",
     "iopub.status.idle": "2022-05-09T14:11:13.595211Z",
     "shell.execute_reply": "2022-05-09T14:11:13.594349Z",
     "shell.execute_reply.started": "2022-05-09T14:11:13.584280Z"
    }
   },
   "outputs": [],
   "source": [
    "def pad_sequence(batch):\n",
    "    # Make all tensor in a batch the same length by padding with zeros\n",
    "    batch = [item.t() for item in batch]\n",
    "    batch = torch.nn.utils.rnn.pad_sequence(batch, batch_first=True, padding_value=0.)\n",
    "    return batch.permute(0, 2, 1)\n",
    "\n",
    "\n",
    "\n",
    "\n",
    "def collate_fn(batch):\n",
    "\n",
    "    # A data tuple has the form:\n",
    "    # waveform, sample_rate, label, speaker_id, utterance_number\n",
    "\n",
    "    tensors, targets = [], []\n",
    "\n",
    "    # Gather in lists, and encode labels as indices\n",
    "    for waveform, _, label  in batch:\n",
    "        tensors += [waveform]\n",
    "        targets += [label_to_index(label)]\n",
    "\n",
    "    # Group the list of tensors into a batched tensor\n",
    "    tensors = pad_sequence(tensors)\n",
    "    targets = torch.stack(targets)\n",
    "\n",
    "    return tensors, targets\n",
    "\n",
    "\n",
    "batch_size = 256\n",
    "\n",
    "train_loader = DataLoader(\n",
    "    train_set,\n",
    "    batch_size=batch_size,\n",
    "    shuffle=True,\n",
    "    collate_fn=collate_fn,\n",
    "    pin_memory=True,\n",
    ")\n",
    "val_loader = DataLoader(\n",
    "    val_set,\n",
    "    batch_size=batch_size,\n",
    "    shuffle=False,\n",
    "    drop_last=False,\n",
    "    collate_fn=collate_fn,\n",
    "    pin_memory=True,\n",
    ")"
   ]
  },
  {
   "cell_type": "code",
   "execution_count": null,
   "metadata": {
    "execution": {
     "iopub.status.busy": "2022-04-19T13:27:23.472738Z",
     "iopub.status.idle": "2022-04-19T13:27:23.473775Z",
     "shell.execute_reply": "2022-04-19T13:27:23.473481Z",
     "shell.execute_reply.started": "2022-04-19T13:27:23.473448Z"
    },
    "jupyter": {
     "source_hidden": true
    }
   },
   "outputs": [],
   "source": [
    "class M5(nn.Module):\n",
    "    def __init__(self, n_input=1, n_output=35, stride=16, n_channel=32):\n",
    "        super().__init__()\n",
    "        self.conv1 = nn.Conv1d(n_input, n_channel, kernel_size=80, stride=stride)\n",
    "        self.bn1 = nn.BatchNorm1d(n_channel)\n",
    "        self.pool1 = nn.MaxPool1d(4)\n",
    "        self.conv2 = nn.Conv1d(n_channel, n_channel, kernel_size=3)\n",
    "        self.bn2 = nn.BatchNorm1d(n_channel)\n",
    "        self.pool2 = nn.MaxPool1d(4)\n",
    "        self.conv3 = nn.Conv1d(n_channel, 2 * n_channel, kernel_size=3)\n",
    "        self.bn3 = nn.BatchNorm1d(2 * n_channel)\n",
    "        self.pool3 = nn.MaxPool1d(4)\n",
    "        self.conv4 = nn.Conv1d(2 * n_channel, 2 * n_channel, kernel_size=3)\n",
    "        self.bn4 = nn.BatchNorm1d(2 * n_channel)\n",
    "        self.pool4 = nn.MaxPool1d(4)\n",
    "        self.fc1 = nn.Linear(2 * n_channel, n_output)\n",
    "\n",
    "    def forward(self, x):\n",
    "        x = self.conv1(x)\n",
    "        x = F.relu(self.bn1(x))\n",
    "        x = self.pool1(x)\n",
    "        x = self.conv2(x)\n",
    "        x = F.relu(self.bn2(x))\n",
    "        x = self.pool2(x)\n",
    "        x = self.conv3(x)\n",
    "        x = F.relu(self.bn3(x))\n",
    "        x = self.pool3(x)\n",
    "        x = self.conv4(x)\n",
    "        x = F.relu(self.bn4(x))\n",
    "        x = self.pool4(x)\n",
    "        x = F.avg_pool1d(x, x.shape[-1])\n",
    "        x = x.permute(0, 2, 1)\n",
    "        x = self.fc1(x)\n",
    "        \n",
    "        return x\n",
    "\n",
    "\n",
    "model = M5(n_input=1, n_output=len(labels)).cuda()"
   ]
  },
  {
   "cell_type": "code",
   "execution_count": null,
   "metadata": {
    "execution": {
     "iopub.status.busy": "2022-04-19T13:27:23.475258Z",
     "iopub.status.idle": "2022-04-19T13:27:23.476421Z",
     "shell.execute_reply": "2022-04-19T13:27:23.47612Z",
     "shell.execute_reply.started": "2022-04-19T13:27:23.476079Z"
    },
    "jupyter": {
     "source_hidden": true
    }
   },
   "outputs": [],
   "source": [
    "from torch.autograd import Variable \n",
    "class LSTM1(nn.Module):\n",
    "    def __init__(self, input_size, num_classes, hidden_size = 2, num_layers = 8):\n",
    "        super(LSTM1, self).__init__()\n",
    "        self.num_classes = num_classes #number of classes\n",
    "        self.num_layers = num_layers #number of layers\n",
    "        self.input_size = input_size #input size\n",
    "        self.hidden_size = hidden_size #hidden state\n",
    "        self.lstm = nn.LSTM(input_size=input_size, hidden_size=hidden_size,\n",
    "                          num_layers=num_layers, batch_first=True) #lstm\n",
    "        self.fc_1 =  nn.Linear(hidden_size, 128) #fully connected 1\n",
    "        self.fc = nn.Linear(496, num_classes) #fully connected last layer\n",
    "\n",
    "        self.relu = nn.ReLU()\n",
    "    \n",
    "    def forward(self,x):\n",
    "        h_0 = torch.zeros(self.num_layers, x.size(0), self.hidden_size).cuda() #hidden state\n",
    "        c_0 = torch.zeros(self.num_layers, x.size(0), self.hidden_size).cuda() #internal state\n",
    "        # Propagate input through LSTM\n",
    "        output, (hn, cn) = self.lstm(x, (h_0,c_0)) #lstm with input, hidden, and internal state\n",
    "        output = output.view(-1, self.hidden_size) #reshaping the data for Dense layer next\n",
    "        out = self.relu(output)\n",
    "        out = self.fc_1(out) #first Dense\n",
    "        out = self.relu(out) #relu\n",
    "        out = self.fc(out) #Final Output\n",
    "        return out\n",
    "    \n"
   ]
  },
  {
   "cell_type": "code",
   "execution_count": null,
   "metadata": {
    "execution": {
     "iopub.status.busy": "2022-04-19T13:27:23.478198Z",
     "iopub.status.idle": "2022-04-19T13:27:23.478751Z",
     "shell.execute_reply": "2022-04-19T13:27:23.478489Z",
     "shell.execute_reply.started": "2022-04-19T13:27:23.478458Z"
    },
    "jupyter": {
     "source_hidden": true
    }
   },
   "outputs": [],
   "source": [
    "class RNN(nn.Module):\n",
    "    def __init__(self, input_size, hidden_size, num_layers, num_classes):\n",
    "        super(RNN, self).__init__()\n",
    "        self.hidden_size = hidden_size\n",
    "        self.num_layers = num_layers\n",
    "        self.lstm = nn.LSTM(input_size, hidden_size, num_layers, batch_first=True, dropout = 0.5)\n",
    "        self.fc = nn.Linear(hidden_size, num_classes)\n",
    "    \n",
    "    def forward(self, x):\n",
    "        # Set initial hidden and cell states \n",
    "        h0 = torch.zeros(self.num_layers, x.size(0), self.hidden_size).cuda()\n",
    "        c0 = torch.zeros(self.num_layers, x.size(0), self.hidden_size).cuda()\n",
    "        \n",
    "        # Forward propagate LSTM\n",
    "        out, (h,c) = self.lstm(x, (h0, c0))  # out: tensor of shape (batch_size, seq_length, hidden_size)\n",
    "        \n",
    "        # Decode the hidden state of the last time step\n",
    "        out = h[-1, :, :]\n",
    "        out = self.fc(out)\n",
    "        out = F.dropout(out, 0.3)\n",
    "        return out"
   ]
  },
  {
   "cell_type": "code",
   "execution_count": 35,
   "metadata": {
    "execution": {
     "iopub.execute_input": "2022-05-09T14:11:26.491438Z",
     "iopub.status.busy": "2022-05-09T14:11:26.491134Z",
     "iopub.status.idle": "2022-05-09T14:11:26.504149Z",
     "shell.execute_reply": "2022-05-09T14:11:26.503133Z",
     "shell.execute_reply.started": "2022-05-09T14:11:26.491405Z"
    }
   },
   "outputs": [],
   "source": [
    "class RNN2(nn.Module):\n",
    "    def __init__(self, input_size, hidden_size, num_layers, num_classes):\n",
    "        super(RNN2, self).__init__()\n",
    "        self.hidden_size = hidden_size\n",
    "        self.num_layers = num_layers\n",
    "        self.conv1 = nn.Conv1d(1, 32, kernel_size=80, stride=4)\n",
    "        self.bn1 = nn.BatchNorm1d(32)\n",
    "        self.pool1 = nn.MaxPool1d(4)\n",
    "        self.conv2 = nn.Conv1d(32, 64, kernel_size=16, stride=1)\n",
    "        self.bn2 = nn.BatchNorm1d(64)\n",
    "        self.pool2 = nn.MaxPool1d(2)\n",
    "        self.lstm = nn.LSTM(980, hidden_size, num_layers, batch_first=True, dropout = 0.3)\n",
    "        self.fc1 = nn.Linear(hidden_size, 128)\n",
    "        self.fc = nn.Linear(128, num_classes)\n",
    "    \n",
    "    def forward(self, x):\n",
    "        x = self.conv1(x)\n",
    "        x = F.relu(self.bn1(x))\n",
    "        x = self.pool1(x)\n",
    "        x = F.dropout(x, 0.2)\n",
    "        x = self.conv2(x)\n",
    "        x = F.relu(self.bn2(x))\n",
    "        #x= self.pool2(x)\n",
    "        # Set initial hidden and cell states \n",
    "        h0 = torch.zeros(self.num_layers, x.size(0), self.hidden_size).cuda()\n",
    "        c0 = torch.zeros(self.num_layers, x.size(0), self.hidden_size).cuda()\n",
    "        \n",
    "        # Forward propagate LSTM\n",
    "        out, (h,c) = self.lstm(x, (h0, c0))  # out: tensor of shape (batch_size, seq_length, hidden_size)\n",
    "        \n",
    "        # Decode the hidden state of the last time step\n",
    "        out = out[:, -1, :]\n",
    "        out = self.fc1(out)\n",
    "        out = F.dropout(out, 0.3)\n",
    "        out = self.fc(out)\n",
    "        return out"
   ]
  },
  {
   "cell_type": "markdown",
   "metadata": {},
   "source": []
  },
  {
   "cell_type": "code",
   "execution_count": 36,
   "metadata": {
    "execution": {
     "iopub.execute_input": "2022-05-09T14:11:43.103472Z",
     "iopub.status.busy": "2022-05-09T14:11:43.102742Z",
     "iopub.status.idle": "2022-05-09T14:11:48.540430Z",
     "shell.execute_reply": "2022-05-09T14:11:48.539717Z",
     "shell.execute_reply.started": "2022-05-09T14:11:43.103431Z"
    }
   },
   "outputs": [],
   "source": [
    "model4 = RNN2(16000, 512, 4, len(labels)).cuda()"
   ]
  },
  {
   "cell_type": "code",
   "execution_count": 121,
   "metadata": {
    "execution": {
     "iopub.execute_input": "2022-05-09T15:31:18.465202Z",
     "iopub.status.busy": "2022-05-09T15:31:18.464935Z",
     "iopub.status.idle": "2022-05-09T15:31:18.524099Z",
     "shell.execute_reply": "2022-05-09T15:31:18.523356Z",
     "shell.execute_reply.started": "2022-05-09T15:31:18.465173Z"
    }
   },
   "outputs": [
    {
     "name": "stdout",
     "output_type": "stream",
     "text": [
      "-------------------------------------------------------------------------------------------------\n",
      "      Layer (type)                                  Output Shape         Param #     Tr. Param #\n",
      "=================================================================================================\n",
      "          Conv1d-1                                [64, 32, 3981]           2,592           2,592\n",
      "     BatchNorm1d-2                                [64, 32, 3981]              64              64\n",
      "       MaxPool1d-3                                 [64, 32, 995]               0               0\n",
      "          Conv1d-4                                 [64, 64, 980]          32,832          32,832\n",
      "     BatchNorm1d-5                                 [64, 64, 980]             128             128\n",
      "            LSTM-6     [64, 64, 512], [4, 64, 512], [4, 64, 512]       9,363,456       9,363,456\n",
      "          Linear-7                                     [64, 128]          65,664          65,664\n",
      "          Linear-8                                      [64, 12]           1,548           1,548\n",
      "=================================================================================================\n",
      "Total params: 9,466,284\n",
      "Trainable params: 9,466,284\n",
      "Non-trainable params: 0\n",
      "-------------------------------------------------------------------------------------------------\n"
     ]
    }
   ],
   "source": [
    "print(summ(model4, torch.zeros((64,1,16000)).cuda(), show_input=False))"
   ]
  },
  {
   "cell_type": "code",
   "execution_count": 122,
   "metadata": {
    "execution": {
     "iopub.execute_input": "2022-05-09T15:31:21.385292Z",
     "iopub.status.busy": "2022-05-09T15:31:21.384921Z",
     "iopub.status.idle": "2022-05-09T15:31:21.400687Z",
     "shell.execute_reply": "2022-05-09T15:31:21.399836Z",
     "shell.execute_reply.started": "2022-05-09T15:31:21.385246Z"
    }
   },
   "outputs": [
    {
     "name": "stdout",
     "output_type": "stream",
     "text": [
      "-------------------------------------------------------------------------------------------------\n",
      "      Layer (type)                                   Input Shape         Param #     Tr. Param #\n",
      "=================================================================================================\n",
      "          Conv1d-1                                [64, 1, 16000]           2,592           2,592\n",
      "     BatchNorm1d-2                                [64, 32, 3981]              64              64\n",
      "       MaxPool1d-3                                [64, 32, 3981]               0               0\n",
      "          Conv1d-4                                 [64, 32, 995]          32,832          32,832\n",
      "     BatchNorm1d-5                                 [64, 64, 980]             128             128\n",
      "            LSTM-6     [64, 64, 980], [4, 64, 512], [4, 64, 512]       9,363,456       9,363,456\n",
      "          Linear-7                                     [64, 512]          65,664          65,664\n",
      "          Linear-8                                     [64, 128]           1,548           1,548\n",
      "=================================================================================================\n",
      "Total params: 9,466,284\n",
      "Trainable params: 9,466,284\n",
      "Non-trainable params: 0\n",
      "-------------------------------------------------------------------------------------------------\n"
     ]
    }
   ],
   "source": [
    "print(summ(model4, torch.zeros((64,1,16000)).cuda(), show_input=True))"
   ]
  },
  {
   "cell_type": "code",
   "execution_count": null,
   "metadata": {
    "execution": {
     "iopub.execute_input": "2022-05-08T09:25:32.741325Z",
     "iopub.status.busy": "2022-05-08T09:25:32.740844Z",
     "iopub.status.idle": "2022-05-08T09:25:32.752414Z",
     "shell.execute_reply": "2022-05-08T09:25:32.751636Z",
     "shell.execute_reply.started": "2022-05-08T09:25:32.74129Z"
    }
   },
   "outputs": [],
   "source": [
    "class UnkownPerformanceMetric():\n",
    "    def __init__(self, classes):\n",
    "        self.classes_indexes = torch.tensor([label_to_index(x) for x in classes])\n",
    "        self.correct = 0\n",
    "        self.count = 0\n",
    "    \n",
    "    def insert(self, input, target):\n",
    "        indices_input = torch.cat([(input == i).nonzero() for i in self.classes_indexes])\n",
    "        input[indices_input] = -1\n",
    "        indices_target = torch.cat([(target == i).nonzero() for i in self.classes_indexes])\n",
    "        target[indices_target] = -1\n",
    "        \n",
    "        values = (input==target)\n",
    "        self.correct += values.sum().item()\n",
    "        self.count += len(values)\n",
    "        \n",
    "    def print(self, reset = True):\n",
    "        agg = self.correct / self.count\n",
    "        print(\"UnkownPerformanceMetric: \", agg)\n",
    "        if reset:\n",
    "            self.reset()\n",
    "        \n",
    "    def reset(self):\n",
    "        self.correct = 0\n",
    "        self.count = 0\n",
    "        \n",
    "metrics1 = UnkownPerformanceMetric(no_classes)"
   ]
  },
  {
   "cell_type": "code",
   "execution_count": 37,
   "metadata": {
    "execution": {
     "iopub.execute_input": "2022-05-09T14:11:55.185341Z",
     "iopub.status.busy": "2022-05-09T14:11:55.185043Z",
     "iopub.status.idle": "2022-05-09T14:11:55.194749Z",
     "shell.execute_reply": "2022-05-09T14:11:55.192718Z",
     "shell.execute_reply.started": "2022-05-09T14:11:55.185308Z"
    }
   },
   "outputs": [],
   "source": [
    "class NotUnkownPerformanceMetric():\n",
    "    def __init__(self, unkownIndex):\n",
    "        self.unkownIndex = unkownIndex\n",
    "        self.correct = 0\n",
    "        self.count = 0\n",
    "    \n",
    "    def insert(self, input, target):\n",
    "        mask = target != self.unkownIndex\n",
    "        indices = torch.nonzero(mask)\n",
    "        values = (input==target)[indices]\n",
    "        self.correct += values.sum().item()\n",
    "        self.count += len(values)\n",
    "        \n",
    "    def print(self, reset = True):\n",
    "        agg = self.correct / self.count\n",
    "        print(\"NotUnkownPerformance: \", agg)\n",
    "        if reset:\n",
    "            self.reset()\n",
    "        \n",
    "    def reset(self):\n",
    "        self.correct = 0\n",
    "        self.count = 0\n",
    "        \n",
    "metrics = NotUnkownPerformanceMetric(int(label_to_index(\"unknown\")))"
   ]
  },
  {
   "cell_type": "code",
   "execution_count": 38,
   "metadata": {
    "execution": {
     "iopub.execute_input": "2022-05-09T14:12:06.803643Z",
     "iopub.status.busy": "2022-05-09T14:12:06.803378Z",
     "iopub.status.idle": "2022-05-09T14:12:06.818048Z",
     "shell.execute_reply": "2022-05-09T14:12:06.817249Z",
     "shell.execute_reply.started": "2022-05-09T14:12:06.803612Z"
    }
   },
   "outputs": [],
   "source": [
    "weight = torch.tensor([6.])\n",
    "weight = weight.repeat(12)\n",
    "weight[int(label_to_index(\"unknown\"))] = 1.\n",
    "weight = weight.cuda()"
   ]
  },
  {
   "cell_type": "code",
   "execution_count": 39,
   "metadata": {
    "execution": {
     "iopub.execute_input": "2022-05-09T14:12:12.251299Z",
     "iopub.status.busy": "2022-05-09T14:12:12.251030Z",
     "iopub.status.idle": "2022-05-09T14:12:12.269896Z",
     "shell.execute_reply": "2022-05-09T14:12:12.269156Z",
     "shell.execute_reply.started": "2022-05-09T14:12:12.251269Z"
    }
   },
   "outputs": [],
   "source": [
    "def train(model, train_dataloader, test_dataloader = None, num_epochs=1, lr=1e-3, keepBest = False, metrics = None, weight = None, augumentation = None):\n",
    "    optimizer = torch.optim.Adam(model.parameters(), lr=lr)\n",
    "    scheduler = optim.lr_scheduler.StepLR(optimizer, step_size=25, gamma=0.1)  \n",
    "\n",
    "    acc_train = np.empty([0])\n",
    "    acc_val = np.empty([0])\n",
    "\n",
    "    best_model_wts = None\n",
    "    best_acc = None\n",
    "\n",
    "    for epoch in range(num_epochs):\n",
    "        correct_train = 0\n",
    "        model.train()\n",
    "        \n",
    "        with tqdm(enumerate(train_dataloader), total=len(train_dataloader), desc=f'Training (epoch={epoch}/{num_epochs})') as epoch_progress:\n",
    "            for batch_idx, train_batch in epoch_progress:\n",
    "                x, y = train_batch      \n",
    "                x = x.cuda()\n",
    "                y = y.cuda()\n",
    "                if augumentation is not None:\n",
    "                    x = augumentation(x)\n",
    "                logits = model(x)\n",
    "\n",
    "                loss = F.cross_entropy(logits.squeeze(), y, weight = weight)\n",
    "                logits_argmax = logits.argmax(dim = -1).squeeze()\n",
    "                epoch_correct = (logits_argmax==y).sum().item()\n",
    "                                       \n",
    "\n",
    "                correct_train += epoch_correct\n",
    "                epoch_progress.set_postfix({'batch acc': epoch_correct / x.shape[0]})  \n",
    "\n",
    "                optimizer.zero_grad()\n",
    "                loss.backward()\n",
    "                optimizer.step()\n",
    "\n",
    "        train_cc = correct_train / len(train_dataloader.dataset)\n",
    "        acc_train = np.append(acc_train,train_cc)\n",
    "        print(\"Train acc \" + str(train_cc))\n",
    "        scheduler.step()\n",
    "\n",
    "        if test_dataloader is not None: \n",
    "            with torch.no_grad():\n",
    "                model.eval()\n",
    "                correct_val = 0\n",
    "                for test_batch in tqdm(test_dataloader, desc=\"Testing\"):\n",
    "                    x, y = test_batch\n",
    "                    x = x.cuda()\n",
    "                    y = y.cuda()\n",
    "\n",
    "                    logits = model(x)\n",
    "\n",
    "                    logits_argmax = logits.argmax(dim = -1).squeeze()\n",
    "                    epoch_correct = (logits_argmax==y).sum().item()\n",
    "                    \n",
    "                    if metrics is not None:\n",
    "                        metrics.insert(logits_argmax, y)\n",
    "\n",
    "                    correct_val += epoch_correct\n",
    "\n",
    "                val_acc = correct_val / len(test_dataloader.dataset)\n",
    "                acc_val = np.append(acc_val,val_acc)\n",
    "                print(\"Val acc \" + str(val_acc))\n",
    "                \n",
    "                if metrics is not None:\n",
    "                    metrics.print()\n",
    "\n",
    "                if best_acc is None or best_acc < val_acc:\n",
    "                    best_acc = val_acc\n",
    "                    best_model_wts = copy.deepcopy(model.state_dict())\n",
    "\n",
    "    if keepBest and test_dataloader is not None:\n",
    "        model.load_state_dict(best_model_wts)\n",
    "      \n",
    "    model.train()\n",
    "    return acc_train, acc_val"
   ]
  },
  {
   "cell_type": "code",
   "execution_count": 40,
   "metadata": {
    "execution": {
     "iopub.execute_input": "2022-05-09T14:12:23.425930Z",
     "iopub.status.busy": "2022-05-09T14:12:23.425109Z",
     "iopub.status.idle": "2022-05-09T14:36:58.858486Z",
     "shell.execute_reply": "2022-05-09T14:36:58.857539Z",
     "shell.execute_reply.started": "2022-05-09T14:12:23.425891Z"
    }
   },
   "outputs": [
    {
     "name": "stderr",
     "output_type": "stream",
     "text": [
      "Training (epoch=0/30): 100%|██████████| 184/184 [00:39<00:00,  4.71it/s, batch acc=0.559]\n"
     ]
    },
    {
     "name": "stdout",
     "output_type": "stream",
     "text": [
      "Train acc 0.559061987955653\n"
     ]
    },
    {
     "name": "stderr",
     "output_type": "stream",
     "text": [
      "Testing: 100%|██████████| 79/79 [00:10<00:00,  7.50it/s]\n"
     ]
    },
    {
     "name": "stdout",
     "output_type": "stream",
     "text": [
      "Val acc 0.49215491559086394\n",
      "NotUnkownPerformance:  0.21578345406023636\n"
     ]
    },
    {
     "name": "stderr",
     "output_type": "stream",
     "text": [
      "Training (epoch=1/30): 100%|██████████| 184/184 [00:39<00:00,  4.71it/s, batch acc=0.531]\n"
     ]
    },
    {
     "name": "stdout",
     "output_type": "stream",
     "text": [
      "Train acc 0.5300151086332007\n"
     ]
    },
    {
     "name": "stderr",
     "output_type": "stream",
     "text": [
      "Testing: 100%|██████████| 79/79 [00:10<00:00,  7.85it/s]\n"
     ]
    },
    {
     "name": "stdout",
     "output_type": "stream",
     "text": [
      "Val acc 0.6445878848063555\n",
      "NotUnkownPerformance:  0.6163426102427246\n"
     ]
    },
    {
     "name": "stderr",
     "output_type": "stream",
     "text": [
      "Training (epoch=2/30): 100%|██████████| 184/184 [00:38<00:00,  4.74it/s, batch acc=0.717]\n"
     ]
    },
    {
     "name": "stdout",
     "output_type": "stream",
     "text": [
      "Train acc 0.671674504713468\n"
     ]
    },
    {
     "name": "stderr",
     "output_type": "stream",
     "text": [
      "Testing: 100%|██████████| 79/79 [00:10<00:00,  7.68it/s]\n"
     ]
    },
    {
     "name": "stdout",
     "output_type": "stream",
     "text": [
      "Val acc 0.7526812313803376\n",
      "NotUnkownPerformance:  0.7786249841148811\n"
     ]
    },
    {
     "name": "stderr",
     "output_type": "stream",
     "text": [
      "Training (epoch=3/30): 100%|██████████| 184/184 [00:38<00:00,  4.73it/s, batch acc=0.834]\n"
     ]
    },
    {
     "name": "stdout",
     "output_type": "stream",
     "text": [
      "Train acc 0.7560913327516864\n"
     ]
    },
    {
     "name": "stderr",
     "output_type": "stream",
     "text": [
      "Testing: 100%|██████████| 79/79 [00:10<00:00,  7.81it/s]\n"
     ]
    },
    {
     "name": "stdout",
     "output_type": "stream",
     "text": [
      "Val acc 0.8236842105263158\n",
      "NotUnkownPerformance:  0.7291904943448977\n"
     ]
    },
    {
     "name": "stderr",
     "output_type": "stream",
     "text": [
      "Training (epoch=4/30): 100%|██████████| 184/184 [00:38<00:00,  4.73it/s, batch acc=0.8]  \n"
     ]
    },
    {
     "name": "stdout",
     "output_type": "stream",
     "text": [
      "Train acc 0.7900112782754879\n"
     ]
    },
    {
     "name": "stderr",
     "output_type": "stream",
     "text": [
      "Testing: 100%|██████████| 79/79 [00:10<00:00,  7.68it/s]\n"
     ]
    },
    {
     "name": "stdout",
     "output_type": "stream",
     "text": [
      "Val acc 0.817279046673287\n",
      "NotUnkownPerformance:  0.807726521794383\n"
     ]
    },
    {
     "name": "stderr",
     "output_type": "stream",
     "text": [
      "Training (epoch=5/30): 100%|██████████| 184/184 [00:38<00:00,  4.72it/s, batch acc=0.855]\n"
     ]
    },
    {
     "name": "stdout",
     "output_type": "stream",
     "text": [
      "Train acc 0.8104824122741685\n"
     ]
    },
    {
     "name": "stderr",
     "output_type": "stream",
     "text": [
      "Testing: 100%|██████████| 79/79 [00:10<00:00,  7.81it/s]\n"
     ]
    },
    {
     "name": "stdout",
     "output_type": "stream",
     "text": [
      "Val acc 0.8021350546176763\n",
      "NotUnkownPerformance:  0.8410217308425467\n"
     ]
    },
    {
     "name": "stderr",
     "output_type": "stream",
     "text": [
      "Training (epoch=6/30): 100%|██████████| 184/184 [00:38<00:00,  4.73it/s, batch acc=0.786]\n"
     ]
    },
    {
     "name": "stdout",
     "output_type": "stream",
     "text": [
      "Train acc 0.8309748260379205\n"
     ]
    },
    {
     "name": "stderr",
     "output_type": "stream",
     "text": [
      "Testing: 100%|██████████| 79/79 [00:10<00:00,  7.46it/s]\n"
     ]
    },
    {
     "name": "stdout",
     "output_type": "stream",
     "text": [
      "Val acc 0.8303872889771599\n",
      "NotUnkownPerformance:  0.8439445927055534\n"
     ]
    },
    {
     "name": "stderr",
     "output_type": "stream",
     "text": [
      "Training (epoch=7/30): 100%|██████████| 184/184 [00:39<00:00,  4.72it/s, batch acc=0.883]\n"
     ]
    },
    {
     "name": "stdout",
     "output_type": "stream",
     "text": [
      "Train acc 0.8416998276339029\n"
     ]
    },
    {
     "name": "stderr",
     "output_type": "stream",
     "text": [
      "Testing: 100%|██████████| 79/79 [00:10<00:00,  7.77it/s]\n"
     ]
    },
    {
     "name": "stdout",
     "output_type": "stream",
     "text": [
      "Val acc 0.858987090367428\n",
      "NotUnkownPerformance:  0.8372093023255814\n"
     ]
    },
    {
     "name": "stderr",
     "output_type": "stream",
     "text": [
      "Training (epoch=8/30): 100%|██████████| 184/184 [00:39<00:00,  4.71it/s, batch acc=0.897]\n"
     ]
    },
    {
     "name": "stdout",
     "output_type": "stream",
     "text": [
      "Train acc 0.8563190262379503\n"
     ]
    },
    {
     "name": "stderr",
     "output_type": "stream",
     "text": [
      "Testing: 100%|██████████| 79/79 [00:10<00:00,  7.54it/s]\n"
     ]
    },
    {
     "name": "stdout",
     "output_type": "stream",
     "text": [
      "Val acc 0.8559086395233366\n",
      "NotUnkownPerformance:  0.8581776591688905\n"
     ]
    },
    {
     "name": "stderr",
     "output_type": "stream",
     "text": [
      "Training (epoch=9/30): 100%|██████████| 184/184 [00:39<00:00,  4.71it/s, batch acc=0.855]\n"
     ]
    },
    {
     "name": "stdout",
     "output_type": "stream",
     "text": [
      "Train acc 0.8651288489775073\n"
     ]
    },
    {
     "name": "stderr",
     "output_type": "stream",
     "text": [
      "Testing: 100%|██████████| 79/79 [00:10<00:00,  7.82it/s]\n"
     ]
    },
    {
     "name": "stdout",
     "output_type": "stream",
     "text": [
      "Val acc 0.8612214498510427\n",
      "NotUnkownPerformance:  0.851823611640615\n"
     ]
    },
    {
     "name": "stderr",
     "output_type": "stream",
     "text": [
      "Training (epoch=10/30): 100%|██████████| 184/184 [00:38<00:00,  4.73it/s, batch acc=0.89] \n"
     ]
    },
    {
     "name": "stdout",
     "output_type": "stream",
     "text": [
      "Train acc 0.8704275104802843\n"
     ]
    },
    {
     "name": "stderr",
     "output_type": "stream",
     "text": [
      "Testing: 100%|██████████| 79/79 [00:10<00:00,  7.68it/s]\n"
     ]
    },
    {
     "name": "stdout",
     "output_type": "stream",
     "text": [
      "Val acc 0.8529294935451837\n",
      "NotUnkownPerformance:  0.8649129495488627\n"
     ]
    },
    {
     "name": "stderr",
     "output_type": "stream",
     "text": [
      "Training (epoch=11/30): 100%|██████████| 184/184 [00:38<00:00,  4.73it/s, batch acc=0.883]\n"
     ]
    },
    {
     "name": "stdout",
     "output_type": "stream",
     "text": [
      "Train acc 0.8820462622092652\n"
     ]
    },
    {
     "name": "stderr",
     "output_type": "stream",
     "text": [
      "Testing: 100%|██████████| 79/79 [00:10<00:00,  7.74it/s]\n"
     ]
    },
    {
     "name": "stdout",
     "output_type": "stream",
     "text": [
      "Val acc 0.883167825223436\n",
      "NotUnkownPerformance:  0.8481382640742152\n"
     ]
    },
    {
     "name": "stderr",
     "output_type": "stream",
     "text": [
      "Training (epoch=12/30): 100%|██████████| 184/184 [00:38<00:00,  4.73it/s, batch acc=0.917]\n"
     ]
    },
    {
     "name": "stdout",
     "output_type": "stream",
     "text": [
      "Train acc 0.8847062328431894\n"
     ]
    },
    {
     "name": "stderr",
     "output_type": "stream",
     "text": [
      "Testing: 100%|██████████| 79/79 [00:10<00:00,  7.64it/s]\n"
     ]
    },
    {
     "name": "stdout",
     "output_type": "stream",
     "text": [
      "Val acc 0.8773088381330685\n",
      "NotUnkownPerformance:  0.8485195069259118\n"
     ]
    },
    {
     "name": "stderr",
     "output_type": "stream",
     "text": [
      "Training (epoch=13/30): 100%|██████████| 184/184 [00:38<00:00,  4.72it/s, batch acc=0.883]\n"
     ]
    },
    {
     "name": "stdout",
     "output_type": "stream",
     "text": [
      "Train acc 0.8930266209861043\n"
     ]
    },
    {
     "name": "stderr",
     "output_type": "stream",
     "text": [
      "Testing: 100%|██████████| 79/79 [00:10<00:00,  7.79it/s]\n"
     ]
    },
    {
     "name": "stdout",
     "output_type": "stream",
     "text": [
      "Val acc 0.8761171797418074\n",
      "NotUnkownPerformance:  0.8525860973440081\n"
     ]
    },
    {
     "name": "stderr",
     "output_type": "stream",
     "text": [
      "Training (epoch=14/30): 100%|██████████| 184/184 [00:38<00:00,  4.73it/s, batch acc=0.903]\n"
     ]
    },
    {
     "name": "stdout",
     "output_type": "stream",
     "text": [
      "Train acc 0.8984955206094525\n"
     ]
    },
    {
     "name": "stderr",
     "output_type": "stream",
     "text": [
      "Testing: 100%|██████████| 79/79 [00:10<00:00,  7.70it/s]\n"
     ]
    },
    {
     "name": "stdout",
     "output_type": "stream",
     "text": [
      "Val acc 0.8780039721946375\n",
      "NotUnkownPerformance:  0.8663108400050832\n"
     ]
    },
    {
     "name": "stderr",
     "output_type": "stream",
     "text": [
      "Training (epoch=15/30): 100%|██████████| 184/184 [00:38<00:00,  4.73it/s, batch acc=0.89] \n"
     ]
    },
    {
     "name": "stdout",
     "output_type": "stream",
     "text": [
      "Train acc 0.9054752835528695\n"
     ]
    },
    {
     "name": "stderr",
     "output_type": "stream",
     "text": [
      "Testing: 100%|██████████| 79/79 [00:10<00:00,  7.85it/s]\n"
     ]
    },
    {
     "name": "stdout",
     "output_type": "stream",
     "text": [
      "Val acc 0.8985104270109235\n",
      "NotUnkownPerformance:  0.8669462447579108\n"
     ]
    },
    {
     "name": "stderr",
     "output_type": "stream",
     "text": [
      "Training (epoch=16/30): 100%|██████████| 184/184 [00:38<00:00,  4.73it/s, batch acc=0.862]\n"
     ]
    },
    {
     "name": "stdout",
     "output_type": "stream",
     "text": [
      "Train acc 0.906581831336582\n"
     ]
    },
    {
     "name": "stderr",
     "output_type": "stream",
     "text": [
      "Testing: 100%|██████████| 79/79 [00:10<00:00,  7.63it/s]\n"
     ]
    },
    {
     "name": "stdout",
     "output_type": "stream",
     "text": [
      "Val acc 0.8462264150943396\n",
      "NotUnkownPerformance:  0.8598297115262422\n"
     ]
    },
    {
     "name": "stderr",
     "output_type": "stream",
     "text": [
      "Training (epoch=17/30): 100%|██████████| 184/184 [00:38<00:00,  4.72it/s, batch acc=0.931]\n"
     ]
    },
    {
     "name": "stdout",
     "output_type": "stream",
     "text": [
      "Train acc 0.9121996893154299\n"
     ]
    },
    {
     "name": "stderr",
     "output_type": "stream",
     "text": [
      "Testing: 100%|██████████| 79/79 [00:10<00:00,  7.79it/s]\n"
     ]
    },
    {
     "name": "stdout",
     "output_type": "stream",
     "text": [
      "Val acc 0.8885799404170804\n",
      "NotUnkownPerformance:  0.8722836446816622\n"
     ]
    },
    {
     "name": "stderr",
     "output_type": "stream",
     "text": [
      "Training (epoch=18/30): 100%|██████████| 184/184 [00:38<00:00,  4.73it/s, batch acc=0.89] \n"
     ]
    },
    {
     "name": "stdout",
     "output_type": "stream",
     "text": [
      "Train acc 0.9183708211861341\n"
     ]
    },
    {
     "name": "stderr",
     "output_type": "stream",
     "text": [
      "Testing: 100%|██████████| 79/79 [00:10<00:00,  7.72it/s]\n"
     ]
    },
    {
     "name": "stdout",
     "output_type": "stream",
     "text": [
      "Val acc 0.8772591857000993\n",
      "NotUnkownPerformance:  0.882958444529165\n"
     ]
    },
    {
     "name": "stderr",
     "output_type": "stream",
     "text": [
      "Training (epoch=19/30): 100%|██████████| 184/184 [00:39<00:00,  4.71it/s, batch acc=0.876]\n"
     ]
    },
    {
     "name": "stdout",
     "output_type": "stream",
     "text": [
      "Train acc 0.9213499882961292\n"
     ]
    },
    {
     "name": "stderr",
     "output_type": "stream",
     "text": [
      "Testing: 100%|██████████| 79/79 [00:10<00:00,  7.75it/s]\n"
     ]
    },
    {
     "name": "stdout",
     "output_type": "stream",
     "text": [
      "Val acc 0.8869910625620655\n",
      "NotUnkownPerformance:  0.8716482399288347\n"
     ]
    },
    {
     "name": "stderr",
     "output_type": "stream",
     "text": [
      "Training (epoch=20/30): 100%|██████████| 184/184 [00:38<00:00,  4.73it/s, batch acc=0.938]\n"
     ]
    },
    {
     "name": "stdout",
     "output_type": "stream",
     "text": [
      "Train acc 0.9209031132296299\n"
     ]
    },
    {
     "name": "stderr",
     "output_type": "stream",
     "text": [
      "Testing: 100%|██████████| 79/79 [00:09<00:00,  7.96it/s]\n"
     ]
    },
    {
     "name": "stdout",
     "output_type": "stream",
     "text": [
      "Val acc 0.8848560079443892\n",
      "NotUnkownPerformance:  0.8805439064684204\n"
     ]
    },
    {
     "name": "stderr",
     "output_type": "stream",
     "text": [
      "Training (epoch=21/30): 100%|██████████| 184/184 [00:38<00:00,  4.73it/s, batch acc=0.903]\n"
     ]
    },
    {
     "name": "stdout",
     "output_type": "stream",
     "text": [
      "Train acc 0.9261379354371928\n"
     ]
    },
    {
     "name": "stderr",
     "output_type": "stream",
     "text": [
      "Testing: 100%|██████████| 79/79 [00:10<00:00,  7.77it/s]\n"
     ]
    },
    {
     "name": "stdout",
     "output_type": "stream",
     "text": [
      "Val acc 0.898609731876862\n",
      "NotUnkownPerformance:  0.8792730969627652\n"
     ]
    },
    {
     "name": "stderr",
     "output_type": "stream",
     "text": [
      "Training (epoch=22/30): 100%|██████████| 184/184 [00:38<00:00,  4.73it/s, batch acc=0.931]\n"
     ]
    },
    {
     "name": "stdout",
     "output_type": "stream",
     "text": [
      "Train acc 0.9334581746217522\n"
     ]
    },
    {
     "name": "stderr",
     "output_type": "stream",
     "text": [
      "Testing: 100%|██████████| 79/79 [00:10<00:00,  7.72it/s]\n"
     ]
    },
    {
     "name": "stdout",
     "output_type": "stream",
     "text": [
      "Val acc 0.9009433962264151\n",
      "NotUnkownPerformance:  0.8806709874189859\n"
     ]
    },
    {
     "name": "stderr",
     "output_type": "stream",
     "text": [
      "Training (epoch=23/30): 100%|██████████| 184/184 [00:38<00:00,  4.73it/s, batch acc=0.91] \n"
     ]
    },
    {
     "name": "stdout",
     "output_type": "stream",
     "text": [
      "Train acc 0.9315217160002554\n"
     ]
    },
    {
     "name": "stderr",
     "output_type": "stream",
     "text": [
      "Testing: 100%|██████████| 79/79 [00:10<00:00,  7.79it/s]\n"
     ]
    },
    {
     "name": "stdout",
     "output_type": "stream",
     "text": [
      "Val acc 0.8978649453823238\n",
      "NotUnkownPerformance:  0.8616088448341593\n"
     ]
    },
    {
     "name": "stderr",
     "output_type": "stream",
     "text": [
      "Training (epoch=24/30): 100%|██████████| 184/184 [00:38<00:00,  4.73it/s, batch acc=0.917]\n"
     ]
    },
    {
     "name": "stdout",
     "output_type": "stream",
     "text": [
      "Train acc 0.9326495435490392\n"
     ]
    },
    {
     "name": "stderr",
     "output_type": "stream",
     "text": [
      "Testing: 100%|██████████| 79/79 [00:10<00:00,  7.79it/s]\n"
     ]
    },
    {
     "name": "stdout",
     "output_type": "stream",
     "text": [
      "Val acc 0.8876365441906653\n",
      "NotUnkownPerformance:  0.8767314779514551\n"
     ]
    },
    {
     "name": "stderr",
     "output_type": "stream",
     "text": [
      "Training (epoch=25/30): 100%|██████████| 184/184 [00:39<00:00,  4.71it/s, batch acc=0.952]\n"
     ]
    },
    {
     "name": "stdout",
     "output_type": "stream",
     "text": [
      "Train acc 0.9534398740237908\n"
     ]
    },
    {
     "name": "stderr",
     "output_type": "stream",
     "text": [
      "Testing: 100%|██████████| 79/79 [00:10<00:00,  7.72it/s]\n"
     ]
    },
    {
     "name": "stdout",
     "output_type": "stream",
     "text": [
      "Val acc 0.9145978152929494\n",
      "NotUnkownPerformance:  0.8914728682170543\n"
     ]
    },
    {
     "name": "stderr",
     "output_type": "stream",
     "text": [
      "Training (epoch=26/30): 100%|██████████| 184/184 [00:38<00:00,  4.73it/s, batch acc=0.972]\n"
     ]
    },
    {
     "name": "stdout",
     "output_type": "stream",
     "text": [
      "Train acc 0.9609729108590641\n"
     ]
    },
    {
     "name": "stderr",
     "output_type": "stream",
     "text": [
      "Testing: 100%|██████████| 79/79 [00:10<00:00,  7.82it/s]\n"
     ]
    },
    {
     "name": "stdout",
     "output_type": "stream",
     "text": [
      "Val acc 0.9182720953326713\n",
      "NotUnkownPerformance:  0.8952852967340196\n"
     ]
    },
    {
     "name": "stderr",
     "output_type": "stream",
     "text": [
      "Training (epoch=27/30): 100%|██████████| 184/184 [00:38<00:00,  4.73it/s, batch acc=0.972]\n"
     ]
    },
    {
     "name": "stdout",
     "output_type": "stream",
     "text": [
      "Train acc 0.9656544591747707\n"
     ]
    },
    {
     "name": "stderr",
     "output_type": "stream",
     "text": [
      "Testing: 100%|██████████| 79/79 [00:10<00:00,  7.65it/s]\n"
     ]
    },
    {
     "name": "stdout",
     "output_type": "stream",
     "text": [
      "Val acc 0.9203078450844091\n",
      "NotUnkownPerformance:  0.8931249205744058\n"
     ]
    },
    {
     "name": "stderr",
     "output_type": "stream",
     "text": [
      "Training (epoch=28/30): 100%|██████████| 184/184 [00:38<00:00,  4.73it/s, batch acc=0.972]\n"
     ]
    },
    {
     "name": "stdout",
     "output_type": "stream",
     "text": [
      "Train acc 0.9683569893388377\n"
     ]
    },
    {
     "name": "stderr",
     "output_type": "stream",
     "text": [
      "Testing: 100%|██████████| 79/79 [00:10<00:00,  7.78it/s]\n"
     ]
    },
    {
     "name": "stdout",
     "output_type": "stream",
     "text": [
      "Val acc 0.9239324726911619\n",
      "NotUnkownPerformance:  0.8947769729317575\n"
     ]
    },
    {
     "name": "stderr",
     "output_type": "stream",
     "text": [
      "Training (epoch=29/30): 100%|██████████| 184/184 [00:39<00:00,  4.72it/s, batch acc=0.993]\n"
     ]
    },
    {
     "name": "stdout",
     "output_type": "stream",
     "text": [
      "Train acc 0.9695060966526929\n"
     ]
    },
    {
     "name": "stderr",
     "output_type": "stream",
     "text": [
      "Testing: 100%|██████████| 79/79 [00:10<00:00,  7.77it/s]"
     ]
    },
    {
     "name": "stdout",
     "output_type": "stream",
     "text": [
      "Val acc 0.9234359483614697\n",
      "NotUnkownPerformance:  0.8956665395857161\n"
     ]
    },
    {
     "name": "stderr",
     "output_type": "stream",
     "text": [
      "\n"
     ]
    }
   ],
   "source": [
    "tr_loss, val_los = train(model4, train_loader, val_loader,num_epochs=30, lr = 0.001, keepBest = False, metrics= metrics, weight= weight)"
   ]
  },
  {
   "cell_type": "code",
   "execution_count": 41,
   "metadata": {
    "execution": {
     "iopub.execute_input": "2022-05-09T14:37:03.330524Z",
     "iopub.status.busy": "2022-05-09T14:37:03.329987Z",
     "iopub.status.idle": "2022-05-09T14:37:03.587204Z",
     "shell.execute_reply": "2022-05-09T14:37:03.586539Z",
     "shell.execute_reply.started": "2022-05-09T14:37:03.330486Z"
    }
   },
   "outputs": [
    {
     "data": {
      "text/plain": [
       "<matplotlib.legend.Legend at 0x7f2fe5d4b390>"
      ]
     },
     "execution_count": 41,
     "metadata": {},
     "output_type": "execute_result"
    },
    {
     "data": {
      "image/png": "[encoded data removed]",
      "text/plain": [
       "<Figure size 1200x880 with 1 Axes>"
      ]
     },
     "metadata": {
      "needs_background": "light"
     },
     "output_type": "display_data"
    }
   ],
   "source": [
    "figure(figsize=(15,11), dpi=80)\n",
    "plt.plot(range(1,31), tr_loss,label = \"Train acc\")\n",
    "plt.plot(range(1,31), val_los, label = \"Validation acc\")\n",
    "plt.legend()"
   ]
  },
  {
   "cell_type": "code",
   "execution_count": 42,
   "metadata": {
    "execution": {
     "iopub.execute_input": "2022-05-09T14:37:11.430177Z",
     "iopub.status.busy": "2022-05-09T14:37:11.429582Z",
     "iopub.status.idle": "2022-05-09T14:37:11.435493Z",
     "shell.execute_reply": "2022-05-09T14:37:11.434840Z",
     "shell.execute_reply.started": "2022-05-09T14:37:11.430139Z"
    }
   },
   "outputs": [],
   "source": [
    "def prediction(model,test_dataloader):\n",
    "    with torch.no_grad():\n",
    "        model.eval()\n",
    "        prediction = np.empty([0], dtype=np.int8)\n",
    "\n",
    "\n",
    "        for test_batch in tqdm(test_dataloader, desc=\"Testing\"):\n",
    "            x, _ = test_batch\n",
    "            x = x.cuda()\n",
    "            logits = model(x)\n",
    "            logits_argmax = logits.argmax(dim = -1).squeeze()\n",
    "            prediction = np.append(prediction,logits_argmax.cpu().numpy())\n",
    "    return prediction"
   ]
  },
  {
   "cell_type": "code",
   "execution_count": 43,
   "metadata": {
    "execution": {
     "iopub.execute_input": "2022-05-09T14:37:28.772167Z",
     "iopub.status.busy": "2022-05-09T14:37:28.771863Z",
     "iopub.status.idle": "2022-05-09T14:37:43.111999Z",
     "shell.execute_reply": "2022-05-09T14:37:43.111227Z",
     "shell.execute_reply.started": "2022-05-09T14:37:28.772124Z"
    }
   },
   "outputs": [
    {
     "name": "stderr",
     "output_type": "stream",
     "text": [
      "Testing: 100%|██████████| 79/79 [00:10<00:00,  7.63it/s]\n"
     ]
    }
   ],
   "source": [
    "from sklearn.metrics import confusion_matrix\n",
    "\n",
    "pred_val = prediction(model4, val_loader)\n",
    "\n",
    "true_labels = [label_to_index(x[2]) for x in val_set]\n",
    "\n",
    "cm = confusion_matrix(pred_val, true_labels)\n"
   ]
  },
  {
   "cell_type": "code",
   "execution_count": 44,
   "metadata": {
    "execution": {
     "iopub.execute_input": "2022-05-09T14:37:57.562509Z",
     "iopub.status.busy": "2022-05-09T14:37:57.562093Z",
     "iopub.status.idle": "2022-05-09T14:37:58.385235Z",
     "shell.execute_reply": "2022-05-09T14:37:58.384536Z",
     "shell.execute_reply.started": "2022-05-09T14:37:57.562471Z"
    }
   },
   "outputs": [
    {
     "data": {
      "image/png": "[encoded data removed]",
      "text/plain": [
       "<Figure size 1600x1600 with 2 Axes>"
      ]
     },
     "metadata": {
      "needs_background": "light"
     },
     "output_type": "display_data"
    }
   ],
   "source": [
    "import seaborn as sns\n",
    "\n",
    "figure(figsize=(20,20), dpi=80)\n",
    "\n",
    "ax = sns.heatmap(cm, annot=True, cmap='Blues')\n",
    "\n",
    "ax.set_title('LSTM\\n\\n');\n",
    "ax.set_xlabel('\\nPredicted Values')\n",
    "ax.set_ylabel('Actual Values ');\n",
    "\n",
    "## Ticket labels - List must be in alphabetical order\n",
    "ax.xaxis.set_ticklabels([index_to_label(x) for x in range(len(labels))])\n",
    "ax.yaxis.set_ticklabels([index_to_label(x) for x in range(len(labels))])\n",
    "\n",
    "## Display the visualization of the Confusion Matrix.\n",
    "plt.show()"
   ]
  },
  {
   "cell_type": "code",
   "execution_count": 45,
   "metadata": {
    "execution": {
     "iopub.execute_input": "2022-05-09T14:40:41.064769Z",
     "iopub.status.busy": "2022-05-09T14:40:41.064009Z",
     "iopub.status.idle": "2022-05-09T14:40:41.070024Z",
     "shell.execute_reply": "2022-05-09T14:40:41.069115Z",
     "shell.execute_reply.started": "2022-05-09T14:40:41.064730Z"
    }
   },
   "outputs": [],
   "source": [
    "def getSoftMax(model, dataloader):\n",
    "    with torch.no_grad():\n",
    "        model.eval()\n",
    "        outputs = []\n",
    "        for x,y in dataloader:\n",
    "            x = x.cuda()\n",
    "            outputs.append(F.softmax(model(x),dim=1).cpu())\n",
    "    return torch.cat(outputs, dim=0)\n",
    "        "
   ]
  },
  {
   "cell_type": "code",
   "execution_count": 46,
   "metadata": {
    "execution": {
     "iopub.execute_input": "2022-05-09T14:40:43.410631Z",
     "iopub.status.busy": "2022-05-09T14:40:43.410087Z",
     "iopub.status.idle": "2022-05-09T14:40:43.416878Z",
     "shell.execute_reply": "2022-05-09T14:40:43.415815Z",
     "shell.execute_reply.started": "2022-05-09T14:40:43.410593Z"
    }
   },
   "outputs": [],
   "source": [
    "whole_loader_noshuffle = DataLoader(\n",
    "    whole_set,\n",
    "    batch_size=batch_size,\n",
    "    shuffle=False,\n",
    "    drop_last=False,\n",
    "    collate_fn=collate_fn,\n",
    "    pin_memory=True,\n",
    ")\n",
    "\n",
    "train_loader_noshuffle = DataLoader(\n",
    "    train_set,\n",
    "    batch_size=batch_size,\n",
    "    shuffle=False,\n",
    "    collate_fn=collate_fn,\n",
    "    pin_memory=True,\n",
    ")\n",
    "\n",
    "val_loader_noshuffle = DataLoader(\n",
    "    val_set,\n",
    "    batch_size=batch_size,\n",
    "    shuffle=False,\n",
    "    drop_last=False,\n",
    "    collate_fn=collate_fn,\n",
    "    pin_memory=True,\n",
    ")"
   ]
  },
  {
   "cell_type": "code",
   "execution_count": 47,
   "metadata": {
    "execution": {
     "iopub.execute_input": "2022-05-09T14:40:46.185501Z",
     "iopub.status.busy": "2022-05-09T14:40:46.184958Z",
     "iopub.status.idle": "2022-05-09T14:41:52.316757Z",
     "shell.execute_reply": "2022-05-09T14:41:52.316008Z",
     "shell.execute_reply.started": "2022-05-09T14:40:46.185462Z"
    }
   },
   "outputs": [],
   "source": [
    "softmaxs_train = getSoftMax(model4, train_loader_noshuffle)\n",
    "softmaxs_val = getSoftMax(model4, val_loader_noshuffle)\n",
    "softmaxs_whole = getSoftMax(model4, whole_loader_noshuffle)"
   ]
  },
  {
   "cell_type": "code",
   "execution_count": 49,
   "metadata": {
    "execution": {
     "iopub.execute_input": "2022-05-09T14:42:13.542451Z",
     "iopub.status.busy": "2022-05-09T14:42:13.542186Z",
     "iopub.status.idle": "2022-05-09T14:42:13.677203Z",
     "shell.execute_reply": "2022-05-09T14:42:13.676519Z",
     "shell.execute_reply.started": "2022-05-09T14:42:13.542421Z"
    }
   },
   "outputs": [
    {
     "data": {
      "text/plain": [
       "[12668, 3265, 185, 19075, 5312, 16078, 837, 15305, 11021, 11045]"
      ]
     },
     "execution_count": 49,
     "metadata": {},
     "output_type": "execute_result"
    }
   ],
   "source": [
    "softmaxs_val_copy = copy.deepcopy(list(softmaxs_val.numpy()))\n",
    "a = sorted(list(range(len(softmaxs_val_copy))),key = lambda x : (\n",
    "    softmaxs_val_copy[x].sort(),\n",
    "   softmaxs_val_copy[x][-2]\n",
    "))\n",
    "a[-10:]"
   ]
  },
  {
   "cell_type": "code",
   "execution_count": 126,
   "metadata": {
    "execution": {
     "iopub.execute_input": "2022-05-09T15:34:32.557477Z",
     "iopub.status.busy": "2022-05-09T15:34:32.557211Z",
     "iopub.status.idle": "2022-05-09T15:34:32.563107Z",
     "shell.execute_reply": "2022-05-09T15:34:32.561540Z",
     "shell.execute_reply.started": "2022-05-09T15:34:32.557447Z"
    }
   },
   "outputs": [],
   "source": [
    "cor = 0\n",
    "wrong = 0"
   ]
  },
  {
   "cell_type": "code",
   "execution_count": 137,
   "metadata": {
    "execution": {
     "iopub.execute_input": "2022-05-09T15:39:15.766516Z",
     "iopub.status.busy": "2022-05-09T15:39:15.766261Z",
     "iopub.status.idle": "2022-05-09T15:39:16.185968Z",
     "shell.execute_reply": "2022-05-09T15:39:16.185029Z",
     "shell.execute_reply.started": "2022-05-09T15:39:15.766486Z"
    }
   },
   "outputs": [
    {
     "data": {
      "image/png": "[encoded data removed]",
      "text/plain": [
       "<Figure size 432x288 with 1 Axes>"
      ]
     },
     "metadata": {
      "needs_background": "light"
     },
     "output_type": "display_data"
    },
    {
     "name": "stdout",
     "output_type": "stream",
     "text": [
      "12349\n",
      "down\n",
      "tensor([0.5986, 0.0607, 0.0181, 0.0347, 0.0481, 0.0252, 0.0291, 0.0370, 0.0375,\n",
      "        0.0286, 0.0316, 0.0508])\n"
     ]
    },
    {
     "data": {
      "image/png": "[encoded data removed]",
      "text/plain": [
       "<Figure size 1600x320 with 1 Axes>"
      ]
     },
     "metadata": {
      "needs_background": "light"
     },
     "output_type": "display_data"
    },
    {
     "name": "stdout",
     "output_type": "stream",
     "text": [
      "Predition silence\n",
      "Accuracy 0.875\n"
     ]
    },
    {
     "data": {
      "text/html": [
       "\n",
       "                <audio  controls=\"controls\" >\n",
       "                    <source src=\"data:audio/x-wav;base64,UklGRjL6AABXQVZFZm10IBIAAAADAAEAgD4AAAD6AAAEACAAAABmYWN0BAAAAIA+AABkYXRhAPoAAAAAAAAAANA5AACwOQAAgDgAAAC4AAAAuAAAILkAAAC4AADQOQAAADgAAMC4AAAAuAAAALkAALC5AAAAOAAAkDkAAKC5AACwuQAAALgAAMC4AABguQAAoDkAAOA5AADAuAAAwDgAAIA4AADAuAAAAAAAAMA5AACgOQAAwLgAAAA4AAAAuQAAALgAAMA5AABgOQAAgLgAAMC4AAAAuAAAYLkAACC5AACwOQAAsDkAAMC4AACAuAAAALkAAPC5AAAAAAAAoDkAAAAAAADQuQAAwLkAAOC5AACguQAAADgAACA5AAAguQAAALkAAMA4AACguQAAgDgAAMA5AAAgOQAAIDkAAEA5AACQuQAACLoAACA5AACwOQAAQLkAAGC5AABAOQAAQLkAAKC5AABgOQAAIDkAAAAAAABAOQAAwDgAAMC5AAAAAAAAsDkAAIA4AAAguQAAkLkAAPC5AABguQAAADkAAAA5AAAguQAAgLgAAAA5AAAAuQAAAAAAAIA5AAAAOQAAQDkAAOA5AABgOQAAQLkAAAA5AADwOQAAwDgAAAA5AAAgOQAAILkAACC5AADAOAAAAAAAAAC4AADgOQAAALgAAIC5AACAOAAAADkAAAA5AAAgOQAAQDkAANC5AAAguQAAgDkAAMA4AAAAOAAAgDgAAMA4AADAuAAAkLkAAKC5AACAuQAAADgAACA5AACAuQAAgLkAAIA4AACAOAAAQDkAANA5AACAOQAAgLgAAAC5AAAAAAAAgLgAAMA4AACQOQAAALkAAOC5AADAuQAAYLkAAAC5AAAgOQAAYDkAAIC5AACAuQAAADgAAAAAAAAAAAAAkDkAAMA4AAAAuQAAALgAAJC5AACwuQAAIDkAAEA5AAAAuAAAwLgAAAC5AAAguQAAADgAAKA5AABgOQAAwLgAAIC4AAAAuAAAoLkAAJA5AAAoOgAAwDkAAIA5AAAAuAAAQLkAAMA4AAAAOgAAsDkAAAAAAADAOAAAgLgAAKC5AADAuAAAkDkAAAC5AAAAuAAAgDgAAMC5AABAuQAAQDkAACA5AAAAuAAAgLgAAEC5AAAQugAAQLkAAJA5AAAAuAAAILkAAAAAAABguQAAsLkAAAA4AADwOQAAIDkAAIA4AAAAOQAA8LkAAEC5AADwOQAAAAAAAJC5AADAOAAAQLkAANC5AAAAOAAAgLgAAEC5AAAgOQAAwDgAAGC5AACguQAAQDkAAIA5AAAAuQAAQLkAAGC5AADguQAAQLkAAIA5AAAguQAAwLgAALA5AAAAuQAACLoAAAAAAABgOQAAADkAAJA5AACQOQAAALkAAMC4AADAOQAAYDkAAAAAAADwOQAA4DkAAIC4AABAuQAAwDgAAEC5AAAgOQAAGDoAACC5AADAuQAAgDkAAAA5AACAOAAAwDkAAEA5AABAuQAAILkAAGA5AADAOAAAYDkAACg6AAAgOQAA0LkAAIC5AADAuAAAkLkAAGA5AADQOQAAkLkAAJC5AAAAuAAAADgAAIA4AAAAOgAA0DkAAGC5AADAOAAAwDgAAAC6AADAuAAACDoAAAAAAAAIugAAoLkAAEC5AAAguQAAIDkAAAA4AADguQAAILkAAEC5AACwuQAAAAAAAIA5AABgOQAAILkAAIC5AAAguQAAgLkAAMA4AACwOQAAILkAAOC5AACQuQAAwLkAAPC5AAAgOQAAgDkAAMC4AADAOAAAwLgAACC5AAAgOQAA0DkAANA5AACAuAAAgLgAAIC4AAAguQAAQDkAAJA5AADAuAAAAAAAAAA4AABguQAAALkAALA5AADQOQAAgDgAAMA4AADAuAAAILkAAGA5AACgOQAAADkAAMA4AAAAOQAAkLkAAAC4AABgOQAAYDkAAIA4AAAgOQAAgLgAACi6AAAguQAAgDkAACA5AAAgOQAAADkAAAC4AABguQAAADkAAAA5AABAuQAAYDkAAEA5AACQuQAAYLkAAIA4AADAuAAAAAAAAEA5AADAuAAAgLkAAJA5AAAgOQAAALkAAJA5AADAOAAAgLkAACC5AAAAAAAAIDkAAAA4AADAOAAAADgAABi6AACQuQAAADgAAIC5AAAAOAAAYDkAAMC4AABAuQAAgDgAAAAAAAAguQAAsDkAALA5AAAAuQAAADkAAAA4AACguQAAALgAAEA5AAAAuAAAsLkAAMA4AAAAOQAAgLkAAAA5AAAgOQAAwLkAAGC5AACQOQAAgLgAAAA4AAAwOgAAgDgAAAC6AACAuQAAADgAAAC5AAAAOQAAGDoAAEA5AACQuQAAQDkAACA5AABAuQAA0DkAABA6AABAOQAAYDkAAMA5AACAuAAAAAAAACA6AAAAOAAAkLkAALA5AACAOQAAYLkAAGA5AADgOQAAALkAAEC5AAAAuAAAILkAAGC5AACAOQAAIDkAAAi6AACQuQAAwLgAACC6AACwuQAAQDkAAIC5AAAougAAkLkAAOC5AAA4ugAAAAAAAIA5AACAuAAAwDgAAAC4AAAAugAAILkAAKA5AACAuAAAgLgAALA5AAAAOQAAsLkAAMC4AAAAuAAAwLkAAAAAAAAAOQAAoLkAAAC5AADQOQAAgDkAAAC5AAAAOQAAgLgAABi6AAAAAAAAEDoAACA5AAAAOAAAgDkAAMC4AACguQAAQDkAAJA5AAAAAAAAYDkAAKA5AACQuQAAwLgAADA6AABAOQAAADkAAEg6AADAOAAAgLkAAOA5AADAOQAAQLkAACA5AAAoOgAAQLkAAIC5AADgOQAAkLkAANC5AACAOQAAALgAAMC5AABAOQAAoDkAAEC5AADAuAAAIDkAACi6AAA4ugAAsDkAAMA5AAAAuQAA4DkAAAA6AAAougAAALoAAMA4AACguQAAALgAAEg6AACAOQAA8LkAAEA5AAAAuQAAWLoAAAC4AAAAOQAAILoAAGC5AACAOQAAwLgAANC5AABgOQAAADkAAFC6AACAuQAAwDkAAIC5AAAAAAAAADoAAJC5AAAYugAAADkAAAC5AADQuQAA4DkAAAA6AAAIugAAQLkAABg6AACAuAAAgLgAAGA6AABAOQAAwLkAAMA5AACQOQAAsLkAAKA5AABYOgAAADkAAIC4AADAOQAAwLgAACC6AADAOAAAADkAANC5AACgOQAAEDoAAJC5AAAgOQAAGDoAAAC6AAAgugAAADkAAMC4AACguQAAGDoAAAg6AADguQAAwLkAAJC5AABIugAAsLkAAAg6AACQOQAAgLgAAIA5AAAAOAAAMLoAAKC5AACQOQAAALkAAAC4AAAgOgAAALkAANC5AADQOQAAADkAANC5AAAAOQAAkDkAALC5AAAgOQAAMDoAAAC5AABguQAAgDkAACC5AACguQAA4DkAAMA5AACQuQAAADgAAIA4AADQuQAAQLkAAPA5AAAAuAAAgLkAAGA5AADAuAAAWLoAAGC5AACAOQAAILkAAIA5AACgOQAAILkAAJC5AAAAOQAAILkAAIC5AAAgOgAAsDkAAGC5AAAAOQAAIDkAAIC5AACAuAAAADkAAEC5AABguQAA0DkAAIA5AABAuQAAIDkAAIC4AAAYugAAYLkAAJA5AAAAAAAAAAAAAEA5AACguQAAMLoAAAC5AACAuQAAALoAAIA5AACQOQAA8LkAAGC5AACwOQAAgLgAAIA4AABQOgAA4DkAAAC4AACAOQAAwDgAAPC5AAAAuQAAsDkAAAA5AADAOAAA8DkAAGA5AACguQAAgLgAAEC5AAAIugAAAAAAADA6AACAuAAAwLgAANA5AADwuQAAILoAAIA4AADAuAAAwLgAADA6AABIOgAAgDgAAIA4AAAAOQAA8LkAAOC5AACgOQAAQDkAAAA4AADAOQAA0DkAACC5AAAAAAAAYDkAAGC5AAAAAAAAKDoAAEA5AABguQAA4DkAAEA5AACguQAAAAAAAMA4AADQuQAAsLkAAGC5AADwuQAAwLkAAAA4AACAOAAAYLkAAIA4AABgOQAAkLkAAJC5AAAgOQAA4LkAAIC5AAA4OgAAoDkAAJC5AAAAOQAAYLkAAFi6AACwuQAAgDgAACA5AAAAOgAAUDoAAMA5AAAAAAAAwDgAAMC5AAAougAAADkAANA5AACAOAAA0DkAAOA5AACwuQAAELoAAJC5AAAgugAAGLoAAAA5AADQOQAAALgAAAC4AABAOQAAgLkAACC5AACQOQAAgLgAACA5AAA4OgAAADoAAKA5AAAYOgAAsDkAAJC5AABgOQAAoDkAAKC5AADAuAAAALgAACC5AACAuAAAwDgAAMA4AAAguQAAADgAAAAAAADAuQAAALkAAMA5AABAOQAAwDgAAMA5AACAOAAAoLkAAAAAAAAQugAAYLoAAAC4AADQOQAAgDgAAEA5AACwOQAAALkAAAi6AAAQugAAELoAAKC5AABgOQAA8DkAACA5AACgOQAA0DkAABC6AADguQAAADgAAAC5AABgOQAAODoAAAA6AAAAAAAAgDkAAEC5AAAwugAAkLkAAIA4AACQuQAAQLkAAOA5AABgOQAAYLkAAAA4AADAuAAAALkAAEA5AAAAOQAAALkAAIC4AACwOQAAgLgAAPC5AADAOAAAAAAAAKC5AACAuAAAADgAAGC5AAAgOQAAIDoAAKA5AAAgOQAAkDkAAAA4AACguQAAILkAAMC4AABAuQAAsDkAANA5AAAAOQAAgDgAACA5AABAuQAAALoAAAC4AACwOQAAYDkAAJA5AACgOQAAAAAAACC5AACwuQAAOLoAACi6AAAAOAAAADkAAAAAAADAOQAAoDkAACC5AAAguQAAALkAAMC4AABAOQAA0DkAAGA5AAAAuAAAADkAAAA4AADQuQAAsLkAAAA4AAAguQAAAAAAAGA5AACAuQAA0LkAAMC4AACAuAAAQLkAAJA5AACwOQAAALkAAAC4AAAAOAAAALkAAIC4AAAAOQAAADkAAIA4AAAgOQAAgDgAAGC5AACwuQAAALgAAMC4AAAAuAAAgDkAAGA5AACAOAAAIDkAAIC4AAAAuAAAIDkAAEA5AADAOAAAgDgAAKA5AADAOAAAgLgAACC5AABguQAAILkAAAAAAACAuAAAQLkAAMA4AADAOAAAILkAAMA4AADAOAAAILkAAAAAAAAAuAAAgLgAAIC4AADAOAAAADoAAMA5AABgOQAAQDkAACC5AAAAuQAAgLkAAAC6AAAAAAAA8DkAAIA5AADAOAAAAAAAACC5AADAuQAAsLkAAAAAAABgOQAACDoAAPA5AAAgOQAAADkAAIA4AAAguQAAYLkAAKC5AAAguQAAADgAAMA4AADAOAAAQLkAACC5AACAuAAAwLkAACC5AAAAAAAAAAAAAAC4AAAgOQAAoDkAAAC4AADAOAAAALgAAAC5AACAuQAAILkAAIC4AADAuQAAADgAAEA5AABgOQAAwDgAAMC4AACAuAAAYLkAAIC4AADAOAAAwDgAAKA5AACgOQAAsLkAAAC6AABguQAAsLkAACC5AACgOQAACDoAACA6AAAoOgAAkDkAAGC5AADAuAAAgLgAANC5AABguQAAYDkAAGA5AACAuAAAALkAAEC5AAAQugAA4LkAAGC5AADAuAAA8DkAAEg6AACwOQAAwDgAAAA5AADAuAAAsLkAAGC5AADAOAAAAAAAALA5AADQOQAAALgAAAC5AACguQAAYLkAAIC5AABguQAAwDgAAAC4AAAAOQAAADoAAAA4AADAuAAAgDgAAKC5AABAuQAAgDgAACA5AACQOQAAYDkAAMA4AABguQAAwLkAACC5AACAuQAAQLkAAIA4AAAAOAAAAAAAAAA5AACAOAAAADgAAAA5AAAAuQAAkLkAAMC4AADAOQAAgDkAAAA5AADwOQAAwDgAAOC5AACQuQAAALgAAIC5AADAuAAAkDkAACC5AACQuQAAgDgAAAC4AAAguQAAADkAAMA5AABgOQAAADkAAEA5AABAOQAAwLgAAAC4AACAuAAAYLkAAAAAAAAAOAAAgLgAAAC4AAAAOQAAAAAAACC5AAAAAAAAADgAAAA4AAAAOQAAQDkAAAA5AACAOAAAwDgAACC5AABAuQAAADgAAAA4AAAAAAAAADgAAIC4AAAAuAAAQLkAAGC5AAAAOAAAYDkAAMA4AAAAuAAAwDgAAIA4AAAAOAAAAAAAAMA4AAAguQAA0LkAAIC4AAAAOAAAgDgAAEA5AAAAuAAAgLgAAAC4AAAAuQAAALkAAIC4AADAOAAAgDgAACA5AAAgOQAAwDgAAAC4AADAuAAAALgAAIC4AAAAuAAAIDkAAIC4AACAuQAAAAAAAAA4AABguQAAYLkAAIA4AAAAAAAAAAAAAKA5AAAQOgAAkDkAAMA4AACAuAAAwLkAAJC5AAAAuAAAALkAACC5AADAOAAAADgAAAAAAACAOAAAALgAAMC4AAAAAAAAALgAAAC4AABAOQAAQDkAAGA5AAAAuQAAYLkAAMC4AABAuQAAwLgAAAA4AABAOQAAQDkAAIA4AACAOAAAwLgAAMC4AADAuAAAAAAAAMA4AAAAOAAAADkAAAA5AACAOAAAgDgAAAA5AAAguQAAwLkAAGC5AACAuAAAADgAAMA4AAAAOQAAwDgAAAC4AACAuAAAALkAAMC4AADAOAAAYDkAACA5AAAgOQAAgLgAAJC5AAAAuQAAsLkAAKC5AACAuAAAgDgAAMA4AACAOAAAgDgAAIA5AAAAOQAAgLgAAMC4AAAAAAAAADgAACA5AADQOQAAQDkAAIA4AAAAAAAAALgAAEC5AAAAuQAAwDgAAIA4AAAAOAAAADgAAMA4AADAOAAAgLgAAAA4AAAAuAAAgLgAACC5AADAOAAAoDkAAMA4AAAAOQAAgDgAAIC4AAAguQAAQLkAAEC5AADAOAAAsDkAAIA5AACAuAAAgLgAAMC4AABAuQAAgDgAAAC4AAAguQAAAAAAAAAAAAAAuAAAgLgAAMA4AADAOAAAgLgAAMC4AAAAuAAAAAAAAIA4AAAAOAAAwDgAAAAAAACAuAAAALgAAAC5AADAuAAAADgAAAAAAACAOAAAAAAAAAAAAADAuAAAAAAAAJA5AABAOQAAALgAAIC4AAAAuAAAADgAAMA4AAAAOAAAALgAAGC5AAAAuAAAYLkAAIC5AACAOAAAwDgAAAA5AAAguQAAkLkAAMC4AAAAOAAAgDgAAAC5AABAuQAAAAAAAAC4AACAOAAAADgAAAAAAACAOAAAgDgAAAC4AAAAuAAAgLgAAAA4AABgOQAAgDkAAEA5AAAAAAAAgDgAAAC5AAAAOAAAYDkAAAA4AAAAOAAAwLgAAIC4AAAAAAAAADgAAAA4AAAAuAAAADgAAEC5AADAuAAAADgAAAAAAAAgOQAAwLgAAGC5AAAAuAAAgLgAAAC4AAAAAAAAwDgAACA5AAAAOAAAAAAAAIA4AACAOAAAADgAAAC4AAAAuAAAADgAAAAAAACAOAAAADgAAIC5AAAAOAAAQDkAAIC4AAAAuAAAADgAAIA4AACAOAAAgDgAAIA4AAAAuAAAALgAAIC4AAAAOQAAQDkAAIC4AAAAOQAAgDgAAAAAAADAuAAAgLgAAIA4AAAAuAAAwLgAAIC4AACAuAAAwLgAAIC4AACQOQAAoDkAAAAAAADAuAAAgLgAAAC5AAAAuAAAoDkAAMA4AACAuAAAgLgAACC5AAAAuQAAwLgAAAA4AACAOAAAwDgAAEC5AADAuAAAADkAAAC4AACAuQAAgLgAAIC4AACQuQAAYLkAAAC4AADAOAAAgDgAAAA4AAAAOAAAwLgAAJC5AACAOAAAIDkAAAA4AAAAAAAAgLgAAAA4AACAOAAAAAAAAAAAAAAAOQAAgDgAAAC4AAAAOAAAADkAAAA4AAAAAAAAADkAAAC4AADAuAAAwLgAACA5AABAOQAAgDgAAAA5AAAAOAAAgDgAAMC4AABAuQAAgDgAAAA4AAAAOAAAgDgAAAC4AACAuQAAILkAAIA4AACAOAAAADgAAAAAAAAAuAAAgLgAAIA4AACgOQAAYDkAAAA4AAAAAAAAALkAAAC4AACAuAAAAAAAAKA5AACAOAAAALkAAAC5AAAAuQAAwLgAAAAAAABgOQAAsDkAAMA4AACAuAAAILkAAIC5AAAAOAAAADgAAAA4AADAOAAAsLkAALC5AADAuAAAADgAACC5AABAuQAAgLgAACC5AABAuQAAADkAANA5AACAOAAAADkAACA5AAAAuQAAgLgAACC5AABgOQAAYDkAAAC4AAAAOAAAALgAAAC4AACAuQAAAAAAAGA5AACAuAAAwLgAAAC4AAAAuAAAALgAAMA4AAAAuAAAgDgAAIC5AAAguQAAwLgAACC5AADAuAAAQLkAAIA4AABguQAAYLkAAAAAAAAAOQAAwDgAAEC5AADAuAAAgDgAAAC4AAAAOQAAkDkAAAA5AAAAOQAAgDgAAAC4AAAAuAAAILkAAMA4AACQOQAAADkAAGA5AAAAAAAAALgAAMC4AACAuAAAADkAAAA5AAAAAAAAALkAAIC4AAAguQAAAAAAAIA4AADAOAAAILkAAIC5AAAAOAAAwLgAAMC4AAAAOQAAsDkAAGA5AACAuAAAADgAAIA4AAAAOAAAgDgAAEA5AAAgOQAAYLkAAJC5AABguQAAILkAAAC4AADAOAAAADkAAIA4AACAuQAAALkAAMA4AAAAAAAAADgAAAA5AAAAuAAAkLkAAMC4AAAgOQAAALgAAJC5AACQuQAAILkAAAC5AAAguQAAwDgAANA5AAAAOQAAgDgAAIA4AACAOAAAQLkAAAAAAADQOQAAkDkAAJA5AACQOQAAoDkAAMA4AACAuAAAAAAAAMA4AACAOAAAILkAAIC4AAAAOAAAADgAAAC4AACgOQAAwDgAAPC5AABguQAAALgAAAAAAAAguQAAgLgAAAAAAACwuQAAsLkAAGC5AACQuQAAALgAAGA5AAAAOAAAAAAAAIC4AAAAuAAAYDkAAIA4AAAAOAAAAAAAAMA4AACAuAAAkLkAAIA4AAAAOAAAgDgAAAA5AAAAuQAAADgAAKA5AACgOQAAwDkAAIA5AADAuAAAAAAAAEA5AACAOAAAwLgAAEA5AADAOQAAwLgAAAC5AABAuQAAYLkAAIC5AADQuQAAgLkAAMC4AACAuQAAQLkAAIA4AAAgOQAAwDgAAAA4AACAOAAAkLkAAKC5AAAAAAAAQDkAAAC4AABAuQAAALkAAJC5AABAuQAAALgAAAA5AACAOAAAADkAAGA5AACwOQAAsDkAAIA4AAAAOQAAsDkAACA5AABAuQAAALgAAAA5AAAAOAAAoDkAAPA5AAAAOQAAALgAACC5AADAuAAAgLgAAAA4AAAAOAAAYDkAAGC5AADQuQAAADgAAAA4AAAAuAAAwLgAAIA4AAAAuQAAQLkAAAAAAAAgOQAAADkAAAA4AACAOAAAALgAAAC5AAAguQAAADgAAEA5AAAAOQAAILkAALC5AAAAuAAAQLkAAKC5AACAuQAAILkAAIC5AACAOAAAYDkAAMA4AAAAAAAAIDkAAMA5AAAAAAAAwLgAAAAAAABAOQAAwDkAAAA5AADAOAAAAAAAAMC4AAAAuQAAALgAAMA4AAAAAAAAoDkAAGA5AAAAuAAAILkAAAA4AACAOAAAADgAACA5AAAAAAAAoDkAACA5AAAAOAAAwDgAAAA4AACwuQAAkLkAAIC4AABAuQAAwDgAAKA5AAAAOAAAYLkAAMC5AADwuQAAgLkAAAC4AAAAuAAAAAAAAIC4AAAAOAAAgLgAAAC5AAAAOAAAwLgAAAAAAACAOAAAgDgAAIC4AACwOQAA8DkAAMA4AAAgOQAAgDgAAAAAAADAuAAAgLgAAMA4AABAOQAAADkAAAC4AADAuAAAILkAACC5AAAAOQAA8DkAAAA5AAAAuAAAQDkAAIA4AACAuAAAgLgAAAAAAAAAuAAAADgAAEC5AAAAuAAAQLkAALC5AACAuAAAkLkAAAC6AAAAugAAQLkAAAAAAADAOAAAIDkAAMA4AACAOAAAkLkAAKC5AACAuAAAgDgAALA5AAAIOgAAYDkAAMA4AAAAAAAAALkAAMA4AACAuAAAADgAAEA5AACAOAAAAAAAACA5AACgOQAAYDkAAMA4AAAAuAAAwLgAAIC4AAAAOAAAADkAAMA4AACAOAAAgLgAAGC5AABAuQAAwLgAAEA5AACAOQAAoDkAAAA5AACQuQAAQLkAAIA4AACAOQAAoDkAAMA4AADAuAAAgLgAAIC4AADAuAAAAAAAACA5AAAAuAAAILkAACC5AAAguQAAALkAAIC4AABgOQAAgDkAAIC4AAAAOQAAIDkAAAAAAACQuQAAYLkAAIC4AADwuQAACLoAAJC5AAAAuAAAADgAAGA5AACAOQAAALgAALC5AAAAuQAAwDgAAIA4AAAAOAAAIDkAAIA5AADAOAAAwDgAAIA4AACAOAAAADgAACC5AAAAOQAAADgAAMC4AABAOQAAYDkAAMC4AAAguQAAgLgAAEC5AAAAuQAAwLgAALA5AADAOQAAAAAAAMC4AADAuAAAALgAAMC4AAAAuAAAADgAAJC5AADAuQAAADgAAAAAAACQuQAAgLkAAAC4AAAAuAAAALkAAMC4AADAOAAA8DkAAEA5AAAAuQAAAAAAACC5AABguQAAADgAAOA5AABgOQAAADgAAMA5AACQOQAAkLkAAMC5AACAOAAAADkAAMC4AABguQAAgDgAAIA4AAAAOAAAwDgAAAAAAAAAAAAAoLkAALC5AAAAuAAAADgAAIA4AABgOQAAIDkAAAC5AACAuAAAAAAAAAA5AAAAOQAAkDkAAJA5AADAOAAAgLgAAEC5AACAOAAAgLkAAAC4AAAgOQAAYLkAAAC6AACAuQAAADkAAIA4AACAOAAAAAAAAIA4AACQOQAAQDkAAEA5AACAOQAAgLgAAIC5AACAuAAAgLgAAIC5AACAOAAAADoAAJA5AACQuQAAILkAAAA5AAAAAAAAALkAAIA4AACAOAAAAAAAAAAAAACAuAAAYDkAAIA5AAAAOQAAoDkAAMA5AACAuAAAgLgAACA5AACAOAAAALkAAIC4AAAAOQAA0LkAAEC5AABAOQAAgDgAAMC4AABAuQAAALgAAIC4AABguQAAkLkAAAA4AAAAAAAAQLkAACC5AACAOQAAQDkAAJC5AACAuAAAAAAAACC5AADAuAAAgDgAAIA4AACQuQAAALkAAMA4AACAuAAAYLkAAMC4AAAAAAAAADgAAIC4AAAAuAAAwDgAAMA4AADAuAAAQDkAAJA5AAAAOAAAADgAAAA5AABAuQAAkLkAAIA5AAAAOgAAADgAAPC5AAAAuAAAALkAAIC5AADAuAAAALgAAAC4AABguQAAAAAAAIC4AAAAOAAAALgAACA5AAAQOgAAgDkAALC5AACQuQAAYDkAAJA5AACwOQAAkDkAAIA4AAAguQAAgLgAAIA4AADAuAAAgLgAAMA4AAAAOAAA0LkAAIC4AABAOQAAgDgAAAA5AAAAuAAAQLkAAGC5AAAAuQAAALkAAAA5AABAOQAAAAAAAAAAAAAAOQAAQDkAAAC5AADAOQAAoDkAALC5AAAguQAAAAAAAAA4AADAuAAAADgAAIC4AACAuQAAsLkAAIC5AADAOAAAADgAAAAAAAAAOAAAgDkAAGA5AAAAuQAAgDgAAJA5AADAuAAAoLkAAEA5AAAAuQAA0LkAAAAAAAAgOQAAADgAAAC4AAAAOQAAwDgAAAAAAADAuAAAADkAAAA5AAAAuAAAwLgAAAAAAACQOQAAgDgAAIA4AABAOQAAADkAAAC5AAAAuAAAQDkAAJC5AABguQAAwDkAAOA5AADAuAAAALgAACA5AAAAAAAAAAAAAMC4AAAAOAAAADgAAMC4AACAuQAAwDgAALA5AAAAuAAAIDkAAEA5AADAuAAAQLkAAJA5AACAOQAAALkAAEC5AADguQAAYLkAACA5AAAgOQAAADgAAAAAAADAuAAAwLgAAMC5AADwuQAAALkAAMA4AABAOQAAILkAAMC4AAAAAAAAAAAAAAC4AACAOAAAADgAANC5AADAuAAAsDkAAMA5AAAgOQAAwDgAAGA5AADAuAAAwLkAAMC5AAAAOAAAwLgAAKC5AAAAuQAAgDgAAIA4AADAuAAAwDgAACA5AAAgOQAAYLkAAKC5AADAOAAAQLkAAMC4AABgOQAAgDkAAJA5AACAOQAAADkAAMC4AACAuAAAIDkAAIA4AACAuAAAwLgAAAC5AAAAOAAAQDkAAIA4AABAOQAAkDkAAEC5AAAAAAAAQDkAACC5AAAAuQAAwDgAANA5AACAOAAA4LkAACC5AABAOQAAAAAAAAC5AACAuAAAwLkAAJC5AAAAOAAAsDkAANA5AAAAOAAAALkAAMA4AADAuAAAALoAAKC5AACAOAAAwDgAACC5AAAAOAAAwLgAAIC5AAAgOQAAsDkAAAA5AACguQAAgLkAAMC5AABAuQAAADkAAMA4AACAOQAAADkAAAA4AABAuQAAALgAAIC4AABguQAAYDkAAIC4AACAuQAAAAAAABg6AADgOQAAwDgAAGA5AAAAAAAAALgAAIC4AAAAuAAAAAAAAIA4AAAAOAAAgDgAAKA5AABAOQAAALkAAEA5AABAOQAAQLkAAIC5AABguQAAADkAAIA5AAAAOgAA0DkAAAA4AACAuAAAoLkAAPC5AACwuQAAQDkAAEA5AAAAuAAAAAAAAAAAAADAOAAAAAAAAEA5AABAOQAAgLgAAPC5AAAAugAAgLgAAMA4AACAOAAAwDgAAGA5AACAuAAAYLkAAMA4AAAAOAAAkLkAAJC5AAAAAAAAILkAAOC5AABAuQAAkDkAACg6AADAOQAAoLkAACC6AABguQAAIDkAANA5AADwOQAAIDkAAAC5AAAAAAAAQDkAAIA4AAAAuAAAADkAAAA4AACAuQAA4LkAAEC5AADAOAAA0DkAAOA5AABAOQAAAAAAAAC5AAAAuAAAADgAAAC5AABguQAAAAAAAIA4AAAAOAAAgLgAAAA4AACAOQAAgDgAAAAAAAAAuQAAYLkAAGC5AAAAuAAAIDkAAAA4AADAuAAAAAAAAMA5AACAOQAAADkAAAA4AABAuQAAALkAAAC5AAAguQAAALgAAIA4AADAOAAAYDkAAIA4AAAAugAAgLkAAEC5AACAuAAAgLgAAAA4AAAAOAAA4LkAAAAAAAAAOAAAgDgAAEA5AAAgOQAAwDgAANC5AACAuQAAwLgAAAA5AABgOQAAILkAAIC4AABAOQAAILkAAEC5AAAAOQAAADkAAAC4AAAguQAAADkAAIA5AADAOQAACDoAALA5AACAOQAAgDgAAMC4AADAuAAAALgAAGC5AACAuQAAADgAAIA4AAAAAAAAALkAAMA4AADAOAAAADgAACC5AAAIugAAkLkAAMC4AAAAOQAAoDkAANA5AAAgOgAAQDkAAGC5AABAuQAAQLkAAIC4AAAAuAAAAAAAAMC4AAAAOAAAADkAAMA4AACQOQAAILkAAAC6AACQuQAAILkAAJC5AADAuAAAYDkAAEA5AADAOQAAoDkAAAAAAAAAAAAAALkAACC5AACAuQAAQLkAAMC4AAAAuAAAYDkAALA5AACQOQAAwDgAAAAAAADwuQAAOLoAAAC6AAAAOAAAsDkAAAA6AADwOQAAADkAAIA4AAAAOQAAAAAAAAC5AABAuQAAYLkAACC5AAAguQAAoDkAAMA5AABgOQAA4DkAAAAAAAAAugAAOLoAANC5AADAuAAAADgAAAA5AAAAOAAAADkAALA5AABAOQAAIDkAAIC4AADguQAAALoAAKC5AAAAuQAAADgAAEA5AABAOQAAYDkAAAA4AACwuQAA4LkAANC5AAAguQAAgLgAAGC5AACAuAAAwDkAALA5AAAgOQAAsDkAAOA5AADAOAAAYLkAAIC5AACAuQAAgLgAAMA5AAAIOgAAgDgAAGC5AAAAuQAAgDkAACA5AAAAuQAAALkAACC5AAAAuAAAgDkAAEA5AACQOQAAQDkAAAA5AACAOAAAYLkAAIC5AAAAuQAAgDgAAMC4AAAAuAAAADgAAMA4AADAOAAAILkAAIA4AACAuAAAQLkAAEC5AACAuQAAgLkAAAA4AACwOQAA4DkAAMA5AABAOQAAADgAACC5AADwuQAAgLkAAMC4AABAuQAAILkAAMC4AAAAOQAAgDgAAMA4AACQOQAAAAAAAMA4AAAguQAAkLkAAEC5AADAuAAAADkAAMA4AABAOQAAgLgAAMA4AADAOQAAQDkAAKC5AADwuQAA0LkAAIC5AACAOAAAADkAAAA5AADAOAAAgLkAAAC4AABgOQAAgLgAAMC4AAAAAAAAIDkAAMA4AAAAOAAAwDgAAAC4AADAOAAAYDkAAAA4AACAuQAAkLkAAEC5AADAOAAAoDkAAGA5AACAOAAAwDgAAAA5AAAAOAAAwLkAAMC5AAAgOQAAADkAAAA4AAAAOQAAADkAAMA4AAAAOQAAgDgAAIC4AAAguQAAILkAAGC5AACguQAAkLkAALC5AAAAAAAAIDkAAGA5AAAAOQAAAAAAAAA4AAAAuQAAALgAAIC4AACAuAAAwDgAAKA5AADwOQAAgDkAAMA4AAAAOQAAILkAAAC5AAAAuQAAwLkAAAC5AAAAOAAA8DkAAJA5AAAAOAAAADgAAAAAAADAOQAAQDkAAKC5AACwuQAAwLgAAAAAAACAOAAAADkAAMA4AAAAOAAAADgAAIC4AAAguQAAYLkAAIC5AAAAOAAAADgAAIA4AABgOQAAQLkAAEC5AAAAAAAAILkAAAA4AACwOQAAIDkAACA5AAAAuAAAIDkAAAC4AAAguQAAwLgAAPC5AACguQAAkLkAAAC5AABAOQAAkDkAALA5AACgOQAAYDkAAGA5AACAOAAAYLkAAIC4AACAuQAAQLkAAAC4AAAAAAAAADgAAGA5AACAOQAAALgAAKC5AACQuQAAwLgAAAC4AACQuQAAwLkAAGC5AACAuAAA8DkAAAg6AADAOAAAAAAAAAA5AAAAuQAAYLkAAAAAAAAAuQAAgLgAAEA5AAAAOQAAADgAAEA5AAAAuAAAADgAAJA5AABAOQAAADgAAIC4AADAuAAAALgAAAAAAACAOAAAQDkAAIA4AAAAAAAAALgAAAA5AADAOAAAAAAAAAA4AAAguQAAQLkAAAAAAAAAAAAAwLgAAAC5AABAuQAAgLgAAAA4AAAAOAAAADgAAAC4AACAuQAAwLgAAAAAAADAuAAAQLkAAMC4AACQOQAAgDkAAAC4AADAuAAAILkAAGA5AACwOQAAALgAAIC5AABguQAAYLkAAMA4AAAgOQAAALkAAMC4AACAuAAAALgAAEA5AABgOQAAAAAAAAAAAABAuQAAALkAAIC4AADAuQAAwLkAAGC5AAAAOQAAgDgAAIA4AACgOQAAwDkAAIA5AAAAOQAAALkAALC5AAAguQAAQLkAAIC4AACAOAAAQDkAAAA5AACAuQAAAAAAAEA5AAAAOAAAgLgAAAC5AABguQAAwLgAAAAAAAAAuAAAoDkAANA5AAAAOQAAADkAAIA4AACAOAAAALkAAOC5AADAuQAAoLkAAAC4AABAuQAAILkAAJA5AADAOAAAADgAAMA4AACAuAAAADgAAAA4AAAAAAAAADgAAMA4AAAguQAAAAAAACA5AAAguQAAALgAACA5AAAAOQAAADgAAAAAAACAOAAAADkAAKA5AAAAAAAAQLkAAAAAAAAAOAAAsDkAAEA5AAAAAAAAgDgAAMA4AAAAOQAAwDgAAIC4AAAAuAAAALgAAGA5AAAgOQAAALgAAAC4AAAAuAAAYDkAAAAAAACQuQAA0LkAAAC4AAAAOQAAYLkAAEC5AABguQAAgLgAAJA5AACQOQAAgDgAAAC4AAAAuAAAgLgAAGA5AACwOQAAgDgAAIA4AAAAuAAAALkAAIA4AACguQAAILkAAIA4AAAAOAAAADkAAIC4AAAAAAAAQDkAAMA4AABgOQAAIDkAAEA5AACQOQAAAAAAAAA4AAAAuAAAgLgAAMC4AACAuAAAgLgAAEC5AAAAugAAYLkAAAAAAABAOQAAoDkAAIC4AAAAAAAAADkAAIC4AACAOAAAALgAAKC5AACAuAAAALgAAAC5AAAAuQAAgLkAAMA4AAAAAAAAALkAAIC4AADAuAAAgDkAANA5AADQOQAAIDkAAAA5AAAAOAAAYLkAAGC5AADAuQAA0LkAAMC5AACAuQAAADgAAMC4AACAuQAAgLkAAIA4AAAAOAAA0LkAAAA4AADAOQAAoDkAACA5AADAOAAAwDgAAMA4AAAgOQAAALgAAKC5AACAuQAAwLkAAKC5AAAAOAAAIDkAAIA4AAAAAAAAADgAAKA5AACQOQAAwDgAAMA4AADAOQAAIDkAAMC4AAAAuAAAYLkAAIC4AAAAOQAAALgAAAAAAACgOQAAoDkAALA5AADQOQAAAAAAAAAAAADAOAAAwDgAAMA5AABAuQAAwLkAAAC5AAAguQAAQLkAAAi6AACQuQAAgLgAAIC4AABAOQAAgDkAAGA5AAAAOgAAwDgAAIC5AAAAOQAAwLgAAMC4AAAAOQAAQLkAAAC5AAAguQAAsLkAAAA4AADAuAAAgLkAAJC5AACAOQAAODoAANA5AACAOQAAwDkAAAA5AAAAOQAAADgAAAC5AAAgOQAAILkAAIC5AAAguQAAQLkAAMC4AACwuQAA4LkAAAC5AACAuAAAsLkAAMC4AAAoOgAACDoAAAA5AAAAuAAAwLgAAAA5AAAAuAAA0LkAAPC5AABguQAAwLgAAGC5AAAAuQAAAAAAAAAAAAAAAAAAQLkAAIA4AADQOQAAgDkAAGA5AAAYOgAA8DkAAAA4AAAAOAAAgLgAAAC4AACAuQAAELoAALC5AAAAuQAAILkAAAC5AADAuAAAYLkAAAC4AACAOQAAADgAAEA5AACwOQAAwDkAAJA5AADQOQAAADkAABC6AACQuQAAALkAAEC5AACAuAAAALkAAAAAAAAAOAAAALkAAAC4AABguQAA8LkAAKC5AAAAuAAAALgAAAC4AABAOQAAoDkAALA5AABgOQAAgLgAACC5AADAOAAAADgAACC5AADAuAAAwLgAAAAAAACAuAAAoLkAAIC5AAAAOQAAwLgAAGC5AACwOQAAsDkAAKA5AACgOQAAADkAAMA4AACAuAAAYLkAAEC5AACAuAAAALkAAPC5AAAYugAAALkAAIA4AACQuQAAoLkAAAC4AACAOQAAsDkAAAA5AAAAOQAAQDkAAEA5AAAgOQAAALkAAEC5AABguQAAYLkAAAC5AAAAuAAAgLgAAJC5AACAuAAAQDkAAMA4AAAAOQAAgLgAACA5AACAOQAAIDkAAAC4AAAAuAAAQDkAAIA4AAAAOQAAkLkAABi6AACAuQAAgLgAAIC4AACAOAAAADkAAAA5AACAOQAAoDkAAIA5AAAgOQAAQDkAAAA5AAAguQAAgLkAAAC5AABAOQAAwDkAAAC4AAAAuAAAADgAAMC4AACwOQAAADoAAIA4AAAAAAAAADkAAEA5AACgOQAAIDkAAEC5AACAuQAAALgAAMC4AABguQAAgDgAAEC5AACAuAAAIDkAAJC5AAAAOQAAkDkAAAA5AADgOQAA4DkAAJA5AABgOQAAsDkAAMA5AADAOAAAQLkAACi6AADAuQAAALgAAAC6AADAuQAAADgAAGA5AAAQOgAAgDkAAMC4AADAOQAAYDkAAAC5AAAAuAAAAAAAAAC4AAAAOAAAkLkAADC6AADwuQAAILkAAIC5AABguQAAQDkAACA5AACAuAAAIDkAANA5AAAAOgAAwDkAACC5AAAAAAAAoDkAAMC4AACQuQAACLoAAOC5AAAAOAAAILkAAAC6AADAuQAAgLgAACC5AAAAuQAAIDkAAIA5AADgOQAA4DkAAAA4AAAAOAAAAAAAAIC5AADAuAAAALkAAGC5AABguQAAQLkAAMC5AAAguQAAgDgAACC5AABguQAAwLgAAAA5AADQOQAAQDkAAMC4AAAgOQAAIDkAAAC4AACAuAAAwLgAAAC4AACQuQAACLoAABi6AACAuAAAQDkAACC5AACAuAAAALgAAAA4AADAOAAAAAAAAAC5AAAAAAAAADkAAAC5AAAAAAAA8DkAAMA5AABAOQAAQLkAAMC4AAAgOQAAAAAAAAA4AAAAOAAAILkAAKC5AABAuQAAALgAAMC4AAAAuQAA4LkAAPC5AADAOAAAGDoAAMA5AABgOQAAQDkAACA5AACwOQAAADkAAMA4AACAOQAAADkAAIC4AAAAOAAAQDkAAIA4AACQuQAA8LkAAJC5AABAuQAAgLgAAGA5AADwOQAAKDoAAPA5AACQOQAAADoAABg6AADQOQAAgDgAAAC5AABgOQAAQDkAAAA4AACguQAAALoAABi6AADguQAAQLkAAIC5AADAuAAAwDgAAMA4AACgOQAAGDoAAAg6AABgOQAAwDgAACA5AAAAAAAAALkAAGC5AAAAOAAAIDkAAKC5AADwuQAAELoAAMC5AAAAOAAAgDgAACC5AAAgOQAA8DkAACA5AACAOAAAgLgAAMA4AADAOAAAkLkAAJC5AAAAuAAAADgAACC5AAAguQAAADkAAIA5AACgOQAAALgAAAC4AACwOQAAwDgAAMC5AAAguQAAgDkAAIA4AADQuQAAKLoAAIC5AADgOQAAkDkAACC5AABAuQAAIDkAAEA5AAAAAAAAwLgAAKC5AAAAuAAAALgAAJC5AAAAuQAAwLgAAAC5AADguQAACLoAAEC5AACAOAAAYDkAAAAAAACwOQAACDoAAIA4AAAAOQAAADgAAIC4AADAuAAAGLoAADC6AAAAuQAAQDkAAGC5AAAYugAA0LkAAMC4AADwOQAAsDkAAAA4AAAAOAAAYDkAAIA5AAAgOQAAIDkAAAC5AAAAuQAAsLkAABC6AADAuQAAQLkAAGC5AABAuQAAALgAAMA5AACwOQAAwDgAAAA4AAAgOQAAoDkAAAA5AADgOQAAIDoAAKA5AAAAuAAA8LkAAPC5AAAAuAAAwLgAAAi6AADwuQAAAAAAAEA5AACAOQAAgDkAAIC4AADAOAAAADoAAOA5AABgOQAAADkAAAA4AAAAOQAAQDkAAAAAAAAAuAAAQLkAAKC5AAAAuAAAALgAAMA4AABgOQAAADgAAAA4AADQOQAAgDkAAIA4AAAAuQAAQLkAAIC4AAAgOQAAYDkAAIA4AACAOQAAIDkAAIC4AAAAAAAAADkAAEA5AABAOQAA0LkAAPC5AAAAAAAAADkAAAC5AAAgugAA8LkAAGC5AACAuQAAALgAAIC4AACAOAAAADkAACA5AACwOQAAgDkAAPA5AADwOQAAAAAAAKC5AABguQAAgDgAAIC5AADQuQAAYLkAAGC5AADAuAAAgLgAAAAAAABAOQAAADgAAIC4AACgOQAAIDoAACA6AADAOQAAALkAAKC5AACAOAAAYDkAAKC5AAAAugAAsLkAAIC5AAAAuQAAALgAAAAAAAAAOAAAADkAAAA4AAAgOQAAoDkAAGA5AAAAOAAAwLgAAMA4AADAOAAAwLgAAEC5AACguQAAwLgAAAC5AACguQAAgLgAAAA4AABgOQAAYDkAAMA4AABgOQAAILkAAAAAAABgOQAAADgAAAA4AAAAOQAAQDkAAGC5AAAguQAAALkAAIC5AAAAuAAAALkAAIC4AAAAOQAAYDkAAMA4AAAAOAAAgDgAAAAAAADAOAAAwDgAAAA4AAAAOAAAwLkAAJC5AAAAOAAAQDkAAKA5AAAAuAAAoLkAAEC5AADAOAAA8DkAAKA5AADAuAAAQLkAAGC5AACwOQAAkDkAAIC5AACguQAAoLkAAAC5AADAOQAAwDkAAAAAAAAguQAAgLgAACA5AADAOAAAADgAAAC5AAAAuQAAALgAAIC5AAAguQAAgLgAAMC4AADAuAAAILkAAJC5AADAOAAAsDkAAAA4AAAAAAAAwDgAAMA4AADAOAAAIDkAAAAAAACAuQAAwLkAAPC5AABAuQAAgLgAACC5AABAuQAAQLkAAAAAAAAAOQAAADgAAMC4AACAuAAAQDkAAAA6AACQOQAAgLgAAIA4AADAOQAAQDkAAMC4AADAuAAAALkAACC5AAAguQAAgLgAAAAAAABAOQAAALgAALC5AACAOAAAoDkAAAA5AADAOAAAgLgAACC5AAAAuAAAgDgAAAA4AACAOAAAALgAAAi6AABguQAAADkAAMA4AAAAAAAAILkAAGC5AACAOQAA8DkAAGA5AAAAuQAAKLoAAAC6AAAAAAAA0DkAAAA5AAAAuQAAQLkAAAAAAAAAOgAA0DkAAEA5AADAOAAA0LkAAGC5AADAOAAAADgAACA5AABguQAAkLkAAEC5AACguQAAwDgAAMC4AADguQAAkLkAAAC4AAAIOgAACDoAAMA5AAAAuAAA0LkAAAA4AACAOQAAIDkAAAAAAADwuQAAALoAAAC4AADgOQAAgDkAAMC4AAAguQAAILkAAIA4AACgOQAAkDkAAAC4AABguQAAALgAAMA5AABgOQAAAAAAACC5AACguQAAYLkAAJA5AADQOQAAAAAAAIC4AAAAuQAAAAAAAJA5AAAgOQAAwLkAAMC5AAAAuQAAALgAAMA4AAAAOAAAALgAAMC4AAAguQAAAAAAAMA4AAAAOAAAILkAAAC4AADQOQAAYDkAAAA5AADAOAAAgLgAACC5AACQuQAAgLgAAIA4AAAAAAAAILkAANC5AABAuQAAoDkAAAg6AACwOQAAwLgAACC5AAAAOQAACDoAAKA5AABAuQAAsLkAAIC5AACAOAAAIDkAAMC4AAAIugAACLoAAMC4AACAOAAAkDkAAKA5AAAguQAA4LkAAAC5AABgOQAAQDkAACA5AADAuAAAQLkAAAA4AACAOAAAALgAAMA4AAAAuQAA8LkAAGC5AAAAOQAAwDgAAKA5AAAgOQAAQLkAAGA5AADwOQAAgDkAACA5AABguQAA8LkAAAC5AABgOQAAIDkAAAC4AABguQAAgLgAACA5AABAOQAAADgAAAC5AACAuQAAgLgAAPA5AADwOQAAALgAACC5AACAuAAAAAAAAIA4AAAAOQAAgLgAAKC5AAAAuAAAwDgAAIA5AAAAuAAAsLkAAMC4AADAuAAAADgAAMA4AADAOAAAwLgAAEC5AAAguQAAADkAAGA5AACAOQAAALgAAMC5AACAuQAAgDkAABg6AACQOQAAALgAAAC4AAAAOAAAYDkAACA5AADAuQAACLoAAEC5AAAguQAAoDkAALA5AAAAuAAAILkAAMC4AAAgOQAAQDkAAIA4AADAuAAAALgAAIA5AABgOQAAgDgAAAAAAAAAOAAAwLgAAEC5AACAuAAAgDgAAMA4AACAuAAAwLkAAOC5AAAAOAAAsDkAACA5AAAguQAAILkAAAC5AACwOQAAIDoAAJA5AADAuAAAILkAAAAAAAAgOQAAwLgAAGC5AACAuQAAgLkAACA5AACQOQAAgDgAAAA4AAAAAAAAgLgAAAC4AADAuAAAAAAAAIA4AAAAOAAAAAAAAIC4AACAOAAAwDgAACA5AACAuAAAQLkAAEC5AABguQAAgDgAAIC4AABAuQAAYLkAAGA5AAAAOgAAIDkAAAAAAACQuQAAoLkAAIA4AACQOQAAwLgAALC5AAAAuQAAgDgAACA5AADAOAAAALkAAAC5AADAOAAAQDkAAIA4AAAAuQAAwDgAAAA5AAAAOQAAADgAAAC4AACAuAAAADkAAMA5AACAOAAAADgAAAC5AAAAuAAAIDkAAAA5AACQuQAA4LkAAAC4AAAAOAAAwDgAAAC5AADAuAAAwDkAALA5AADAOAAAkLkAAAC6AAAguQAAkDkAAAA6AAAAOAAAILkAAAC4AABAOQAAgDkAAAA4AACQuQAA8LkAACC5AACAOAAAgDgAAEC5AABAuQAAwDkAAKA5AABguQAAILkAAAAAAACAOAAAIDkAAMC4AABguQAAADkAAGA5AADAOAAAALkAAGC5AABAuQAAYDkAAPA5AAAguQAAoLkAAAA4AACAOQAACDoAAPA5AABguQAA0LkAAAC4AAAgOQAAIDkAAAC5AAAAuQAAAAAAAMA4AADAOAAAsLkAALC5AABAuQAAwDgAAAA5AAAAOAAAYLkAAAC4AACwOQAAIDkAACA5AACAOAAAALkAAAC5AAAAOAAAYDkAAAAAAAAAOAAAwDgAAEC5AACAuQAAYLkAAAC4AABgOQAAADkAAIC4AABAuQAAkLkAAAC4AADAOQAAkDkAAMA4AAAAAAAAgLgAALA5AADAOAAAQLkAACC5AACAuAAAADkAAIA4AAAAuQAAALoAACC5AACgOQAAoDkAAAA4AAAAuQAAILkAAAAAAACQOQAAADgAAKC5AABAuQAAADgAAIC4AACQuQAAILkAAAC4AAAAOAAAADkAAAC4AACQuQAAwLkAAAC5AAAAOQAAgLgAAAC5AAAAuQAAgDgAAIA5AACwOQAAIDkAACC5AACAOAAAIDkAAAAAAADAuAAAALkAAAA4AACAOQAAQDkAAKC5AACAuQAAALkAAEC5AAAAOAAAADgAAJC5AAAAuAAAADkAAAA4AACQOQAAADgAAIA5AACAOQAAgDgAAAA4AAAAuQAAAAAAAKA5AACgOQAAgLgAAAC5AAAAuQAAgLgAAMA4AAAAOQAAALgAAAAAAAAAOQAAgDkAAEA5AAAAOAAAALgAAMC4AACAuAAAALgAAEC5AABAuQAAAAAAAAA5AADAOAAAgLgAAAC5AAAAuQAAILkAACA5AACAOQAAALkAAMC4AAAgOQAAADkAAIA4AACgOQAAwLgAAIC4AAAAAAAAILkAAAAAAABguQAAgLgAAAAAAADAuAAAwLgAAIC4AACAuAAAgDgAAAC4AADAuAAAwLgAAGC5AAAAOAAAALgAAAC5AAAAAAAAYDkAAEA5AACQOQAAwDgAAAAAAADAOAAAgDgAAAA4AACAuAAAADgAAAC5AAAAuQAAYLkAAPC5AAAAuAAAILkAACC5AAAAOAAAALkAAAA4AAAgOQAAADgAACA5AABAuQAAoLkAAMA4AACAOAAAgDkAAIA5AABguQAAADgAAEA5AAAAOQAAgDgAAAC5AAAAuAAAwDgAAAAAAADAOAAAADkAAMC4AAAAOQAAgDkAAEA5AABAOQAAkLkAAKC5AAAAAAAAILkAAEA5AAAAOQAAwLkAACC5AADAOAAAILkAAIC4AACAuAAAgDkAANA5AACAOAAAIDkAAMA4AAAAOAAAgDgAAIA5AACQOQAAYDkAAJA5AACwOQAAQDkAAAAAAACAOAAAILkAAOC5AABguQAAwLgAAMC4AAAAuAAAALgAACC5AAAAOAAAQDkAAIA4AADAOAAAgLgAAAAAAACwOQAAADgAAMA4AAAAuAAAsLkAAMC4AAAAuQAAALgAAAC5AABAuQAAADkAALA5AABgOQAAAAAAAAC5AABAuQAAALgAAIA4AAAAOQAAwLgAAGC5AADAuAAAwLgAAAC5AAAAAAAAALgAAJC5AAAAOAAAwDgAACC5AACwuQAAkLkAAAA4AADAOAAAADgAAAA4AAAAuAAAgLgAANA5AACgOQAAwLgAAIC5AACguQAAALkAAAC4AACAuAAAgLgAAMA4AAAAOAAAgDgAAAC4AACwuQAAYLkAAIC4AABAOQAAIDkAALA5AAAgOQAAgDgAAMA5AADQOQAAoDkAAEA5AAAAuAAAgLkAAMC4AADAOAAAADgAAOC5AACguQAAwLgAAAC5AAAAuAAAgLgAACA5AADAuAAAYDkAAAg6AAAAOQAAADkAAIA4AACAOAAAwLgAAAAAAACgOQAAgLgAACC5AACAOAAAILkAAJC5AACwuQAAoLkAAJC5AABAuQAAEDoAANA5AAAAuAAAwDgAAEA5AAAAuAAAADgAAAAAAAAAuAAAgLgAAAAAAAAgOQAAwLgAAAC4AACAuAAAkLkAALC5AAAAuAAAgDgAAAC5AACAOQAAYDkAAJA5AADAOQAAwDgAAAAAAAAAuQAAgLgAAEA5AACgOQAAADgAAAAAAACAuAAAALkAAGC5AABguQAAQLkAAIC5AAAAuAAAADgAAMA4AACAOAAAAAAAAAC4AAAgOQAAQDkAAAAAAAAgOQAAADgAAEC5AAAAuAAAALgAAAC5AADQuQAAgLkAAAAAAACAOAAAAAAAAMC4AAAAAAAAwLgAAEA5AADQOQAAADgAAAA4AAAAOQAAADkAAIA4AADAOAAAgDgAAIC4AAAAuQAAADkAAAC5AADguQAAgLgAAAC4AAAAuQAAgDgAANA5AADAOAAAYLkAAAC4AAAgOQAAgDgAAAA4AAAAOQAAwDgAAAAAAACAOAAAADgAALC5AABguQAAgLgAAAC5AACAOAAAYDkAAEA5AAAAuQAAADgAAOA5AAAAuAAAoLkAAIA4AAAAOQAAALkAAAC4AACAOAAAAAAAAIC4AADAOAAAwDgAAAAAAACguQAAALkAAEC5AABguQAAAAAAAAA4AAAAAAAAALgAAIA4AADAOAAAgDgAAAA4AABgOQAAIDkAAMA4AACgOQAAwLgAAAC5AAAAOQAAwDgAAMC4AABguQAAALgAAIC4AAAAuAAAALgAAIA4AAAAuQAAALkAAMA4AAAAOAAAADgAAAA5AAAgOQAAQDkAAIA5AADgOQAA0DkAAAA4AAAAOQAAwDgAAMC5AABAuQAAgLkAANC5AABguQAAAAAAAMA4AACAuAAAoLkAAAC5AAAAOAAAwLgAAGA5AABgOQAAwDgAAIA4AAAgOQAAALkAAMC4AADAOAAAgLgAAMC4AADAuAAAADkAAMC4AAAguQAAADkAAMC4AAAguQAAgLgAACA5AAAgOQAAIDkAAMA4AAAgOQAA4DkAAAA5AADAOAAAIDkAAIC4AAAguQAAAAAAAEC5AAAguQAAQLkAAGC5AAAAAAAAQLkAAIC4AAAAOAAAgLgAAAAAAADAuAAAgDkAAOA5AACAOAAAIDkAAEA5AABAuQAAADkAAGA5AAAAAAAAAAAAAAC5AADAuAAAgLgAAAAAAAAguQAAwLkAAIC5AAAAuAAAgDgAAAC4AAAAOQAAwDgAAAC4AADAOAAAYDkAAAA5AABguQAAkLkAAMC4AAAguQAAALgAAIC4AADQuQAAILkAACA5AAAgOQAAAAAAAAAAAADAOAAAwDgAAAC4AADQOQAAwDkAAMC4AAAAuQAAADkAAGA5AABgOQAAkDkAAGA5AACguQAA0LkAAIA5AABAOQAAgLgAAAC5AAAAuAAAALkAAMA4AADQOQAAALgAAEC5AACAuAAAADkAAAA4AAAAOAAAgLgAAOC5AACQuQAAAAAAAAA5AAAguQAAsLkAAKC5AABAuQAAADgAAEA5AAAAOQAAkLkAAKC5AACAOQAA8DkAAAA4AACAOAAAAAAAANC5AAAAAAAAYDkAAAAAAADAuAAAYLkAAEC5AADAuAAAgDkAAIA5AAAAuQAAkLkAAIA4AACAOQAAADkAAMA4AAAAAAAAIDkAAMA5AABAOQAAYDkAAIC4AACAuQAAwLgAAAAAAADAOAAAADgAAAC4AAAguQAAgLkAAIA5AAAAOgAAIDkAAEC5AAAAOAAAYDkAAEA5AAAAOgAAkDkAAAC5AACQuQAAgLgAAIA4AAAAuAAAwDgAAAC5AADwuQAAoLkAAAA4AAAAAAAA0LkAAJC5AACAuAAAAAAAAAC4AADAOAAAIDkAAEC5AABAuQAAQDkAALA5AACAOAAAAAAAAAA5AADAuAAAAAAAANA5AAAAuAAA0LkAAEC5AAAAuQAAADkAALA5AAAAOgAAwDgAAMC5AAAAuAAAIDkAAEA5AABAuQAAgLkAACC5AAAguQAAwDgAAAA5AAAAuQAAALkAAIC4AACwuQAA0LkAAAC4AAAAOQAAsLkAAIC4AADAOQAAADkAAIC4AAAAOAAAgDgAAMC4AAAAAAAAYDkAACA5AAAguQAAALgAAAA5AADAuAAAALgAAAA5AACAuAAAYLkAAAA4AABgOQAAwDgAAIC4AACAuAAAgDgAAIA4AAAAuAAAgDgAAAA4AACAuAAAAAAAAAA5AAAgOQAAALkAAEC5AAAAAAAAwLgAAEA5AACgOQAAgLgAAIC4AABgOQAA8DkAAEA5AAAAAAAAwDgAAIA4AAAAuAAAADgAAJA5AACAOAAAILkAAAC5AADAuAAAADkAAIA4AAAgOQAAAAAAANC5AADAuAAAwDgAAJC5AACguQAAsLkAALC5AADAuAAAQDkAACA5AACAuQAAYLkAAIA4AABguQAAwLgAAEA5AAAAuQAAYLkAAAC4AABgOQAAADgAAGC5AAAAAAAAADgAAAC4AABgOQAAYDkAAIC4AAAAAAAAADkAAAA4AABAOQAAALgAAGC5AAAAuAAAwLgAACA5AACQOQAAgLgAAAA4AAAAuAAAALkAAIA4AAAAAAAAALgAAMC4AAAAuAAAwDgAAMA4AADAOAAAADgAAMC4AAAAOAAAQDkAAMA4AADAOAAAsDkAAMA4AADAOAAA0DkAAIA5AACAuQAAQLkAAIA4AAAguQAAQLkAAAC4AABguQAAYLkAAMC4AADAOAAAADkAAAAAAAAAOAAAALgAAIA4AABAOQAAwDgAAIA4AAAguQAAkLkAAEC5AACQuQAAwLgAAAC4AAAAuQAAAAAAANA5AADQOQAAADkAAAA4AAAAuAAAADgAACA5AABAOQAAALgAAAC5AACAOQAAwDgAAEA5AACgOQAAALgAACC5AABAuQAAwDgAACA5AABAuQAAQLkAAKC5AAAAuQAAYDkAAGA5AAAAOAAAYLkAACA5AACgOQAAADkAAIA4AAAAOAAAALgAAIC5AAAAuQAAQDkAAEC5AACAuQAAYLkAAOC5AAAAuQAAwDgAAAA4AAAAuAAAILkAAAA5AACQOQAAsDkAAKA5AAAAOAAAwLgAAAAAAACAOAAAQDkAAAC4AACQuQAA0LkAAKC5AADAOAAAYDkAAAC5AADAuAAAIDkAALA5AAAgOQAAADkAAAC4AAAguQAAAAAAAMA4AACAOQAAAAAAAGC5AABAuQAAALkAAMA4AAAAOAAAwLgAAEC5AAAguQAAgDgAAAA4AAAAuAAAwDgAAIC4AACAuAAAwDgAAIA4AADAOAAAgLgAAMC4AACAuAAAgDgAAIA4AAAAuQAAoLkAAOC5AADAuAAAgDgAAAA4AAAAAAAAgLgAAAA4AAAAOQAAADkAAAA5AACAuAAAgLgAAMA4AAAAOAAAwDgAAAC4AADAuAAAAAAAAAAAAABAOQAAYDkAAAC5AADAuAAAADgAAIA4AAAAOAAAwDgAAIA4AAAAAAAAgDgAAIA4AACAOQAAADkAAIA4AACAOAAAALgAAAA5AAAAOAAAoLkAAIC5AAAguQAAgLgAAAC4AAAAuAAAADgAAAAAAAAAOAAAADkAACA5AABAOQAAwDgAAAC5AABAuQAAYLkAAJC5AACguQAAsLkAAMC5AACAuQAAALgAAAC5AACAuAAAYDkAAIA4AAAAOAAAYDkAACA5AAAAOQAAIDkAAMA4AACAOAAAwDgAAMA4AADAOAAAAAAAAAAAAAAAAAAAADgAAAAAAABgOQAAoDkAAJA5AADgOQAAIDkAACA5AABAOQAAgDgAAMA4AABguQAAILkAAIC4AAAguQAAALgAAAA4AAAAuAAAILkAAGA5AABAOQAAAAAAAIC4AABAuQAAgLgAAAC5AAAAuAAAALkAAIA4AACAOQAAADkAAAA4AAAAOQAAYDkAAIC4AACAuAAAgLgAAMC4AAAAuQAAoLkAAIC5AAAAuQAAILkAAAC4AACAuAAAALgAAMA4AAAAOAAAADkAAMA4AAAgOQAAgDkAAAAAAAAAAAAAkLkAAGC5AACAuAAAALkAAAC4AABAuQAAwLgAAAC4AAAAOAAAADkAAAA4AAAAOAAAADgAAMA4AADAOAAAADgAAAA4AACAuAAAYLkAAAA5AABAOQAAAAAAACA5AAAAuAAAADgAAAA4AAAAAAAAADgAAIC4AADAuAAAADgAAIA4AAAAAAAAgDgAACC5AACwuQAAQLkAAIC4AAAAOAAAADkAAMC4AAAguQAAALgAAIC4AAAAuAAAwLgAACC5AADAOAAAALkAAGC5AACAOAAAQLkAAIC4AADAOAAAADgAAAAAAADAOAAAIDkAACA5AAAAAAAAALkAAMA4AAAAOQAAgLgAAAAAAACAOAAAAAAAAAA4AADAOAAAwDgAAAA4AAAgOQAAgDgAAAA5AABAOQAAAAAAAEA5AACQOQAAsDkAAGA5AAAAAAAAADgAAAA4AAAAOAAAgDgAAAA4AAAAAAAAwLgAAAC4AAAAOAAAgLgAAAAAAAAAuAAAAAAAAAAAAACAOQAAwDgAAMA4AABAOQAAgLgAAMC4AACAuAAAALkAAAC5AACQuQAAoLkAAMC4AAAguQAAAAAAAMC4AADAuAAAADkAAIA4AABAOQAAALgAAAC5AAAAAAAAgLgAAGC5AABguQAAgLgAACC5AACAuAAAgDgAAMC4AADAuAAAALgAAAAAAADAOAAAALgAAMA4AAAAOAAAALgAAMA4AAAAOAAAIDkAAIA4AABguQAAALgAAIA4AAAAOAAAgDgAAAC4AACAuAAAwDgAAIC5AADAuAAAAAAAAAAAAACAOQAAgDgAAAA5AADAOAAAwDgAAAAAAAAAAAAAwDgAAIC4AABAOQAAgDkAAAA4AACAuAAAILkAAIC4AACAOAAAwLgAAIC4AADAuAAAADgAAIA5AAAAOAAAgDgAAAA5AAAAAAAAgDgAAAAAAAAguQAAALgAAIC4AABAuQAAIDkAAAA4AABguQAAwLgAAIC4AAAAAAAAALgAAMA4AACAOQAAQDkAAAAAAACAOAAAADkAAIC4AAAAAAAAgLgAACC5AAAAAAAAALkAAAA5AABgOQAAALgAAMC4AACAOQAAwDgAAAA5AACAOQAAQLkAAAAAAADAOAAAgLgAAMA4AAAguQAAYLkAAAAAAABAuQAAgLkAAAC4AAAAuQAAwLgAAAA4AAAAAAAAgDgAAAA4AAAAuAAAALgAACC5AABguQAAALgAAAC5AAAAAAAAwDgAAIC4AAAAOAAAwLgAAEC5AAAAuAAAADgAAAC4AAAAAAAAgDgAAIA4AAAAOAAAILkAAAAAAAAAAAAAADkAAMA4AAAAOAAAAAAAAAA4AACAOAAAALgAAAA4AACAuAAAkDkAAGA5AACAOAAAADgAAEC5AACQuQAAILkAAAAAAABAuQAAwLgAAAA5AADAOAAAADkAAMC4AAAguQAAADgAAIC4AADAuAAAgDgAAAAAAAAAOAAAADkAAAC4AABgOQAAYDkAAIA4AACAOAAAADgAAAA4AAAAuAAAgDgAAAC4AAAAOAAAgLgAAAA4AABAOQAAALgAAMA4AAAAOAAAAAAAAAA5AAAAOQAAwDgAACC5AACAuQAAYLkAAMA4AABAOQAAADgAAIC4AAAAuAAAADgAAIC4AACAuAAAAAAAAAAAAACAOQAAgDkAAAC4AACAOAAAADgAAAA4AAAAuAAAwLkAAIC4AACAuAAAgDgAAGA5AACAuAAAADkAAAA4AADAOAAAADgAAIC5AAAAuQAAALgAAMA4AABAOQAAkDkAACA5AACAOAAAALgAAKC5AADAuQAAgLkAAGA5AABAOQAAAAAAAAA4AAAAAAAAwLgAAAC5AAAAuAAAgLgAAAAAAAAAAAAAALgAAIA5AAAgOQAAAAAAAAC4AADAuAAAAAAAAIC4AAAAuQAAADgAAIC4AAAAAAAAAAAAAIC4AAAAAAAAALgAAIC4AAAAuQAAALkAAAA5AACwOQAAkDkAAAA4AAAguQAAwLkAAJC5AAAAAAAAQLkAAMA4AABAOQAAwLgAACC5AACguQAAoLkAAMC5AACAuAAAkDkAAAC4AAAAOAAAgDgAACA5AACAOQAAgDgAAAA4AAAAuQAAgLkAAIC4AACAOAAAwDgAACA5AAAAuAAAILkAAIC4AADAuAAAwLgAAIC4AAAAOAAAAAAAAJA5AADQOQAAIDkAAMA4AAAAAAAAgLkAALC5AABAuQAAILkAAJA5AACQOQAAwDgAAIA5AAAguQAAwLkAAMC4AAAAAAAAADgAAAC4AAAAOQAAADkAAIA4AAAgOQAAALkAAEC5AAAAAAAAgLgAAIC4AAAAOQAAQDkAAMA4AAAgOQAAwDgAAAAAAACAuAAAQLkAAAC5AAAAAAAAgDgAAMA4AAAAAAAAoDkAAIA4AACQuQAAQLkAAAAAAACAOAAAYDkAALA5AAAAAAAAgDgAAAA4AACAuQAAALkAAIC4AAAAAAAAgDgAAMA4AACAOAAAADgAAIA4AAAAOAAAwLgAAMC4AAAAAAAAAAAAACA5AADAOAAAIDkAAIA5AACAOAAAAAAAAJC5AAAguQAAILkAAAAAAACAOQAAgDgAAAA4AACAOAAAAAAAALC5AACAuQAAwLgAAIC4AACgOQAAgDkAAAA5AADAOAAAALkAAEC5AAAguQAAALkAAAC4AAAAuAAAkDkAALA5AAAAOQAAAAAAAMC4AACwuQAAgLkAACC5AABAuQAAgDkAAKA5AAAAOQAAADkAAIC4AAAguQAAALkAAKC5AADAuAAAADgAACA5AACgOQAAgLgAAEC5AABAuQAA8LkAAIC5AABAuQAAILkAAMA5AAAIOgAAwDkAAPA5AAAgOQAAALkAAMC4AACAuQAAgLkAAAC4AAAgOQAA4DkAAMA5AACAuAAAQLkAACC5AAAAugAAkLkAAGC5AAAAOAAAwDkAANA5AAAIOgAAgDgAACC5AACAuQAAkLkAAGC5AAAAOAAAoDkAAIA5AACAOQAAALkAAJC5AAAAugAAELoAAJC5AABguQAAwDgAACA5AABAOQAAoDkAACA5AABguQAA8LkAAMC5AADQuQAAIDkAAGA5AADQOQAACDoAAKA5AACAOAAAsLkAAAC6AAAYugAAwLkAAEC5AACAuAAAgDkAALA5AACAOQAAADgAAGC5AACwuQAAALkAAEA5AADQOQAAIDoAABA6AADAOQAAkDkAAIC5AAAQugAAsLkAAGC5AACAOAAAQDkAACA5AABAOQAAQDkAAIA4AAAAuQAAgLkAAJC5AAAAAAAAQDkAACA5AADgOQAA8DkAAPA5AABAOQAAQLkAAKC5AABguQAAgLgAAAAAAAAAOAAAIDkAAEA5AABguQAAsLkAAMC5AADguQAAkLkAAIC4AAAgOQAA0DkAABA6AABAOQAAwLgAAMA4AABguQAAwLgAAGA5AADAOAAAQDkAALA5AACAOQAAwLgAALC5AAAAugAAILoAABC6AAAguQAAgLgAAMA4AAAAOgAAgDgAAAA5AABAOQAAkLkAAAA4AADAOAAAAAAAAOA5AACQOQAAgDgAAAA5AABguQAA0LkAAAi6AABgugAACLoAAGC5AAAguQAAADkAAAC4AACAuQAAYLkAACC5AAAguQAAwLgAAAC4AACQOQAAADoAABA6AADQOQAAIDkAAIA4AABAuQAAoLkAAMC4AACwuQAAgLkAAAA5AAAAuQAAALgAAAA4AAAAuQAAwLgAAIC4AAAguQAAwDgAAPA5AAAAOgAAODoAALA5AACgOQAA0DkAAIC4AAAguQAAgLgAAMC4AACAOAAAIDkAAAC4AACwuQAAgLkAAKC5AACguQAAoLkAACC5AAAAAAAAYDkAAAA6AABAOQAAwDgAAAA5AADAuAAAwLgAAEC5AABAuQAAADkAAEA5AAAAOQAAwDgAAMC4AACQuQAA0LkAANC5AACQuQAAAAAAAGA5AADQOQAA8DkAAAA5AAAAuAAAAAAAAAC5AAAAuQAAgLgAAJA5AACwOQAAgDkAAJA5AACAuAAAwLgAAEC5AADQuQAAwLkAAJC5AAAguQAAADgAAIA4AADAOAAAAAAAAMC5AAAguQAAQLkAAIC5AABguQAAALgAAJA5AACQOQAAALgAAAAAAAAAOAAAsLkAANC5AACwuQAAoLkAAGC5AACAOAAAADkAAAAAAAAAOAAAYLkAANC5AACAuAAAwDgAAAA5AACQOQAAoDkAAKA5AADwOQAAoDkAAAA4AABAOQAAYDkAALA5AAAQOgAAgDkAACA5AADQOQAAIDkAAIC4AABguQAAgLkAAMA4AADAOAAAAAAAAPA5AACwOQAAADkAAAAAAACAuQAAALgAAMA4AAAAOQAAYDkAAKA5AACwOQAAwDgAAAA4AACAuQAAILoAADC6AADAuQAAsLkAABC6AACguQAAwLgAAAAAAAAguQAACLoAAOC5AADwuQAAoLkAACC5AAAAOAAAIDkAAAA4AACAOQAAIDkAAAA5AAAguQAAYLkAAAAAAAAAAAAAADgAACA5AADAOQAAYDkAAGC5AACAuAAAIDkAAIC4AAAAOAAAIDkAAMA4AAAgOQAAADkAACA5AADAOQAAsDkAAIA5AABguQAAkLkAAAA4AABguQAAgLkAAMC4AADAOAAAwLgAAEC5AAAAAAAAkLkAAJC5AACAuAAAoLkAAEC5AAAAOAAAgDgAAAA4AAAAOQAAADkAAAA4AACAOAAAgDgAAMA4AAAAOQAAIDkAACA5AABAOQAAwDkAAAAAAADAOAAAQDkAAAC4AABAOQAA4DkAAKA5AACAOAAAwDkAAMA5AADAOAAAsDkAAAA4AABAOQAAYDkAAMA4AADAOQAAgDkAAAA4AABAuQAAgLgAAIC4AACAuQAAoLkAAMC5AABAuQAAILkAAMC4AAAguQAAQLkAAJC5AAAIugAAQLkAAEC5AACAuAAAwDgAAIA4AAAAOAAAoLkAACC5AABguQAAQLkAAAC6AACwuQAAgLgAAMC4AAAAOAAAALgAAIC4AACAuAAAYLkAACC5AAAAOAAAIDkAALA5AAAgOgAAIDoAAPA5AACAOQAAADkAAIA4AADAOAAAAAAAAAA5AAAAOAAAADgAAMC4AABguQAAwLgAAAC5AADAuQAA4LkAAOC5AADAuAAAADgAAAA4AAAgOQAAIDkAAIA4AADAOAAAgDgAAAAAAAAAuAAAgLgAAIC4AAAAAAAAgLkAAJC5AAAQugAASLoAALC5AABguQAAALgAAEA5AACAOAAAgDgAAIA5AAAAOQAAwDgAANA5AADwOQAAADoAAJA5AABAOQAAIDkAAEA5AAAAuAAAwLkAAIC4AAAAuAAAoLkAAJC5AAAAOQAAADgAAJA5AACAOQAAYDkAACA6AAAAOgAAgDkAAEA5AACQOQAAYDkAAAA4AAAAOQAAgDgAACC5AACQuQAAIDkAAAA4AABguQAAQDkAAAA4AACQuQAAQLkAAIA4AAAgOQAAwDkAAAA6AAAAOQAAgDkAANA5AAAgOQAAALgAAIC4AAAAuAAAYLkAAMC4AADAuAAA8LkAAGC5AAAAuQAAoLkAAOC5AABAuQAAYLkAAIC4AABAOQAAALgAACA5AACgOQAAsDkAAEA5AADAuAAAADgAAMA4AABAuQAAkLkAACC5AACguQAA4LkAAAi6AADwuQAAILkAANC5AADguQAAwLgAAAAAAACAuAAAADkAAAA5AACAOAAAkDkAAMA4AABAOQAAADkAAGC5AAAguQAAADgAAIC4AACwuQAAQLkAAAC5AACQuQAAALgAAAC4AADAOAAAADkAAAC4AAAgOQAAwDgAAEA5AADwOQAAoDkAAEA5AAAAOgAAwDkAAEA5AADwOQAAYDkAAAC4AAAAOAAAwDgAAIC5AADAOAAAgDkAAIA4AADAOAAAwLgAAIC4AAAAAAAAQLkAACC5AADAuAAAAAAAAIA5AADAOQAAoDkAAEA5AAAAOQAAAAAAAIA4AADAOAAAwLgAAIC4AADAOAAAQLkAAPC5AADAuAAAsLkAAKC5AADAOAAAkLkAAEC5AAAAuAAAAAAAAAA4AAAAOAAA0DkAAMA5AAAAOQAAgDkAAPA5AABgOQAAgDgAAMA4AAAAuAAAwLgAAMA4AACQuQAACLoAABC6AAAAugAAkLkAAKC5AADAuAAAILkAAMA4AABgOQAAADgAAJA5AAAQOgAAsDkAACA5AABAOQAAADkAAEA5AAAAAAAAILkAAEC5AAAQugAAoLkAAKC5AABAugAAGLoAAKC5AABguQAAYLkAACC5AAAAOAAAwDkAAIA5AAAgOQAAkDkAACA5AAAAOgAAwDkAACC5AACAuAAAAAAAAAC5AAAguQAAILkAACC5AADwuQAAELoAAOC5AADAuQAAwLkAAAC4AACAOAAAADkAAOA5AAAQOgAAGDoAAMA5AACQOQAAgDkAAAA5AAAgOQAAAAAAAMC4AABAuQAAwLgAAIC5AACwuQAAYLkAAJC5AAAguQAAADgAAAAAAADAOAAACDoAAIA5AACQOQAA0DkAAEA5AABAOQAAIDkAAEA5AADAOAAAgLgAAAA4AABAuQAAwLkAAMC4AAAAuAAAYLkAAAAAAAAAOQAAAAAAAAA4AADAOAAAADkAAAA5AADAOQAA4DkAAIA5AAAgOQAAwDgAAIC4AAAAOAAAQDkAACC5AACAuAAAgLgAAMC5AADAuAAAoLkAAJC5AACAuAAAQLkAAMC4AAAAuQAAIDkAAIA4AAAguQAAgLgAAMC4AAAAOAAAwDgAAAC4AACAuQAAoLkAAAC5AACguQAAkLkAAAC4AAAguQAAkLkAAIC5AADAOAAAgDkAAIC4AABguQAAALgAACC5AAAAuAAAgLgAALC5AAAAuQAAALgAAIC4AACAOAAAwLgAAMA4AADgOQAAADgAAJA5AACQOQAAALgAAIA5AAAAAAAAgDkAAJA5AADAuAAAADgAAIC5AACAuAAAALgAAIC4AAAguQAAwLkAAIC5AACAuAAAIDkAAAA4AAAgOQAAYDkAAEA5AAAIOgAAEDoAAEA5AABgOQAA0DkAACA5AAAgOQAAAAAAAEC5AAAAOAAAwLkAAJC5AAAAuQAAYLkAAEA5AAAAOAAAwLgAALA5AACQOQAA4DkAAOA5AACAOAAAoDkAAMA5AACwOQAAkDkAAIC4AAAAuAAAADkAACC5AABAuQAAgLkAAIC5AACAuQAAgLkAAGC5AABAuQAAwLgAACC5AADAuAAAAAAAAIC4AAAgOQAAoDkAAMA4AAAAOQAAkLkAAAC4AACAOAAA8LkAAGC5AABguQAAkLkAAAC5AADQuQAAsLkAAOC5AAAIugAAwDgAAMC4AABAuQAAgDgAAJC5AADAOAAAgDgAAIC5AAAAOQAAQLkAAAAAAACAOQAAwLgAAIA4AAAAuAAAoLkAAGC5AACQuQAAILkAAAC4AAAAAAAAgDgAAAAAAACAOQAAQDkAAAA5AABAOQAAwDgAAAA5AAAAAAAAoDkAAMA5AAAAOAAAgDgAAIA4AACAOAAAIDkAAAAAAAAAAAAAgDkAAIA5AACwOQAAoDkAAIA4AABAOQAAADgAAEA5AADAOQAAALgAAIC4AAAAOQAAALgAAIC4AAAAAAAAALgAAAA4AAAAOAAAYDkAALA5AABAOQAAADkAAIA4AACAuAAAgDgAAAA4AACAuAAAADgAAIC5AAAguQAAgLgAAAC6AACQuQAAIDkAACC5AAAAAAAAYDkAAIA5AACQOQAAADkAAMC4AADAOAAAIDkAAGC5AABAuQAAILkAACC5AABguQAAkLkAAIC5AABAuQAAALkAAMC4AADAuAAAgLgAAIC5AADAuQAAYLkAAEC5AACQuQAAoLkAAKC5AAAguQAAgDgAAGC5AABAuQAAILkAAGC5AAAAOQAAALkAAJC5AAAAOAAAADkAAMA4AABAuQAAgLkAAAAAAADAOAAAQDkAANA5AABgOQAAIDkAAKA5AADwOQAAwDkAACA5AACQOQAAwDkAAAA6AACQOQAAADgAACA5AAAAuAAAALgAAAC4AACAuQAAwDgAAAA4AAAAOAAAkDkAAMC4AADAOAAAYDkAAMA4AADAOQAAYDkAAMA4AABAOQAAwDgAAMC4AACguQAA0LkAALC5AAAguQAAILkAAAAAAACAuAAAgDgAAPA5AACgOQAAwDgAAIA5AADwOQAAoDkAACA5AABAOQAAgDgAAMA4AAAAuAAAYLkAACC5AABguQAAYLkAAMC4AADAuAAAwLgAACC5AADAuAAAwLgAAAC5AAAAAAAAYDkAAMA5AACAOQAAwLgAAAC5AAAAAAAAILkAAMC4AACQuQAAELoAAJC5AACAuAAAoLkAAMC5AACguQAAoLkAAIC4AAAAuQAAADgAAAA4AAAAOAAAADkAAIA4AACAOAAAwDgAAAA5AACAOAAAwDgAAAC4AACAOAAAsDkAAJA5AADAOAAAwLgAAAA4AAAAOQAAsLkAAEC5AAAAAAAAALgAAIA4AAAAOAAAADgAACA5AABAOQAAwDgAAAA5AADAOAAAwLgAAMA4AAAAOAAAAAAAAAC5AACwuQAAALgAAKC5AACwuQAAgLgAAMC4AADAuAAAALgAACA5AAAAOQAAgDgAAIA4AAAAOQAAAAAAAGA5AACAOQAAwDgAAIA4AAAAOAAAIDkAAMA4AAAAOQAAADkAAIA4AAAAOQAAgDgAAAA5AAAAuAAAADgAAJA5AACAOQAA0DkAAOA5AABAOQAAwDgAAAC4AAAAuQAAALkAAAC5AAAAuAAAgLgAACC5AADAuAAAwLgAAAC4AAAAuQAAAAAAAAA5AABAuQAAgLkAAJC5AADAuQAA0LkAAAC6AACAuQAAALkAAEC5AAAAOAAAgLgAAAAAAACwOQAAIDkAAAA4AACgOQAAADkAAMA5AADAOQAAgDgAAMA5AAAgOQAAwDgAAAA4AADAuAAAIDkAACA5AAAguQAAkLkAACC5AAAAuAAAYLkAAJC5AADAOAAAADkAAAAAAACAOAAAALgAAIA4AAAguQAA0LkAAIC4AAAAAAAAkLkAAAC6AACQuQAAwLgAAAC5AADAuQAAYLkAAAA4AAAAAAAAgDgAAIA4AACAOAAAwDgAAMA4AADAOAAAgDgAAMA4AAAgOQAAQDkAAAA5AAAgOQAAQDkAAMA4AAAgOQAAIDkAAAA5AADAOAAAwDgAAMA4AACAOAAAADgAAAAAAADAOAAAkDkAAKA5AAAAOAAAADgAAAA5AABAOQAAADkAAKC5AADAuAAAgDkAAAC4AADAuAAAwLgAAAC4AAAguQAA0LkAAGC5AAAguQAAkLkAAIC4AAAAOAAAADgAAIA4AAAAuAAAwDgAAEA5AABAOQAAALgAAIC5AABAOQAAwDgAAAA5AAAAuAAAILkAAAA5AACAOAAAALgAAMA4AADAOAAAgDgAAAA5AADAuAAAQDkAAOA5AAAgOQAAwDgAAAA4AAAAAAAAAAAAAGC5AABguQAAgLgAAEC5AADAuAAAADgAAAC5AAAAOAAAQLkAAJC5AADAOAAAYDkAAMC4AADguQAAALgAACA5AACAOAAAALkAAAAAAADAOAAAwDgAACC5AACAuQAAADgAAIA4AADAOAAAwDgAAAA4AADAOQAAgDkAACC5AAAAOQAAALgAAIC5AAAAOAAAALgAAGA5AAAgOQAAgLgAAIA4AAAAAAAAgDkAAIA4AADAuQAAgLgAAIA4AAAAuAAAALkAACC5AAAAuAAAALgAAMC5AACAuQAAgLgAAAC4AADAuAAAYLkAAAAAAADAOAAAALgAAAA4AAAAAAAAgDgAACA5AAAAuAAAALgAAAA5AAAAuQAAALgAAIA4AAAAAAAAkDkAAAA4AACAOQAAwDkAACA5AABAOQAAADgAAIA4AAAAOQAAADkAAAAAAAAAOAAAALkAAAC5AAAAuQAAQLkAAAAAAAAAuAAAgLgAAIC5AAAAuQAAwDgAAAC5AAAgOQAAQDkAAIA4AACAOQAAADkAAIA4AAAgOQAAALkAAPC5AADAuAAAILkAANC5AABAuQAAALkAAAA4AAAAuQAAwLgAAAA4AAAgOQAAoDkAACA5AAAgOQAAQDkAAAA5AAAAOAAAADgAAIA4AAAAuAAAALgAAAAAAACAOAAAgDgAAAC4AAAAAAAAADgAAIA4AACAOAAAAAAAAMA4AACAOAAAALgAAIA4AAAguQAAQLkAAIA4AACAuAAAALgAAMC4AAAguQAAALgAAJC5AAAAuQAAgDgAAAAAAADAOAAAADgAAMA4AACAOAAAgDgAAAAAAAAguQAAALgAAGA5AADAOAAAgDkAAMA5AAAgOQAAILkAAIC4AAAAOQAAwDgAAAA4AAAAuAAAgLgAAAAAAACAOAAAAAAAAMC4AACAOAAAADgAAAAAAACAuAAAgLgAAIA4AADAuAAAAAAAAIA4AAAAOQAAILkAAGC5AAAAAAAAADgAAIA4AACAuAAAADgAAAAAAAAAAAAAAAAAAAA4AAAAuAAAwDgAAAC5AADAOAAAgDkAAAA4AACwOQAAgDgAAAC5AAAAuAAAADgAACC5AACwuQAAALgAAAC4AACAuAAAAAAAAIA4AAAAAAAAAAAAAAA4AADAOAAAALkAAGC5AAAAOAAAADgAAMA4AADAOAAAAAAAAIA4AAAAOQAAgDgAAAA4AADAOAAAwLgAAGC5AAAAuQAAoLkAAAC4AABAOQAAALgAAJA5AACwOQAAgDgAAIA4AAAAOQAAADgAAAAAAAAAAAAAAAAAAAC4AAAAAAAAAAAAAMC4AAAAOAAAgDgAAIA4AAAguQAAgLkAAAA4AAAAAAAAwLgAAAC4AACQOQAAsDkAAIA4AAAguQAAALgAAIA4AACAuAAAgLgAAAC5AAAAuAAAQDkAAIA5AAAAuAAAIDkAAGA5AAAAuAAAADgAAAC5AACQuQAAALkAAAC4AABguQAAwLgAAIA4AACAuQAAoLkAAAAAAAAAAAAAAAAAAAA4AAAAAAAAADgAAAC4AAAAAAAAYLkAAMC4AADAOAAAAAAAAIA4AAAAOQAAADkAAAC5AACQuQAAgLgAAIA4AAAAAAAAgDgAACA5AACAOAAAgDgAAAA4AAAAAAAAAAAAAAA4AABgOQAAADkAAAA4AAAAAAAAAAAAAIC4AACAOAAAkDkAAEA5AAAAuAAAkDkAAAA5AABguQAAALgAAMC4AACAuAAAAAAAAAA4AAAAOAAAADgAAAC4AAAguQAAADkAAAAAAAAAuQAAgDkAACA5AAAAAAAAAAAAAAAAAACAuAAAgLgAACA5AAAAOQAAAAAAAAC4AACAuAAAwLgAAMC4AACAuAAAgLgAAMC4AAAAuQAAAAAAAMA4AAAgOQAAgLgAAAAAAACAOAAAwLgAAIC4AADAOAAAwDgAAAC5AAAgOQAAYDkAACC5AACAuQAAALgAAIC4AAAAuQAAwLgAAMC4AAAAOQAAADgAAAAAAAAAOAAAALgAAAA4AADAOAAAALgAAAC5AAAAuAAAALkAAEC5AAAAOAAAADgAAAC5AAAAOQAAIDkAACC5AACAuAAAAAAAAAC4AAAAuAAAwLgAAMA4AACAOAAAAAAAAMA4AAAAAAAAgLgAAMA4AAAAAAAAgLgAAAA5AAAAAAAAgLkAALC5AAAAuQAAgLgAAAA5AABAOQAAALgAAAA4AAAgOQAAQLkAAIC5AAAAOAAAgLgAAIA4AACAOAAAwDgAAAA5AAAAAAAAADgAAIA4AACAOAAAAAAAAAC4AABAuQAAoLkAAMC4AADAOAAAADgAAIA4AADAOAAAgDgAAAA4AAAgOQAAkDkAAAA5AAAAAAAAAAAAAAA4AACAOAAAgDgAAIA4AADAOAAAADkAAMA4AAAAOAAAALgAACC5AABAuQAAQLkAAKC5AAAAuAAAYDkAACA5AAAgOQAAADgAACA5AAAAuAAAoLkAAEC5AADAuAAAALgAAAA4AAAAAAAAwDgAAAA4AAAAOAAAgDkAAKA5AABAOQAAAAAAAAA4AAAAuAAAwLgAAAA4AADAOAAAwDgAAAA5AABAOQAAADkAAGC5AACAuQAAwDgAACA5AACAOAAAwDgAAIA4AAAAOAAAALgAAIC4AADAOAAAgDgAAIC4AAAAOAAAgDkAAAA4AAAAuAAAgLgAAAA5AACwOQAAADgAAAA5AADAOAAAALgAAAC4AAAAuQAAwLgAAAC5AAAAuQAAwLgAACC5AAAAuQAAQDkAAEA5AAAAuAAAADgAAAC4AADAuAAAILkAAGC5AAAAuQAAwLgAAAC5AAAAuAAAADgAAMA4AAAAuAAAALgAAIC4AADAuAAAADgAAAC4AADAuAAAYLkAAAA4AAAgOQAAgLgAAGA5AACgOQAAALgAAAC4AACAuAAAALkAAMC4AADAuAAAwLgAAMA4AADAOAAAwLgAAJC5AAAguQAAIDkAAEA5AACAOQAAQDkAAAA5AACAuAAAALkAAEC5AACAuAAAAAAAAIC4AAAAuQAAALgAAIA4AAAAuQAAwLgAAEC5AABAuQAAYLkAAAC5AAAAOQAAoDkAAGA5AAAAAAAAwDgAAAAAAABguQAAQLkAAJC5AADguQAAALkAAAC5AABAuQAAwDgAAAA5AADAOAAAwDgAAMA4AACAOAAAkLkAAGC5AAAAuAAAADkAACA5AAAAuQAAgLkAAAA4AAAAuQAAkLkAAAA4AAAgOQAAALgAAIC5AABguQAAkLkAAAC5AABAOQAA0DkAAMA5AABAOQAAgLgAAIC5AAAAOAAAIDkAAAA5AAAAOQAAwDgAAAAAAAAAOQAAwDgAAMA4AADwOQAA0DkAAAA5AAAAAAAAgDkAAMA4AABAOQAAQDkAAAA4AACAOQAAwDkAAGA5AADAOAAAsDkAAGA5AADAuAAAwLgAAAC5AACguQAAADgAAIA5AAAAAAAAgLgAAMA4AACAuAAAgLgAAMA4AABguQAA8LkAAKC5AACguQAAgLkAAAC4AAAAAAAAADgAAMA4AACAuAAAQLkAAMC4AACAOAAAkDkAAAA4AACQuQAAsLkAAAC5AABgOQAAkDkAANA5AADgOQAAgDkAAAAAAAAAuQAAILkAAMC4AAAAuQAAwLgAAIC4AAAAOQAAgDgAAIA4AAAAOQAAwDgAAAAAAAAAuQAAALkAAIC5AADAuAAAILkAAMC4AACgOQAAoDkAAAA4AACAuAAAADgAAIC4AACAuAAAALkAAJC5AABguQAAwLgAAMA4AAAgOQAAADkAAAA4AAAAuQAAALgAAIC4AADAuAAAALkAAOC5AADAuQAAkLkAAOC5AACQuQAAAAAAAIA4AACAOAAAgLgAACC5AADAuAAAILkAACC5AABAuQAAQLkAAAC4AAAAuQAAADgAAIA5AAAAOQAAIDkAAAA4AAAAAAAAgLkAANC5AAAguQAAwLgAAAA4AAAgOQAAADkAAIA4AADAOAAAADkAAMA4AACAOAAAADgAAIA4AAAAuAAAALkAACA5AACgOQAA4DkAAKA5AABAOQAAgDgAAAC4AABAOQAAIDkAAIA4AAAgOQAAQDkAAJA5AADAOAAAwDgAAIA5AACAOAAAAAAAAMC4AAAAuAAAoLkAAPC5AABguQAAgLkAAMC4AAAAOAAAgLgAAAAAAADAOAAAAAAAAIC4AAAAuQAA4LkAADi6AAAQugAAYLkAALC5AACQuQAAgDgAAAAAAADAOAAAALkAAIC5AAAAAAAAgLkAAKC5AABguQAAILkAAAC4AACAOQAA8DkAAAA6AACAOQAAADkAACA5AADAOAAAAAAAAAA5AAAAOAAAAAAAAGA5AACwOQAA4DkAALA5AADAOQAAsDkAAAC4AACAuAAAILkAACC5AACAuAAAALgAAAAAAAAAuAAAALgAACA5AABAOQAAgDgAAAA5AACAuAAACLoAALC5AAAAuQAAwLgAAAAAAACAuAAAADgAAAA5AADAuAAAwDgAAAA4AADQuQAAkLkAANC5AACQuQAAgLgAAIC5AADAuAAAALgAACA5AADgOQAAIDkAAAA4AAAAAAAAgLgAAMC5AAAguQAAwDgAAIA4AAAAOQAAwLgAAAAAAABAOQAAgLgAAGC5AACwuQAAILkAAAAAAACAOAAAIDkAAAA4AAAAOQAAQDkAAIA5AABgOQAAQDkAAGA5AADAuAAAALkAAMA4AABgOQAA4DkAACA5AACAuAAAoDkAAIA5AACgOQAAgDkAAEA5AABAOQAAkDkAAMA5AAAAuAAAADgAACA5AACAOAAAoDkAAJA5AABAOQAAgDgAAAC4AAAAuQAAALkAAEC5AADAuAAAYLkAAKC5AABguQAAgLgAAEA5AACAOAAAwDgAAAC5AABAuQAAYLkAAEC5AAAAuAAAQLkAAAC5AADAuAAAQLkAAIC4AAAAOAAAwDgAACC5AAAguQAAgLgAAIC4AAAAuAAAALkAAMC4AAAAAAAAALgAAEA5AADQOQAAgDkAAAC4AABAuQAAADgAAJA5AADAOAAAwDgAAAC4AADAuQAAALkAAAC4AABAOQAAsDkAAIA4AADAOAAAgDgAAIA4AACAuAAA0LkAAEC5AAAguQAA8LkAAMC4AACAOAAAgLgAAAAAAADAOAAAwDgAAAC4AACQuQAAwLgAAEC5AAAAugAAADgAAIA5AAAAOAAAgDgAAIA4AAAAOQAAQDkAAAC5AAAguQAAgLkAAKC5AADAOAAAQDkAAAA5AABAOQAAILkAAAC4AADQOQAAsDkAAEA5AAAAOQAAADgAAAA4AADAOAAAQDkAAIA4AABguQAAILkAAAA4AACAOAAAADkAAAA5AAAAAAAAADkAAAC4AAAAOAAAwDgAAAAAAAAAOAAAIDkAACA5AABAOQAAIDkAAMA4AADAOAAAgLgAAIA4AABAOQAAgDgAAMA4AACAOAAAALgAAJA5AACQOQAAsDkAANA5AACAuAAAQDkAAAA5AAAAOAAAoDkAACA5AAAAuAAAIDkAALA5AAAgOQAAAAAAAAC5AABAuQAAILkAACC5AADAOAAAwLgAACC5AACQuQAA4LkAACC5AAAAuAAAILkAAAC5AADAuQAA0LkAACC5AAAAuQAAwLgAACC5AACAuQAAwLgAAAAAAAAAOQAAgLgAAGC5AAAAuAAAALgAACA5AABAOQAAIDkAAAA4AACAuAAAYDkAALA5AACwOQAAoDkAAIA4AADAuAAAALgAAAA4AAAAOAAAALgAAMC4AABAuQAAAAAAAAA5AAAAAAAAgDgAAAC5AABguQAAwLgAAAC5AAAAOAAAQLkAAAi6AACQuQAAwLgAAAC5AAAAuAAAALkAAAC5AAAAuQAAAAAAAIA5AABAuQAAwLkAAKC5AAAAuQAAADgAAAC4AAAAAAAAwDgAAAC4AACAuAAAwDgAAMA4AADAOAAAgLgAAAAAAADAOAAAgDgAAIA4AAAAAAAAADkAAIA4AADAOAAAIDkAAEA5AAAgOQAAgLgAAAAAAAAgOQAAYDkAACC5AAAAAAAAALgAAGC5AACAOAAAADgAAAA5AADAOAAAwLgAAEA5AACQOQAAADkAAMA4AACAOAAAADkAAMC4AAAAuAAAIDkAAIA4AAAAuAAAwLgAAMA4AACAOAAAALgAAMA4AAAAAAAAwLgAAAAAAADAOAAAsDkAAIA5AAAAAAAAwLgAAMC4AAAAOAAAALgAAAA5AACwOQAAgLgAAAC4AACwOQAA0DkAAEA5AACAuQAAgLkAAAC4AAAAAAAAALkAAMC4AAAgOQAAgLgAAAA4AADAOQAAYDkAAAA4AAAAuAAAwLgAAAC5AACAuAAAgLkAAAC4AACAOAAAILkAAAC4AABAOQAAADkAAIA4AACAuQAAYLkAAIC4AAAguQAAALgAACC5AABAuQAAILkAAAC4AABgOQAAwDgAAAC5AAAAuQAAwDgAAIA5AADAOAAAgDgAAIC4AABAuQAAALkAAAAAAAAAOAAAAAAAAAC4AAAAuAAAALgAAMC4AACwuQAAILkAACC5AADAuQAAkLkAAAC4AACQOQAAgDgAAAC5AACAuAAAALkAAAC5AAAAAAAAYLkAALC5AADguQAAsLkAAAA4AADAuAAAALgAAIA4AAAAuAAAILkAAJC5AACAOAAAwDgAAAC4AADAOAAAAAAAAKA5AABAOQAAgDgAAKA5AADAOAAAgDgAAEA5AAAgOQAAIDkAAAC4AAAguQAAgDgAAAA5AAAAOQAAwDgAAIA4AAAAAAAAADgAACA5AAAAOQAAgLgAAMC4AAAAuAAAADkAAMA4AADAOAAAwDgAAMA4AABAuQAAALkAACA5AAAAOAAAALgAAAA4AAAAuAAAwDgAAAA5AAAAOAAAwDgAAAA5AAAguQAAwLgAACA5AACQOQAAkDkAAMA4AAAAOAAAgDgAAAA4AADAOAAAgDkAAMC4AABAOQAAYDkAAAA4AAAgOQAAYLkAAGC5AAAgOQAAAAAAAAAAAADAOAAAgLgAAMA4AABgOQAAYDkAACA5AAAAuAAAALkAAIC4AAAAuAAAAAAAAMA4AAAAuQAAgLgAAAAAAADAuAAAgDgAAAC5AADQuQAAYLkAAAC5AABAuQAAALgAAAAAAAAAuAAAADgAAJC5AAAguQAAQLkAAIC5AAAAAAAAwLgAAKC5AAAAuAAAADkAAAC4AAAAAAAAALgAAAC4AACAOAAAAAAAAAC4AACAOAAAALgAAIC4AACAOAAAADgAAAA4AAAAAAAAALgAAAAAAAAAOAAAYDkAAEA5AACAuAAAALgAAAC4AACAOAAAQDkAAIC4AABguQAAwDgAACA5AAAAuAAAAAAAAAC4AADAuAAAILkAAAAAAADAOAAAADgAAMC4AABguQAAADgAAAC4AAAguQAAYDkAAEA5AADAuAAAwLgAAAC4AACQOQAAwDgAAGC5AADAuAAAgLgAAAAAAAAAOAAAADgAAAC4AACAuQAAYLkAAAA5AACAuAAAYLkAAMC4AAAAuAAAALgAAAA5AACAuAAAALgAAIC4AADQuQAAALgAAGC5AACAuAAAADkAAIC5AADAuAAAwDgAAAA5AABAOQAAgLgAAIC5AACQuQAAwLgAAMA4AAAAOQAAADkAAAA4AACAOQAAQDkAACA5AAAgOQAAADgAAAA4AAAAuAAAQDkAANA5AACQOQAAwDgAAMA4AAAAOAAAgDgAAIA5AABgOQAAgDgAAIA4AAAAuAAAwLgAAIA5AADAOAAAADgAAAAAAABAuQAAAAAAAAAAAAAAAAAAwDgAAMC4AADAuAAAAAAAAAC4AACAuAAAwLgAAAC4AADAuAAAYDkAAJA5AAAAAAAAAAAAAAC4AAAguQAAkLkAAJC5AADAuQAAoLkAAAC5AACAuAAAADgAAAA4AAAAAAAAALgAAMC4AABguQAAwLgAAMC4AADAuAAAAAAAAAAAAAAAuAAAADkAAKA5AABAOQAAADgAAMC4AAAguQAAAAAAAIC4AABAuQAAADgAAAAAAADAOAAAQDkAAAA4AAAAAAAAgLgAAIC4AAAgOQAAgDgAAAC5AAAAuAAAQDkAAIA4AACAOAAAADkAAAA5AAAAuAAAoLkAAGC5AACguQAAoLkAAIC4AAAguQAAIDkAAGA5AACAOAAAgDkAAMA4AACguQAAILkAAAC4AAAAAAAAALgAAAC5AACAuAAAgDgAAAAAAAAAAAAAADgAAAC4AADAuAAAALgAAAA4AAAAOAAAgLgAAMC4AAAAOAAAgLkAAJC5AAAAAAAAALgAAAAAAAAAuAAAADgAAIA4AAAAOQAAoLkAANC5AACguQAA0LkAAAAAAAAAOAAAADgAAAA5AAAAOQAAAAAAAEC5AAAAAAAAALkAAEC5AADAuAAAkLkAAAAAAAAAOQAAoDkAAAA6AACQOQAAYDkAAIA4AACAOAAAgDgAAAC5AABAOQAAgDkAAAA4AACgOQAA4DkAANA5AADAOQAAsDkAAJA5AAAAuQAAQLkAAGA5AAAAAAAAwLgAAMC4AACAuAAAAAAAAAC4AACAOAAAADgAAIC4AACAuAAAADkAAMA4AAAAuQAAgDgAAIC4AACQuQAAwLgAAMC4AAAAAAAAgDkAAJA5AACAOQAAgLgAAAC5AADAuAAAQLkAAEC5AACAuQAAILkAAAA5AAAAAAAAADgAAAA4AACAuAAAgLgAAEC5AABAuQAA4LkAANC5AAAAuAAAADkAAGA5AABgOQAAgDkAAAA4AADAuAAAALgAAMC4AACQuQAAELoAAIC5AABguQAA0LkAAAC4AAAgOQAAADgAAIC4AADAuAAAALkAAJC5AACAuQAAwLgAAAC4AACwuQAAkLkAAMC4AABguQAAADgAAKA5AACgOQAAgDkAAAA4AACQuQAAALkAAAC5AADAuAAAADkAACC5AACguQAAALgAAAAAAACAOAAAILkAAJC5AACAuAAAALkAAIC4AAAAuAAAoLkAAAC4AABguQAAwLgAAIA4AABguQAAgDgAAAA5AADAOAAAALgAAEC5AABAuQAAgLgAAIA4AAAgOQAAoDkAAGA5AACAOQAAkDkAAAA5AAAAuQAAAAAAAAAAAADAuAAAkLkAAIC4AADQOQAAwDkAAOA5AACgOQAAQDkAAEA5AADAuAAAAAAAAMA4AACAOAAAwDgAAAA5AAAgOQAAQDkAAGA5AABAOQAAwDgAAMA4AAAAOAAAILkAAAC4AAAAOAAAQLkAAAA5AACAuAAAAAAAAMA4AAAAAAAAoDkAAKA5AADgOQAAQDkAAAA4AACAuAAAALgAAAC4AADAOAAAADkAAIC4AACAOQAAYDkAAAA5AACQOQAAwDgAAAC5AADAuAAAYLkAAIA4AAAAOAAAALgAAGA5AAAAuAAAIDkAAGA5AADAuAAAADkAAIA4AACAuAAAgLgAAGC5AAAAuAAAQLkAAEC5AAAguQAAkLkAAJC5AADAuQAAsLkAACC5AAAguQAAALkAAGC5AACAuQAAgLgAAJC5AACAuAAAADgAAGC5AACAOAAAYLkAAGC5AAAAOAAAwDgAAIC4AACguQAAoLkAAAA4AABAOQAAgDgAAIA4AADAOAAAgDgAAAC4AAAAAAAAALgAAMC4AABgOQAAIDkAAAC4AABAOQAAQDkAAAA4AAAAOQAAAAAAAAA4AADAOAAAALkAAMA4AAAAOQAAwDgAALA5AACAOAAAYDkAAIA4AADAuQAAADgAAEA5AADAuAAAgLkAAKC5AADAuAAAgLgAAAC4AADAuAAAILkAAIA4AACAOAAAADgAAAA5AAAAOQAAADkAACC5AACguQAAAAAAAAAAAAAAOAAAgDgAAIA4AACQOQAAoDkAAMA5AABAOQAAADkAAAA4AAAAuAAAwDgAAAA4AABAuQAAQLkAAEA5AABAOQAAgDgAAAAAAAAAOAAAkDkAAKA5AAAAOQAAwLgAAGC5AABguQAAALgAAMA4AABAuQAAILkAAAAAAAAAAAAAADgAAAA4AAAAAAAAADgAAMC4AAAguQAAAAAAAIA4AAAAOQAAwDgAAMA4AAAAuAAAAAAAAJA5AADAOAAAADgAAIA4AAAAAAAAQDkAAAA4AAAAAAAAgDgAAAAAAAAAOAAAAAAAAAC4AAAAuAAAAAAAAMC4AACAOAAAwDgAAIA4AACAOAAAwLgAAAC4AADAOAAAADgAAIA4AADAuAAAgLgAAAA4AACAuAAAADkAAAC4AAAAuAAAwDgAAMC4AAAgOQAAILkAALC5AACAuAAAAAAAAAAAAADAuAAAwLgAAAAAAAAAOAAAALgAAIA4AAAguQAAALkAAAAAAAAAuAAAgDgAAAAAAAAAOAAAIDkAAAAAAAAAOQAAwDgAAMC4AACAOAAAALgAAAA4AABAOQAAYLkAAEC5AADAuAAAwDgAAJA5AACAuAAAIDkAAAAAAADAuAAAoDkAAMA4AADAOAAAwDgAAMC4AAAAOQAAwLgAAIC4AADAOAAAAAAAAIA4AAAAOQAAALgAAAA4AAAAOQAAIDkAAAAAAAAAOAAAkDkAAAC5AAAguQAAAAAAAAC4AAAAOQAAADgAAAC4AADAOAAAADgAAAAAAAAgOQAAwLgAAMC4AACAuAAA4LkAAIC4AADAOAAAwDgAAEA5AAAAuQAAgDkAAEA5AAAAOAAAADkAAKC5AACAuAAAAAAAAIC5AAAgOQAAgDkAAGA5AACgOQAAwLgAAAC4AADAOAAAALgAAMA4AACAuAAAALgAAAAAAAAAuQAAwLgAAGC5AACAuQAAALkAAIC4AAAAAAAAADgAAAC4AABAOQAAgLgAAIC5AAAAAAAA4LkAAJC5AAAAAAAAILkAAEA5AAAgOQAAAAAAAIA4AACAOAAAALgAAGC5AAAAAAAAwDgAAMC4AACAOAAAILkAAGC5AAAgOQAAgLkAAKC5AACAuAAAAAAAAIA4AACAOAAAADgAAAA4AADAOAAAgDgAAAC4AAAAOQAAADgAAGC5AADAuAAAAAAAAIC4AAAAOQAAYDkAAMA4AACAOAAAAAAAAAA5AAAAOQAAALgAAAA4AAAAOAAAADgAAAA4AAAAuAAAwDgAAIC4AAAAOAAAgDgAAAC5AACQOQAAIDkAAAA5AABgOQAAAAAAAAC5AADAOAAAQDkAAMC4AAAAOAAAAAAAAJC5AAAAuAAAALkAAAAAAACQOQAAQDkAAAA4AADAOAAAADgAAAC4AAAAOAAAALkAAMC4AACAuAAAYLkAAMC4AACgOQAAwDgAAIC4AAAAOQAAALgAAAC4AAAAOAAAALgAAMC4AADAuAAAADgAACC5AACAuAAAgLgAAMC4AADAuAAAsLkAAIC4AAAAOQAAgDgAAAA4AAAAOAAAwLgAAGC5AACAuAAAgLgAAIC4AAAAOAAAADgAAAA4AADAOAAAADkAAMA4AACAuAAAgLkAAIC5AAAguQAAgLgAAAAAAACAOAAAIDkAAGA5AADAOAAAADgAAEA5AADAOAAAgDgAAEA5AAAAOAAAgLgAAAA4AAAAOAAAADgAAAAAAACAuAAAAAAAAMA4AABAOQAAAAAAAMA4AABgOQAAALgAAAAAAAAAuQAAwLgAAAAAAACAOAAAAAAAAAAAAACAOAAAALgAAIA4AAAAOAAAAAAAAIA4AACAuAAAkLkAAAC4AAAAOQAAwLgAAMA4AAAAuQAAkLkAAAA4AADAOAAAALgAAEA5AACQOQAAwDgAAMA4AACAOAAAgLkAAIC5AABguQAAoLkAACC5AAAAAAAAADgAAIA4AACgOQAAsDkAAJA5AACQOQAAILkAAIC4AAAAOAAAkLkAAGC5AACAuAAAYLkAAMC4AACAuAAAgLgAACA5AAAAOQAAADgAAAA4AAAAOAAAILkAAAA4AABgOQAAYDkAAKA5AADAOAAAgLgAAGA5AAAAuQAAoLkAAAC5AACQuQAAALkAAMC4AACAuAAAYDkAAJA5AABgOQAAADkAAAA4AACAOAAAgLgAAAC4AAAAuAAAgLgAAAC4AACAOAAAQLkAAEC5AAAAOAAAALgAAAA4AACQuQAAgLgAAAA4AACAuAAAADgAAAAAAACAOAAAAAAAAIA4AAAAAAAAgLgAAGA5AAAAAAAAgLkAAAC4AACAuAAAAAAAAAAAAAAguQAAALgAAGA5AACgOQAAgDgAAAA4AAAgOQAAADkAAAC4AADAuAAAgLgAAAC4AABgOQAAwDgAAIA4AABgOQAAIDkAAEA5AACAOAAAQLkAAAA5AAAAOAAAALkAAIC4AABAuQAAwDgAAJA5AABAOQAAQLkAACC5AAAAAAAAALkAAAC5AADAuAAAALgAAAAAAAAAuQAAILkAAIC4AAAAOQAAALgAAIC4AAAAuAAAAAAAAEA5AAAAuQAAQLkAAAA4AAAAAAAAgLkAAJC5AAAAuAAAgLgAAAA4AAAAOAAAwLgAAIA4AAAAuAAAgLkAAIC4AAAAAAAAgDgAAAA5AAAguQAAwLgAAAA4AAAguQAAwLgAAAC5AACQuQAAwLgAAAAAAACAuAAAYDkAAJA5AAAAOAAAQDkAAKA5AAAAOQAAADgAAAA4AACQOQAAgDkAAAA4AACguQAAoLkAAIA4AAAAAAAAADgAAMA4AAAAAAAAADgAAMA4AAAgOQAAsDkAAGA5AAAgOQAAIDkAACA5AAAAuAAAADgAALA5AAAgOQAAQLkAAJC5AACguQAAYLkAACC5AACQuQAAwLgAAAA5AACAOAAAADgAAIC4AAAAOQAAwDkAAIA5AACAuAAAALkAAAA4AACAuAAAALkAAIC4AACAuAAAwDgAAAA5AAAAuAAAADgAAMA4AACAOAAAALgAAMA4AAAAOAAAADkAAIA4AAAAuAAAAAAAAAA4AACAuAAAwLkAALC5AAAAuAAAgDgAAIA4AAAAOQAAADgAAMA4AACQOQAAsDkAAAA5AACAOAAAwDgAAAAAAAAAuAAAILkAAIC4AAAAuAAAALkAALC5AACQuQAAwLgAAAC4AAAAOAAAAAAAAGA5AACgOQAAwDgAAEA5AAAAuQAAgLkAAAA5AAAAuQAAQLkAAEC5AACwuQAAQLkAAAA4AACAuAAAoLkAAKC5AACAuAAAgDgAAIA5AADgOQAAgDkAAIA5AAAgOQAAADgAAIA4AAAAuQAAADgAAAC4AAAguQAAALgAAMC4AAAAuAAAADgAAAA4AAAAuAAAADgAAMA4AAAAAAAAgDkAANA5AACQOQAAwDgAAIA4AACAOAAAgDgAAMA4AADAuAAAALkAAAA4AAAguQAA4LkAAKC5AACAOAAAoDkAAIA4AADAuAAAgLgAAEA5AADQOQAAADkAAMA4AAAgOQAAALgAAIC4AADAuAAAgLgAAAA4AACAuAAAoLkAAJC5AABAuQAAALgAANA5AABAOQAAwDgAAIA4AAAAuAAAgDgAAAA4AAAAAAAAADgAAAA5AADAuAAAkLkAACC5AADAuAAAQDkAAEA5AADAuAAAkLkAAIC5AAAAuAAAoLkAAAC5AAAAOQAAgLgAAEC5AABguQAAQLkAAAC5AABguQAAAAAAACC5AACAuQAAADgAAAA4AADAOAAAYDkAAEA5AACAOAAAwDgAAMA4AAAAOQAAYDkAAEA5AACAOAAAALgAAAC4AACAOAAAgDgAACA5AAAAOQAAADgAAMC4AAAguQAAADgAAAA5AAAgOQAAADkAAAA4AACAOAAAALgAAAA5AACwOQAAQDkAAKA5AAAAOAAAQLkAAIC4AAAAuAAAwDkAAJA5AAAAuAAAgLkAAGC5AAAAuAAAALkAAEA5AACQOQAAADgAACA5AADAuAAAgLgAAIA4AAAAAAAAwLgAAIA4AAAAOAAAYLkAAAAAAACAOQAAQDkAAMA4AAAguQAAsLkAAGC5AAAAuQAAgDkAAGA5AAAAAAAAgLgAACC5AAAguQAAAAAAAIA4AAAAOAAAgLgAAAC4AACAuQAAALgAAGA5AACAOAAAAAAAAAAAAAAguQAAALkAAAAAAACAuAAAAAAAAAC4AAAAuQAAALkAAAC5AAAAAAAAgDgAAIA4AAAAAAAAkLkAAKC5AADAuAAAILkAAAAAAACAOAAAADgAAMC4AAAAuAAAAAAAAIA4AACAOQAAAAAAACC5AADAuAAAADgAAEA5AACAOAAAADkAAAAAAABAuQAAAAAAAMC4AACAOAAAIDkAACA5AADAuAAAkLkAAAA4AAAAAAAAADgAAIA4AADAOAAAwDgAAAA4AAAAuAAAYLkAAEA5AABgOQAAgDgAAAA5AAAAOAAAYLkAAGC5AACAuAAAIDkAAAA5AACAuAAAALgAAAC4AAAAOAAAgLgAAAA5AADAOQAAQDkAAAC4AADAuAAAAAAAAIA5AACQOQAAALgAAAAAAABgOQAAwDgAAAC4AAAAuQAAgLgAAAAAAABAuQAAALkAAMC4AACAuAAAkDkAAAA5AAAAuQAAALkAACC5AAAguQAAQLkAAMA4AAAAAAAAoLkAAAAAAAAAuAAAQLkAAGC5AACwuQAAgLgAAMC4AABguQAAsLkAAEC5AAAAOAAAoLkAAJC5AAAAOAAAALkAAJC5AACwuQAAwDgAAIA4AABguQAAILkAAGC5AAAAAAAAgDgAAEA5AACwOQAAYDkAAAA5AACAuAAAYLkAAAA4AAAAOQAAgLgAAMA4AACAOAAAwDgAAIA4AADAuAAAILkAAAA4AAAgOQAAwDgAAAC4AAAAAAAAADkAAEA5AAAgOQAAIDkAAEA5AAAAOQAAIDkAAEA5AABAOQAAADkAAGA5AAAAAAAAAAAAACA5AAAAOAAAgDgAAMA5AABAOQAAwLgAAAA5AABAOQAAwDkAAJA5AAAAOAAAQDkAACA5AAAAuAAAADkAAKA5AACQOQAAQDkAAAAAAACAuAAAADkAAGA5AACgOQAAgDgAAIC4AADAuAAAQLkAACC5AAAAuAAAgLgAAAC5AAAAuQAAQLkAACC5AABAuQAAALgAAAAAAAAguQAAgLkAAIC4AABguQAAoLkAAIC4AAAAuAAAADkAAMA4AABAuQAAYLkAACA5AAAAOAAAILkAAMC4AAAguQAAILkAAAC5AACAuQAAgLkAAAC4AAAguQAAYLkAAEC5AACAuAAAQLkAACA5AAAgOQAAALkAAAC4AABAuQAAgLgAAAA4AAAAAAAAgDgAAAA4AAAguQAAkLkAAIA4AABAuQAAkLkAAIC4AACwuQAAALkAAGA5AAAguQAAQLkAAMA4AAAAAAAAAAAAAIC4AAAguQAAgDgAACA5AAAAAAAAAAAAAAA4AAAAuAAAgDgAAEA5AACAOAAAQDkAAGA5AAAAAAAAADgAAIC4AAAAOAAAkDkAAMA5AAAgOQAAAAAAAAAAAAAAOAAAAAAAAAA5AADgOQAAADkAAAA4AAAAAAAAAAAAAGA5AACQOQAAIDkAAIA4AAAAOQAAQLkAAGC5AADAOAAAAAAAAAA5AAAAuQAAQLkAAIA4AAAAuQAAwLgAACA5AADAuAAAYLkAAMC4AADQuQAAQLkAAJA5AAAAOQAAADgAAAA5AACAuAAAAAAAAAC4AAAAAAAAgDgAAAA5AADAuAAAkLkAAAC4AAAAOAAAADkAAMC4AAAAuAAAgDgAAAAAAAAguQAAgLgAAMA4AAAAOAAAADgAAIC4AACAuAAAgDkAALA5AACAOAAAsDkAAIA4AABguQAAALkAAJC5AAAAAAAAgDgAAMA4AADAOAAAgDgAAAAAAACQuQAAALgAAIA4AAAAOAAAADgAAMA4AAAAOQAAgDgAAIA4AAAAAAAAQDkAAAC4AABguQAAwDgAAIA5AADAOAAAgDgAAAA4AAAAAAAAwDgAAJA5AACAOAAAgDkAAIA5AABAuQAAADgAAEC5AABguQAAYDkAAMA4AAAguQAAwDgAAIA5AAAgOQAAwDgAAEA5AAAAuAAAADgAAAA5AAAAAAAAoDkAAGC5AACQuQAAkDkAAIA4AACAuAAAALgAAIC4AAAAOAAAQLkAANC5AACguQAAwLgAAMC5AACwuQAAAAAAACC5AAAAOQAAYDkAAAC4AACAuAAAgDgAACC5AACguQAAwLgAAMC4AAAAAAAAADgAAAAAAADAOAAAALkAAIC4AAAAAAAAwLgAAMC4AAAAAAAAAAAAAAC4AACAOAAAgDgAAAC4AAAAOAAAgDgAAAAAAAAAuAAAwDgAAAA4AADAuAAAADgAAIA4AAAAuAAAADkAAAA4AACAOAAAoDkAAAA4AADAuAAAALgAAAA4AAAguQAAQLkAAIA4AAAAAAAAgDgAAAC5AADAuAAAgDkAAAAAAACAOAAAgDkAAMC4AAAAOQAAYDkAAAA5AACQOQAAADgAAIC4AAAAOQAAgLgAAMC4AABgOQAAgDgAAAC5AAAAOAAAADkAAAC5AAAAAAAAQDkAAMC4AACAuAAAALgAACA5AAAAOQAAwLgAAAC4AADAuAAAkLkAAMC4AAAAAAAAwLgAAAAAAAAAAAAAQLkAACC5AACAuAAAQLkAAAA5AADAOAAAALgAAGA5AAAAuAAAILkAAIC4AAAAuQAAwLgAAAC4AAAAuQAAALkAAAC4AAAAuQAAADgAAIA5AADAOAAAgDkAACA5AAAAuQAAALgAAIA4AAAAuQAAALkAAAC4AACguQAAYLkAAIC4AADAOAAAIDkAAGC5AACQuQAAYLkAAJC5AAAguQAAgDgAAAA5AACAOAAAAAAAAMC4AABgOQAAgDkAAIA4AAAAOQAAgLgAAKC5AACAuQAAgDgAAMA4AACAOAAAQDkAAMC4AACQuQAAADgAAMA4AADAOAAAwDgAAIA4AAAAAAAAALgAAMA4AAAgOQAAQDkAAGA5AADAOAAAgLkAACC5AACAOAAAADgAAIA5AADQOQAAwDgAAAA4AAAAOQAAAAAAAMA4AADAuAAAALgAAAA4AABAuQAAADkAAGA5AACAOQAAQDkAAEA5AABAOQAAAAAAAAC4AABAuQAAIDkAAMA5AACAuAAAADkAAEA5AABguQAAALgAACA5AADAuAAAwLgAAIA4AAAAuAAAYLkAAIC5AADAOAAAALkAALC5AACQOQAAAAAAAGC5AAAAOAAAALgAAIA4AABAuQAAwLgAAAA4AAAAuAAAwDgAAAAAAADAOAAAAAAAAJC5AAAAuAAAALgAAIC4AADAuAAAgDgAAMA4AADAuAAAADgAAAAAAAAAAAAAILkAAAC4AACAOAAAALkAACA5AADAOAAAALgAAKA5AACAuAAAYLkAAAAAAACAuQAAALkAAAAAAAAAOAAAgDgAAIC4AACQuQAAgLgAAAA4AAAAAAAAADkAAIA4AAAAAAAAgDgAAMA4AAAAuAAAgDgAAAC4AACAuAAAQDkAANA5AAAAOQAAwDgAALA5AABAOQAAwLgAAMA4AACgOQAAALgAAIA4AAAAuQAAsLkAAAC4AACAuAAAQDkAAAA5AAAAAAAAADgAAGC5AACAuQAAILkAAIC4AAAAuAAAADgAAAAAAAAAuAAAADkAAAC4AAAAuAAAADkAAAC4AADAuAAAALgAAAAAAADAOAAAwDgAAMA4AACAOAAAAAAAACC5AACguQAAILkAAAC4AADAOAAAQDkAAIA5AAAgOQAAgDgAACA5AADAOAAAwDgAAAC4AAAAAAAAgDgAACC5AAAgOQAAQDkAAEC5AAAAOAAAAAAAAIC4AADAuAAAwLgAAAA4AACwuQAAYLkAAAAAAAAAuQAAADgAAJA5AAAgOQAAADkAAMA4AAAguQAAALgAAIC4AACQuQAAALgAAMA4AACAuAAAALgAAMA4AAAAOAAAALgAAAC4AAAAuAAAILkAAAA4AACAOQAAkDkAAKA5AACgOQAAADgAAJC5AACQuQAAgLgAAAAAAACAuAAAYDkAACA5AADAuAAAADgAAMC4AACAuAAAwDgAAAA5AACAuAAAALgAAAA4AAAAOAAAADgAAAC4AACAOAAAALkAAJC5AADAuAAAAAAAAGC5AACAuAAAgLgAAIC5AADAOAAAYDkAAAA5AAAAOAAAAAAAAAA4AACAuAAAAAAAAAA4AAAAOAAAYDkAAAC4AABguQAAADgAAEC5AACAuQAAwLgAAIC4AACAuAAAYDkAAGA5AAAAAAAAQDkAAAAAAAAAuAAAALgAAMC4AAAAuAAAgDgAAKA5AADAOAAAQDkAAAA4AACAuAAAgLgAACC5AAAAOAAAAAAAAAA4AAAAuAAAADgAAAA4AAAAAAAAALgAAAAAAAAAuAAAAAAAAAA5AAAAOAAAALgAAMA4AACAOAAAADgAAAC4AAAAAAAAwDgAAIA4AAAAAAAAALgAAIC5AABAuQAAgLgAAAA5AACgOQAAoDkAACA5AABguQAAwLgAAMC4AACQuQAAkLkAAAC4AAAgOQAAAAAAAAA4AAAAuAAAAAAAAAAAAACAuAAAwDgAAAAAAAAAuAAAgDgAAIA4AACAOAAAADgAAAA4AAAAOAAAkLkAACC5AAAAAAAAILkAAAC4AAAAOAAAgDgAAAAAAAAAAAAAgDgAAAA4AAAAuAAAALgAAAA5AACAOAAAgDgAAEA5AADAuAAAALkAAIA4AAAAAAAAADgAAMC4AACAuQAAgLgAAAA5AABAOQAAkDkAAGA5AACAOQAAsDkAAAA4AAAAAAAAALgAACC5AAAAAAAAALgAAAAAAACQOQAAQDkAAAA4AAAAuAAAwLgAAEC5AABAuQAAAAAAACC5AADAuAAAADkAAAA5AAAAAAAAYLkAALC5AABguQAAgLgAAAC4AACAuAAAAAAAAAA5AACAOAAAADgAAMC4AAAAuQAAgLgAAIC4AACAOAAAgDkAAKA5AACAOQAAYDkAAAAAAADAuAAAALkAAAAAAADAOAAAYLkAAAA5AADAOAAAILkAAAA4AADAuAAAwLgAAAA4AADAOAAAgLgAAAAAAAAAAAAAgDgAAIC4AACAuQAAADgAACC5AADAuAAAwDgAAMC5AACguQAAwLgAAOC5AAAAuQAAgDkAACA5AADAOQAAgDkAAMA4AADAOAAAgLgAAKC5AAAAuAAAALkAAIC4AACwOQAAkDkAAGA5AACAuAAAALkAAIC4AADAuAAAALgAAAA4AAAAuAAAwDgAACA5AAAAOAAAQDkAAAAAAAAAuQAAgDgAAAC4AAAguQAAILkAAJC5AACQuQAAAAAAAEC5AABguQAAwLgAAAAAAAAAOAAAALkAAAAAAAAAuQAAIDkAAJA5AACAOAAAQDkAACA5AAAAuQAAALgAAAA4AACguQAAAAAAAIC4AAAguQAAYDkAAIA5AACAOAAAADkAAKA5AAAAuAAAADkAAAA4AADAOAAAYDkAAAAAAACAOQAAwDkAACA5AAAAAAAAADgAAMC4AACAuAAAALkAAAC4AAAAAAAAgLgAAAA5AAAAOAAAADgAAIA4AAAAOAAAwDgAAIC4AABAuQAAALgAAIC4AADQuQAAQLkAAIC4AADAuQAAILkAAAA4AABAuQAAgLgAAAAAAAAAuAAAgDgAAMA4AACwOQAA8DkAAIA4AAAAOAAAgLgAAAC5AACAuQAAwLkAAMC4AAAAuAAAALkAAIA4AAAAOAAAILkAAIA5AAAAOQAAALgAAAA5AAAAuAAAADgAAEA5AACAuAAAQLkAAIA4AADAuAAAQLkAALC5AABAuQAAgDgAAKC5AABguQAAwDgAAAA4AABAOQAAYDkAAAA4AABgOQAAADgAAEC5AACAuAAAALgAACA5AAAgOQAAILkAAEC5AAAAuQAAsLkAAOC5AABguQAA0LkAAIA4AADAOAAAADgAAKA5AAAAOQAAgDkAAMA5AADAOAAAgDkAAKA5AADAuAAAIDkAAIA4AAAAAAAAkDkAAAAAAACAOQAAwDkAAAA4AAAAOQAAgDgAAIA4AADgOQAAwDgAAGA5AABgOQAAgLgAACA5AAAAuQAAkLkAAKC5AADguQAA4LkAAIC4AAAguQAAwLgAAMA4AAAguQAAgDgAAMA4AADAuAAAwDgAAAAAAAAAuQAAsDkAAAAAAAAAOAAA4DkAAIA4AADAOAAAADgAAMC5AAAAAAAAIDkAAMA4AADAOQAAIDkAAGA5AADgOQAAADkAAGA5AACQOQAAwDgAAAC4AAAguQAAwLgAACA5AADAuAAAQLkAAAC5AADAuQAAQLkAAAC5AACQuQAAgDgAAAC5AABguQAAgDgAAGC5AACAuAAAoDkAACC5AACwuQAAwLgAAJC5AACAuQAAALoAAPC5AACAOAAAALgAAGC5AADAOAAAgLgAAMC4AAAAAAAAQLkAAIA5AAAAAAAAYLkAAIA5AAAAuQAAgLkAAIC4AADwuQAAgDgAAAC4AADguQAAoDkAAAC4AAAAuQAAEDoAAAAAAAAgOQAA0DkAALC5AABAOQAAkDkAAJC5AABgOQAAgLgAAAi6AABgOQAAQLkAACC5AACwOQAA0LkAAMA5AADgOQAAkLkAAAg6AAAgOQAAYLkAABg6AABAuQAAwLgAABA6AACwuQAAwDgAACA5AADwuQAAYDkAAAA5AAAAAAAAGDoAAMA4AADQOQAAQDoAAMA4AAAgOgAAIDoAACA5AAAYOgAAQDkAAAA4AAAgOgAAIDkAACA5AAAYOgAAgLkAAMA4AADAOQAAsLkAAMA5AACAOQAAAAAAABg6AABAuQAAADgAANA5AADQuQAAADgAAMC4AAA4ugAAgLgAAAC6AAAgugAAgDgAAAi6AADAuAAAkDkAABi6AAAAAAAAADkAAKC5AADQOQAAADkAAEC5AADgOQAAALkAAEC5AABgOQAAsLkAAIA4AACAOAAA4LkAAAA5AABguQAAwLkAAMA5AAAAuAAAgLgAAMA5AACQuQAAkLkAAMC4AADQuQAAAAAAAAC5AAAwugAAkLkAACC6AAA4ugAAQLkAADC6AADQuQAAgLgAAJC5AACAOQAAQDkAAMC4AADAOQAAgDgAAAA4AACwOQAAwLgAAAA5AAAAOQAAELoAAMC4AAAAuAAAQLkAAEA5AAAAuAAAoLkAACA5AAAAuAAAADkAAKA5AADAuAAAsDkAAAA5AACguQAAoDkAAIC4AADAuAAAYDkAAIC5AAAAuAAAADkAAEC5AAAAOQAAYDkAAAAAAADwOQAAEDoAAGA5AAAIOgAAADoAABg6AAAgOgAAALkAAAA5AABgOQAA8LkAAAC4AACAOAAAYLkAACA5AAAAuQAAgDgAAJA5AAAguQAAADoAABA6AACAOAAAgDkAAEA5AAAAAAAAYDkAAAC5AAAAuAAAIDkAAKC5AACguQAAkLkAAJC5AAAAOAAAADgAAGA5AAAYOgAAwDkAACA6AAAoOgAAkDkAAMA5AACAOQAAAAAAAMA4AACAuAAAYLkAAIC4AAAguQAAoLkAAAC5AACAuQAAoLkAAMC4AAAAOAAAkDkAALA5AAAAuAAAoDkAAAA5AABguQAAAAAAAGC5AACwuQAAoLkAAOC5AACwuQAAsLkAAPC5AAAguQAAYLkAAEC5AAAAuAAAILkAAAA5AACAOQAAkDkAABA6AACwOQAAwLgAAIA5AADAuAAAKLoAAMC5AACguQAAGLoAAMC5AACwuQAAYLkAAAC5AACAuQAAwDgAAAA4AADAuAAAADkAAAAAAAAAuQAAALgAAPC5AACguQAAILkAABC6AADwuQAA8LkAAEC6AACQuQAAYLkAAEC5AADQOQAAwDgAAAA6AAAwOgAAQDkAAPA5AADwOQAAAAAAACA5AADAOAAAADgAAAA5AACAuQAAgDgAAAC4AAAAuQAAALgAAGC5AAAAOAAAYDkAAGA5AACgOQAAsDkAAIA5AABgOQAAgDkAAEA5AAAgOQAAQLkAAAC5AAAAAAAACLoAAGC5AACAOAAAkLkAAOA5AADAOQAAAAAAABg6AAAgOgAACDoAAFg6AAAYOgAAGDoAABg6AADAOAAAwDgAAMA4AACAuQAAADgAAGC5AAAAugAAAAAAAAC5AAAguQAAoDkAAIC4AACAOAAAIDkAAMC5AAAAOAAAALkAAOC5AAAguQAAsLkAAIC5AAAguQAA0LkAACC5AACAuQAAwLkAAAC4AAAguQAAADgAAGA5AAAAAAAA0DkAANA5AAAgOQAAoDkAAMA4AAAAOAAAoDkAAAA4AAAAAAAAgLkAAGC5AABgOQAAQLkAAKC5AAAAuQAAYLkAAAC5AAAAAAAAILkAAAAAAAAguQAA4LkAAIC5AABguQAAsLkAAIC5AAAguQAAALoAAGC5AAAguQAAkLkAAIA4AAAAuAAAwDgAAMA5AABgOQAAoDkAALA5AAAgOQAAoDkAAEA5AADAOAAAIDkAAAAAAAAgOQAAgDgAAAAAAAAAuAAAgLgAAAA4AADAuAAAwLgAAGC5AABguQAAwLgAAMC4AACwuQAAoLkAAAA4AACwuQAAoLkAAAC5AABguQAAwLgAAAA4AAAAAAAAAAAAAAC4AACAOAAAIDkAAAC5AAAAAAAAwDgAAMA4AADQOQAAQDkAAAA6AADwOQAAgLgAAIA5AACAOQAAADgAAEA5AAAAOQAAwDgAAAC4AACAOAAAADgAAMC4AAAAAAAAYLkAAAAAAAAAOAAAwLkAAMC4AAAguQAAILkAAAAAAAAAuQAAoLkAAJC5AADguQAAkLkAAIC4AADAuAAAkDkAAIA5AADAOQAAwDkAAIA4AABAOQAAIDkAAAC4AABAOQAAADkAAAAAAAAAAAAAwLgAAGA5AAAAOQAAwLgAAAA5AAAgOQAAALkAAIC4AAAAAAAAADkAAAAAAADwuQAAgLkAAAAAAADwuQAAsLkAACC5AABguQAAwLgAAJC5AAAAOQAAIDkAAIA4AADAOQAAADkAAIC5AAAAuAAAgLkAAIC5AABguQAAALoAAAA5AACAOQAAALgAAAA4AACAOQAAkDkAAAAAAAAAOQAAkDkAAGC5AACAuQAAwDgAAIC4AAAAuQAAgDgAAMA4AAAAOAAAALgAAMC4AACAuAAAALgAAMC4AAAAOQAAQLkAAIC5AAAAAAAAALgAAAAAAABguQAAYLkAAAC4AAAAAAAAgDgAAJA5AACgOQAAIDkAAMA4AAAAOQAAADkAAAC4AAAAAAAAADgAAAA4AAAAAAAAgDkAAAC4AABguQAAsDkAAIA4AACAuQAAALgAAMC4AACAuAAAAAAAACC5AAAAuAAAADgAAAC5AACAOQAAADkAAMC4AAAAOQAAwDgAAAC4AAAAOAAAAAAAAAA5AABguQAAwLkAAIA5AABgOQAAAAAAAAAAAACAOAAAADgAAAC4AAAAOAAAIDkAAIC4AAAAAAAAALgAAJC5AAAAuAAAwLgAAAC5AACAuAAAILkAAMA4AAAgOQAAALkAAIC4AACAOAAAwLgAAAA4AAAAAAAAoLkAAAC4AADAOAAAAAAAAAAAAACAuAAAIDkAAMA4AAAAuAAAADkAAEA5AABguQAAwLgAACA5AAAAAAAAgLkAALC5AAAAOAAAgDgAAAC5AADAOAAAsDkAAMA4AACAOAAAwDgAAMA4AACAuAAAwLgAAAAAAAAAAAAAwLgAAGC5AAAAOQAAADgAAIA4AADAOQAAgDkAACA5AAAAOAAAoDkAAEA5AACAuAAAwLgAAMC4AADAuAAAADgAACC5AABguQAAALgAAAA4AACgOQAAkDkAAAAAAAAAAAAAADgAAAC4AAAAuAAAsLkAAIC5AADAuAAAwLkAAAC5AAAAOAAAgLgAAMA4AAAAOAAAoDkAAMA5AACAuAAAILkAAIA4AAAAuAAA0LkAALC5AACQuQAAwLgAAAC4AAAAuQAAADkAACA5AAAAAAAAYDkAAJA5AACAuAAAALgAAAAAAAAAuQAAALgAAMC4AAAAAAAAAAAAAAC4AACAOAAAgDkAACC5AAAAuAAAALgAAGC5AAAAOQAAgLgAAIC4AADAOAAAgLgAAIA4AABAOQAAAAAAAIA4AAAAOAAAADgAAAA5AACAuAAAAAAAAIA4AACAuAAAALgAAAA5AADAOAAAwDgAAAAAAAAAAAAAYDkAAAAAAAAAAAAAwDgAAMC4AAAAAAAAwLgAAGC5AACAuAAAILkAACA5AACQOQAAYLkAAIC5AAAAOQAAgDkAACA5AAAAAAAAQLkAAIA4AAAAuAAAwLkAAAAAAABguQAAoLkAAIA4AAAAuQAAADgAAAA4AAAAOAAAIDkAACA5AABgOQAAoDkAAAA4AABAuQAAIDkAAIA4AAAAOAAAAAAAAKC5AADAOAAAgDgAAEC5AACQOQAAALgAAAA5AACgOQAAYLkAAAC4AAAAuQAA0LkAAAA5AAAAOAAAoLkAAIA4AABguQAAILkAAIA5AAAAuAAAAAAAACA5AAAAAAAAgDgAAAC4AABAuQAAADgAACC5AADAOAAAQDkAAAC5AACAOQAAoDkAAAC4AAAgOQAAYDkAAIA4AACAOAAAQLkAAEC5AABAOQAAADgAAEC5AAAAuAAAgDgAAAAAAAAAAAAAAAAAAEA5AACAuAAAsLkAAAA4AABguQAA0LkAAAA5AAAAuAAAoLkAAAA4AACAOQAAkDkAAIA5AACAOQAA4DkAAMC4AACAuQAAQDkAAJC5AADQuQAAwLgAAAC5AADAuAAAgDgAAEC5AABAuQAAgDgAAIA4AAAAAAAAALgAAAC4AAAAOAAAADgAAEC5AACguQAAgLgAAAA5AADAuAAAYLkAAAA5AACAuAAAAAAAAEA5AAAAuAAAADkAAIC4AACwuQAAALkAAIA4AAAAAAAAADgAAAAAAADAOAAA4DkAACA5AAAAuAAAIDkAAIA4AADAOAAAQDkAAMC4AABAOQAAQDkAAMC4AAAgOQAAALgAAIC4AACAOAAAALkAAAAAAADAOAAAgLgAACA5AACAuAAAALgAAMA5AACAuAAAwLgAAKA5AACAOAAAAAAAAMC4AADwuQAAQLkAAIC4AAAAOAAAwDgAAIC4AAAAAAAAADgAAAC4AACAOQAAQDkAAEC5AAAAOQAAAAAAAGC5AAAAuAAAALgAAEC5AACAOQAAsDkAAAAAAACAOAAAALkAAIC4AAAAuAAAALkAAAAAAACAuAAAADgAAIA4AAAAAAAAADgAAAAAAAAguQAAALgAAAA5AACAuAAAkLkAACC5AAAguQAAQDkAALA5AABgOQAAYDkAAMA4AADAOAAAADkAAAAAAACAuAAAALgAAJC5AABAuQAAALgAAAC5AAAAAAAAALgAAMC4AACgOQAAADkAAAC4AACAOAAAAAAAAGA5AACAuAAAALkAAIC4AACQuQAAADgAACC5AACwuQAAALgAAIA4AAAAuAAAALgAAIA4AAAAAAAAgLgAAAAAAACAuAAAAAAAAMA4AAAguQAAwDgAAJA5AAAgOQAAAAAAAAAAAACgOQAAoDkAAAC4AACAOAAAADkAAMC4AABgOQAAYLkAAOC5AAAAOAAAkLkAAJC5AAAAAAAAwLkAACA5AACAOQAAwLgAACA5AAAAuAAAALgAAAA4AACguQAAADkAAJA5AACQuQAAgDgAACA5AADAuQAAkLkAAMC5AACAuQAAYDkAAJA5AACAOQAAIDkAAAA4AAAgOQAAALkAAOC5AACAuAAAIDkAAGA5AACwOQAAIDkAAAA4AAAAOQAAALkAAGC5AADAOAAAAAAAACC5AAAAuAAAgLkAAIC4AACAOAAAoLkAACC5AAAAOAAAADgAAMA4AAAguQAAkDkAANA5AAAAAAAAADkAAAAAAACwuQAAwLgAAIC4AAAAAAAAIDoAALA5AACgOQAAkDkAAIC4AACAOAAAwLgAAAAAAAAAOAAAgLkAAAC5AACQuQAAwLkAAAA5AAAAOQAAALkAAAAAAADAuAAAwDgAAAC4AADAuAAAADkAAAA5AAAgOQAAgDgAAAA5AAAAAAAAgLkAAJC5AAAguQAAADgAAAAAAAAguQAAALgAACA5AAAAOAAAgDgAAAC4AACAuAAAADgAAAA5AACAOAAAALkAAAA4AACAOAAAAAAAAAAAAADAOAAAgLgAAJC5AACQuQAAALkAAIA4AAAAuAAAILkAAAC5AAAgOQAAoDkAAEA5AAAAOAAAwLgAAIA4AAAAuAAAgDgAACC5AADAuQAAgDgAAIC4AAAAAAAAQDkAAAAAAACAOAAAwDgAAAAAAAAAAAAAgDgAAIC4AADAOAAAYDkAAEA5AAAAuQAAwLkAAOC5AADAuQAAADgAAIA5AACQOQAAADoAAPA5AAAgOQAAwLgAAMC5AAAAAAAAAAAAAAA4AAAgOQAAwLgAAAC4AADAuAAAALgAAAC4AAAguQAAAAAAAAC4AAAAOAAAwDgAACC5AABAuQAAYDkAAAA4AABAOQAAwDkAAIC4AACAuAAAgLgAAIC4AACAOAAAADkAAAA4AACAuAAAILkAAAA4AACAuAAAkLkAAAAAAAAAuQAAgDgAALA5AAAAuAAAADgAAMA5AAAgOQAAgDgAAIA4AABAuQAAYLkAAAA4AAAAAAAAILkAAAA4AAAAOAAAgLgAAAA4AAAAAAAAgLgAAIC4AAAAOAAAYDkAAAA5AABAOQAAoDkAAEC5AACwuQAAYLkAANC5AACAOAAAkDkAAIC4AABAOQAAQLkAAMC5AABguQAAwLgAAJA5AACAOAAAwDkAAMA5AACAOAAAAAAAAAAAAADAuAAAALkAAAA4AAAguQAAgDgAAAA5AADAuAAAQDkAAMA4AACguQAAILkAAMC4AACAuQAAALgAAKA5AAAAOgAAgDkAAAA5AABAuQAA0LkAAJC5AABguQAAYLkAAAC4AADwOQAAGDoAAAA5AABguQAAkLkAAJC5AACAuAAAALgAAAC4AADQOQAAQDkAAMC4AAAAOAAAkLkAACC5AAAguQAAALkAAAA5AACAOAAAwDgAACC5AACAuQAAQDkAACA5AACAuAAAADgAAIA4AABAOQAAAAAAAKC5AAAAuAAAwLgAAGA5AACwOQAAADgAACA5AAAAAAAAoLkAAMC4AAAAuAAAwLgAAKA5AADgOQAAYDkAAEA5AAAAuQAAsLkAAPC5AACAuQAAAAAAACC5AAAgOQAAYDkAAAC5AAAAOAAAALkAAEC5AABAuQAAYLkAALA5AACQOQAAgDkAAKA5AABguQAAkLkAAIC4AAAAuQAAgDgAACA5AACAOQAAEDoAAGA5AADAuAAAALkAACC5AAAAAAAAgLgAAGA5AADwOQAAADkAAMA4AAAAuQAAYLkAAMC4AACAuQAAYDkAALA5AADAOAAAoDkAAGA5AADAuAAAgLgAACC5AACAuAAAgDgAAAC4AAAgOQAAwDgAAAAAAABAuQAAYLkAACC5AAAAuQAAgLgAAIA4AADAOAAAwDgAAEA5AACAuAAAALkAAAC5AAAguQAAgLgAAAAAAADAOAAAALgAAIC4AAAAuQAAILkAAIA4AAAAuAAAwLgAAIA5AAAgOQAAgDkAAEA5AADAuAAAQLkAAMC5AADAuAAAIDkAAIA4AACAOAAA0DkAAIA4AACAuQAAALkAABC6AACguQAAgDgAAAAAAACQOQAAsDkAAAAAAACguQAAILoAABi6AACAuQAAALgAAKA5AABgOQAAIDkAAAAAAAAIugAA4LkAAEC5AAAAuQAAoDkAAMA5AAAAOgAAoDkAAAC4AADAuQAAILoAAJC5AAAAuAAAYDkAAPA5AACQOQAAADgAAAC5AADguQAAILoAAIC5AACAOAAAYDkAAIA5AACwOQAAALgAAPC5AADAuQAA4LkAAIC5AADgOQAAwDkAAGA5AABAOQAAgLkAAAC6AACguQAAYLkAAIC5AACAuAAAYDkAANA5AAAAAAAAILkAAIA4AACguQAAYLkAAAC4AACQOQAAKDoAAMA4AAAAOQAAALgAAGC5AAAAOAAAALkAAMA5AADwOQAAADkAANA5AAAAOQAAsLkAAIC4AAAAOAAAgLgAAPA5AADAOQAAsDkAAIA5AAAAOAAAADgAAAA4AABAOQAAADkAAAA5AACAOQAAADkAAMA4AABAOQAAgLgAAAC4AACgOQAAwDgAAMA4AADwOQAAgDkAAAA4AADAuAAAALgAACA5AACAuAAAkDkAAMA4AACAuAAAgDgAAMA4AABAOQAAALgAAEA5AAAAuAAAwLgAAAA4AAAAOAAAQDkAAAC4AADAuAAAAAAAAAA5AAAAuAAAgLkAAAC5AABguQAAgLkAAGC5AABguQAAgLkAAKC5AADAuQAAsLkAAAA4AADAuAAAYLkAAGC5AADAuQAAYLkAAKC5AACguQAA0LkAAAC4AABAOQAAwLgAAAC5AACguQAAsLkAACi6AAAAugAAALkAAJC5AAAAuQAAALgAAGC5AACwuQAAoLkAAJC5AACguQAAILkAAMC4AAAAuAAAAAAAAIC4AACwuQAAELoAAAi6AADguQAAwLgAAAC5AAAAuAAAIDkAAAC4AACAuQAAALoAANC5AAAAAAAAwLgAAIC5AAAAOAAAwDgAAAC4AAAAuQAAgLgAAAAAAACAOAAAALkAAJA5AAAAAAAAoLkAAAA5AABAuQAAgLkAAAA4AAAgOQAAYDkAACA5AACQOQAAQDkAAAA4AABAuQAAwLgAAMA4AAAgOQAAkDkAALA5AAAAOAAAgLgAAIA4AAAAOAAAQDkAAGA5AABgOQAA8DkAAIA4AACAOAAAYDkAACC5AACAuAAAgDgAANA5AADAOQAAkDkAAAA6AACgOQAAALkAACC5AADAOAAAADkAAKA5AABgOQAA0DkAADA6AACAOAAAgDgAAMA4AACAuAAAwDkAABA6AADQOQAAQDkAALA5AAAgOQAAADgAACA5AAAAOAAAQDkAAMA4AACAOQAAoDkAAIA4AACAOQAAsDkAAGA5AACAuAAAIDkAAEA5AAAAuAAAgDgAAIC4AACwOQAAIDkAAIC4AAAAOAAAILkAAMC4AAAAOAAAgLgAAMA4AAAAOQAAADkAAIA5AABAOQAAQLkAAMC4AABguQAAAAAAAAAAAAAAuQAAwDgAAJC5AACguQAAoLkAAJC5AACQuQAAALkAAMC4AACwuQAAkLkAALC5AACwuQAA0LkAAKC5AACAuAAAYLkAAJC5AADguQAA4LkAAOC5AADguQAAkLkAAJC5AADAuAAAYLkAAKC5AADwuQAAQLoAAAC6AACwuQAAYLkAAMC4AADAuAAAgLgAAPC5AAA4ugAAKLoAAMC5AADAuQAAALkAAMA4AADAOAAAALkAAAi6AAAIugAAILoAAPC5AAAAOAAAADgAAAA5AADAOAAAIDkAAEC5AADguQAAkLkAAIC5AABguQAAgDgAALA5AACAuAAAADgAAMA4AACAuAAAADkAAEA5AACgOQAAQDkAAIC4AAAAOAAAYDkAAEA5AABgOQAAwDkAAOA5AACwOQAAkDkAAEA5AAAAOAAAALgAALA5AADAOQAA4DkAANA5AADwOQAAADoAAAA4AACAOQAACDoAANA5AADQOQAA8DkAAAg6AAAAOgAAwDkAAKA5AADAOQAAYDkAAAA6AABQOgAAGDoAAOA5AAAgOgAAADoAAKA5AABgOQAAoDkAALA5AABAOQAAoDkAAEA5AACwOQAA4DkAAKA5AACAOQAAADgAAMA4AAAAOQAAADkAAGA5AACAOQAAkDkAAJA5AAAAAAAAYDkAAGA5AABguQAAADkAAAC4AACAuQAAgLkAAIC5AAAAOQAAgLgAAEC5AABAuQAAYLkAAMC5AADwuQAAoLkAANC5AACQuQAAoLkAAIC5AACAuQAAALoAALC5AAAAugAAALoAAMC5AACwuQAAwLkAANC5AACAuQAAsLkAAPC5AAAIugAAkLkAAKC5AADAuQAA0LkAACC6AACQuQAAALoAAAC6AABAuQAAsLkAAJC5AAAAuQAAgLkAABC6AACguQAAILkAAEC5AADAuAAAAAAAAEC5AACwuQAAkLkAABC6AACguQAAILkAAAC5AACgOQAAgLgAAAAAAACAOAAACLoAAKC5AACguQAAgLgAAMA5AACQOQAACDoAAMA5AAAAAAAAwDgAAAA4AAAAOAAAQDkAANA5AADwOQAA8DkAAAA4AAAgOQAAgDkAACC5AACAOQAAsDkAAPA5AAAAOgAAwDkAAPA5AABAOQAAoDkAANA5AADgOQAACDoAANA5AADgOQAAwDkAAAA5AABgOQAAIDoAAAA6AAAYOgAASDoAAMA5AACQOQAAADkAAAA5AADgOQAA4DkAAAA6AAAoOgAAEDoAACA5AACAOAAAgDgAAMA4AADgOQAAGDoAAEA6AADwOQAAYDkAAAA4AAAguQAAILkAACC5AADAOQAAgDkAAGA5AADwOQAAgDgAAAC5AACAuQAAQLkAAGC5AAAguQAAgLgAAAC5AAAguQAA0LkAAAC5AABguQAAsLkAAEC5AABguQAAYLkAACC6AACguQAAkLkAANC5AABAuQAAkLkAAAC5AAAQugAA0LkAANC5AAAwugAAwLkAAKC5AAAAuQAAILkAAAC5AACAuQAAGLoAACC6AAAAugAAQLkAACC5AADAuAAAAAAAAIC4AAAguQAAkLkAAEC5AABAuQAAwLgAAMA4AACAOAAAwDgAAAAAAACAOAAAgLgAAIC4AAAAOAAAAAAAACA5AAAAOQAAYDkAAAA4AACAuAAAwDgAAMA4AAAAOQAAQDkAAGA5AABAOQAAADkAAGA5AAAgOQAAgDkAAIA5AACAOQAAoDkAAIA5AAAgOQAAADkAAEA5AAAAOQAAYDkAAGA5AACgOQAAEDoAAKA5AABgOQAAADkAAAA4AADAOAAAQDkAAIA5AABAOQAAkDkAAAA5AAAAOQAAgDgAAAC4AADAOAAAAAAAAKA5AACAOQAAwDgAAAA5AAAAuAAAwDgAAMC4AAAAuQAAwLgAAAAAAACQOQAAoDkAAEA5AAAAAAAAgLgAAEC5AABguQAAADgAAAAAAAAAuAAAQDkAAAAAAACAuAAAwLgAAKC5AABAuQAAYLkAAKC5AAAguQAAQLkAACC5AAAAuAAAQLkAAAAAAABAuQAAALoAAOC5AACQuQAAwLgAAGC5AACAuAAAkLkAAKC5AAAAuQAA0LkAAAC5AACAuQAA8LkAAAA4AAAAuQAA0LkAAAA4AAAAOAAAADgAAAA4AACQuQAAILkAAAC5AACAuQAAAAAAAMC4AAAguQAAALgAACA5AAAAOQAAQLkAAIC4AABguQAAoLkAAAC4AACAOAAAIDkAAIA4AAAAuAAAALgAAGC5AACguQAAgLgAACA5AABAOQAAwDkAAJA5AACAOAAAwDgAAEC5AAAAuAAAADgAAMA4AABgOQAAkDkAAIA5AAAAOQAAADkAAMC4AACAOAAAAAAAAEC5AADAOQAA0DkAAGA5AABgOQAAADgAAIC4AAAAOAAAwDgAAIA4AACwOQAAgDkAAIA4AACQOQAAALkAAEC5AAAAOAAAAAAAAAC4AABAOQAAAAAAAAAAAABgOQAAALgAAAA4AAAAuQAAgLkAAIC4AAAAuAAAIDkAAAA5AAAAOAAAwLgAAGA5AADAOAAAQLkAAIC4AABguQAAgDgAAAA4AADAuAAAgDgAAIC4AAAguQAAILkAAAC5AABAuQAAILkAAAA5AADAOAAAoDkAAAA5AABAuQAAwLgAAEC5AACAuAAAgDkAAAA4AABguQAAADgAAAAAAAAAAAAAAAAAANC5AADAuAAAgDgAAIC4AACAuAAAgLgAAAC5AAAAuAAAgDgAAAAAAACgOQAAIDkAAIC4AAAAuAAAsLkAAJC5AACAuAAAALgAAMA4AACgOQAAwDgAAGC5AACQuQAAsLkAAMC4AABgOQAAgDkAABA6AADwOQAAgLgAAMC4AACQuQAA4LkAACC5AAAAuAAAYDkAABg6AADAOQAAwDgAAMA4AAAAuQAAkLkAAAAAAAAAAAAAIDkAAEA5AABAOQAAsDkAAAA4AACQuQAAkLkAAEC5AAAAuAAAgDkAAGA5AACwOQAAgDkAAAC4AAAAOAAAADgAAMA4AAAAAAAAAAAAAAC4AADAOAAAwDgAAIC4AACQOQAAALgAAEC5AABgOQAAwDgAAIC4AAAAuAAAYLkAAEC5AABAOQAAwLgAAAC4AADAOAAAALgAAAA4AAAguQAAYLkAACC5AACAuQAAwLgAAIA4AAAAuQAAQLkAAMC4AAAguQAAQLkAAEC5AABguQAAQLkAACC5AAAguQAAsLkAAKC5AACwuQAAYLkAAAC4AADAuQAAoLkAAAC5AAAguQAAALgAAAAAAAAAOAAAgLgAAJC5AADAuQAAkLkAAGC5AACwuQAAkLkAAAA4AACAOAAAADgAAIA4AACAuAAAADgAAAA4AAAAAAAAIDkAAAA4AAAAuAAAQDkAAIC4AAAAAAAAsDkAACA5AABgOQAAwDgAACC5AAAAuQAAQLkAAJC5AAAAAAAAQDkAACA5AACQOQAAIDkAACA5AABAOQAAALkAAIC5AACAOAAAYDkAACA5AACgOQAAYDkAAAA4AAAgOQAAkLkAAIA4AAAAOgAAIDkAAPA5AAAQOgAAgDkAAJA5AACAOAAAgLgAACA5AAAAOAAAAAAAAAA6AACQOQAAgDgAAEA5AACAOAAAAAAAACA5AACAuAAAgLgAACA5AAAAuQAAIDkAAAA6AADAOAAAwDgAAAA4AAAAuQAAALgAAAC4AABguQAAIDkAACA5AAAAuAAA4DkAAAAAAACAuAAAgDkAAIC5AAAguQAAAAAAAAC5AACAOAAAQDkAAAC5AAAAAAAAYLkAAEC6AACwuQAAYLkAACC5AAAgOQAAgDgAAAC5AAAAuAAAALoAAPC5AACAOAAAQLkAAMC4AADAOAAAALkAAAC5AADAuAAAkLkAAEC5AADAuAAAALoAAMA4AABgOQAAILkAAJA5AADAuAAAILkAAGA5AABAuQAAgLgAAMA5AACAuAAAADgAAMA4AAAQugAAsLkAAAA4AACAuQAAgDgAAMC4AAAAugAAAAAAACC5AACAuQAAwDkAAIA5AAAAAAAAwDgAAAC4AADAuAAAIDkAACC5AACAuQAAIDkAAIC4AAAgOQAAIDkAAEC5AABAOQAAADgAAMC4AACgOQAAADkAAAC4AADQOQAAQDkAAAAAAAAAuAAAkLkAAIC4AACAOQAAYDkAAAA5AABgOQAAQLkAAKC5AACAuQAA4LkAAAA4AAAgOQAAwLgAAGA5AAAAOAAAwLgAAAAAAABguQAAILkAACA5AAAAAAAAAAAAAEA5AACguQAAILkAAGA5AADwuQAAALkAAIA4AACAuQAAQDkAAAA4AACAuAAAQDkAAAA4AADAuAAAADkAAAAAAABAuQAAAAAAAIC4AAAAOAAAgDkAAGC5AAAAAAAA0DkAAAC4AACAOAAAAAAAACC5AACAOQAAQDkAAIA4AADAOQAAYDkAAGC5AAAAOQAAALgAACC5AAAAOQAAoLkAAAAAAADwOQAAIDkAAIA5AAAAOQAAALkAAMA4AAAAOQAAAAAAANA5AACAOQAAIDkAAEA5AACAuQAAILkAAEA5AAAAOAAAgLgAAEA5AABgOQAAwDkAAIA5AABguQAAQLkAAJC5AABguQAAADkAAIC4AAAAuQAAgDgAAMA4AAAAuAAAADkAAAA5AAAAuAAAADkAAMC4AADAuAAAkDkAAMA4AACQOQAA0DkAAKA5AAAAOgAAADkAAGC5AAAAAAAAILkAAJC5AAAAuAAAgDkAAJA5AACAOQAAoDkAAMC4AAAguQAAgLkAAKC5AAAAOQAAALkAAGC5AAAAOAAAADkAAIA4AACAuQAAoLkAAJC5AACAuQAAoLkAAAA4AAAAuQAAQLkAAIC4AACwuQAAgLkAALC5AADguQAAkLkAACC5AACAuQAAwLgAAAA4AACQuQAAgLkAAIC5AAAguQAAgLkAAAC6AABAuQAAILkAAGC5AADAuQAA4LkAAKC5AAAAuQAAILkAAMC5AACQuQAAoLkAALC5AAAAuQAA8LkAAEC6AADAuAAAgDgAAAC5AABAuQAAsLkAAMA4AABAOQAAgDgAAAA5AAAgOQAAgDkAAKA5AABAOQAAIDkAAGA5AAAAOQAAYDkAAGA5AAAgOQAAgDkAACA6AADQOQAAgDkAAIA5AAAgOQAAsDkAAIA5AACQOQAA0DkAAIA5AABAOQAAIDkAACA5AAAAOQAAIDkAAEA5AACQOQAAIDoAAPA5AADAOQAAYDkAAIA4AAAgOQAAIDkAAOA5AACAOQAAIDkAAGA5AAAgOQAAAAAAAKC5AACAOAAAsDkAAEA5AACAOAAAgDgAALA5AACAOAAAALgAAAC4AAAAuAAAoDkAAIA4AACAOAAAADgAAMC4AAAAOAAAwLgAAGC5AAAAuQAAIDkAAKA5AABgOQAAgLgAAMC4AAAAuAAAQLkAAJC5AABAuQAAgDgAAIA4AADAuAAAwLgAAIC4AABguQAAILkAAMC4AAAguQAAQLkAAAC4AACAuAAAILkAACC5AAAAuQAAAAAAACC5AABguQAAYLkAACC5AABguQAA0LkAAJC5AACAOAAAwDgAACC5AABAuQAAwLkAAAi6AACwuQAAkLkAAMC5AACQuQAAALkAACC5AAAguQAAALkAAEC5AACAuQAA0LkAAPC5AADAuQAAAAAAAMC4AACguQAAkLkAAKC5AAAAAAAAILkAANC5AACAuAAAQDkAAEA5AABgOQAAQLkAAMC4AAAgOQAAADgAAMC4AADAuAAAwDgAAIA5AACwOQAAIDkAACA5AACAOQAAsDkAACA5AAAAuAAAgDkAAMA5AACQOQAAQDkAAEA5AAAgOQAAwDkAAPA5AADwOQAAGDoAALA5AACwOQAAsDkAAAA5AACAOQAAkDkAAEA5AAAAOQAAADkAAAA5AACgOQAAkDkAAIA4AADAOAAAkDkAAJA5AACAOQAAALgAAJC5AABAuQAAwLgAAMC4AAAAuQAAQDkAAIA5AACwOQAAADgAACC5AADAOAAAgDkAAEC5AADAuQAAADkAAAA5AAAAOAAAILkAAIC5AABguQAAgLgAALC5AADAuQAAwLgAAAA5AADAOQAAADgAAEC5AABguQAAALkAAAC4AAAAuQAAsLkAAAC5AACAuAAAoLkAAGC5AABguQAAALkAAAC4AACAuQAAYLkAAIC4AAAguQAAILkAAAC4AAAAuQAAALkAAIC4AABAuQAAALgAAIA4AACAuAAAILkAAIC4AACAuAAAQLkAAIA4AAAAAAAAgDkAAIA4AACguQAAoLkAAOC5AADguQAAQLkAAAAAAAAAOAAAgLgAAAA4AABAuQAAQLkAAAC4AAAAuQAAgLgAAAAAAABAOQAAwLgAAAAAAAAAAAAAgDgAALA5AAAgOQAAgDgAAAAAAAAgOQAAoDkAAMA4AACAOAAAADkAAAA4AAAAAAAAALgAAMC4AADAOAAAALgAAKC5AACQuQAAALkAACA5AABgOQAAIDkAAIA4AADAOAAAAAAAAAC4AAAAOAAAgDgAACA5AAAAOQAAwDgAAIA4AACAOQAAAAAAACC5AACAOAAAwDgAAAA5AADAOAAAADkAAIA4AACAOAAAwLgAAMC5AACAuQAAgLgAAAAAAAAAOAAAgDgAAIA4AAAguQAAgLgAAMA4AAAAOQAAALgAAJC5AAAAuQAAgDgAAIA4AAAAuAAAADgAAMA4AAAgOQAAgLgAAMC4AADAOAAAQDkAAEA5AAAAuAAAALkAAMA4AAAAOQAAQDkAAAAAAAAAAAAAADkAAAC4AABguQAAgLgAACA5AABAOQAAQDkAACA5AAAAOQAAADgAAAA5AAAAOQAAADgAACA5AABAOQAAADkAACA5AACAOAAAADgAANA5AADAOQAAADkAACA5AAAAOQAAwDgAAKA5AACwOQAAADkAAAA5AADAOAAAALgAAAA5AABAOQAAALgAAAA5AACwOQAAIDkAAAC4AAAAAAAAgDgAAIA4AACAuAAAwLgAAAC5AAAAuQAAILkAACC5AABAOQAAwDgAAAC5AAAAAAAAwLkAAAC5AADAOAAAQLkAAMA4AAAAOQAAgLgAAMC4AADAuAAAILkAAIC5AABguQAAILkAACC5AAAguQAAgLgAAEC5AAAAAAAAwDgAAGC5AAAguQAAsLkAAMC5AAAguQAAALkAAMC4AAAguQAAILkAAEC5AAAguQAAALkAAMC4AACAuAAAgLgAAAC5AAAguQAAALkAAAC4AADAuAAAgLgAAAC4AAAAuQAAAAAAAAAAAAAAuAAAADgAAAC4AAAAuAAAAAAAAGC5AAAAuQAAADgAAAA4AAAAAAAAgDgAAAAAAACQuQAAADgAAAA5AAAgOQAAgDkAAAC4AABAuQAAwLgAAMA4AAAgOQAAIDkAAAA5AAAAOQAAYDkAAMA4AAAAOQAAADkAAKA5AADQOQAAwDgAAIA5AABgOQAAgDkAAIA5AAAgOQAA8DkAAGA5AAAgOQAAgDgAAIC5AADAOAAAADkAAAAAAABAOQAAgDgAAAA5AACgOQAAIDkAAAAAAACAOQAAgDgAAAAAAAAguQAAILkAALA5AADAuAAAADkAAIA5AAAAuQAAALgAAIC4AABAuQAAwLgAAAC4AAAguQAAYLkAAAA4AAAAuAAAgLgAAIC4AADQuQAAsLkAAEC5AABAuQAAwLgAAEC5AABAuQAAgLgAAEC5AAAAAAAAQLkAAMC5AAAAAAAAALkAAIA4AADAuAAA0LkAAKC5AACQuQAAgLgAAIC4AAAAuAAAALgAAEC5AACAuAAAwLgAAAA5AACwOQAAADgAACC5AABAuQAAYLkAAEC5AACQuQAAwLgAAIA4AABAOQAAQLkAAAC5AACAOQAAgDgAACA5AADAOAAAgLgAAGA5AACwOQAAADkAAAA5AABAOQAAQDkAAMA4AAAgOQAAwDkAAAA5AADAOAAAQDkAAIA4AADAOAAAIDkAAGC5AAAAAAAAgDkAAMA5AADAOQAAwDgAAMA4AABAOQAAADkAAEA5AAAAOQAAwDgAAMA4AAAAuAAAALgAAJA5AABgOQAAIDkAAAAAAACAOAAAwDgAAAC4AADAOAAAADkAAIA4AACAOAAAAAAAAAC5AAAAAAAA0DkAAGA5AACAuAAAALgAAMC4AACAuAAAwLgAAIC4AAAAOAAAADgAAMC4AABAuQAAALkAAAAAAAAAuAAAgLkAAAC4AAAAOAAAoLkAAJC5AABAuQAAwLgAAAA5AADAOAAAALkAAEC5AADAuAAAADgAAMA4AAAguQAAAAAAAEC5AADguQAAADgAAKC5AADAuAAAoDkAAGC5AAAAuAAAALkAAIC5AACAuAAAQLkAAGA5AAAgOQAAILkAAAA5AAAguQAAsLkAAIC4AACAuAAAALkAAIC4AACAuAAAALgAAAA4AADAOAAAILkAAGC5AACAOAAAALgAAAC4AAAAAAAAADkAALA5AACgOQAAALgAAEC5AAAAAAAAgDgAAMA4AAAgOQAAwDgAAAC4AAAAAAAAADgAAAA5AABAOQAAADgAAAA4AAAAOAAAAAAAAMA4AABgOQAAwDgAAAA4AAAAOAAAkDkAAIA5AAAAuAAAALkAAGC5AACAOAAAwLgAALC5AAAAAAAAgDgAAAA4AAAAOAAAAAAAAAC4AAAAOAAAoDkAAAC4AAAAOQAAwDkAAAA5AAAAuAAAADkAAIC4AACguQAAADgAAAAAAAAAOAAAgDgAAMA4AACAuAAAgLgAAMA4AAAAAAAAAAAAAIC4AAAAAAAAALgAAAAAAACgOQAAwDgAAAC5AAAAAAAAALgAAAC5AAAAuAAAALgAACA5AADAOAAAALgAAIC4AAAAuQAAADgAAAC5AACQuQAAILkAAIC4AACAuAAAALkAAAC4AAAAuQAAsLkAAAAAAAAAAAAAALgAALA5AAAAAAAAkLkAAAAAAACAuAAAgLgAAIA4AAAAAAAAgDgAAIC4AADAuAAAAAAAAGC5AAAAOAAAIDkAAGC5AAAgOQAAYDkAAKC5AAAAOQAAQDkAAAAAAADAOAAAAAAAAIA4AAAAuAAAgLkAAAC5AACAuAAAAAAAAEA5AAAAuAAAgLkAAMA4AAAAOQAAADkAAIA4AAAAOAAAYDkAAMC4AACAuAAAwLgAAAC4AADAOQAAYDkAAAA4AAAAOAAAgDgAAIA4AAAAuAAAgDgAAAA4AADAOAAAgDkAAGC5AACQuQAAADgAAAA4AACAOAAAQDkAAAA4AAAAOAAAADkAAAC5AAAAOAAAAAAAAIC5AABAOQAAQDkAAAA4AAAAOAAAgLgAAAA4AAAAuAAAAAAAAKA5AAAAuAAAALgAAAAAAADAuAAAsDkAAJA5AACAOAAAIDkAACC5AAAguQAAgDgAAAA4AACAuQAAYLkAAAC4AADAuAAAQDkAAAA4AADAuAAAADkAAAAAAAAAOAAAoDkAAAA5AAAAOAAAgLgAAMC4AACAuAAAADgAAMA4AAAAuAAAALgAAMC4AADAuAAAwLgAAAA4AACAOAAAwLgAAMC4AAAAOAAAQDkAALA5AAAgOQAAALgAAAA4AACAOAAAwLgAAGC5AACAuAAAILkAAMC4AAAAuAAAALkAAAA4AADAuAAAgLgAAAA4AAAAuAAAwLgAAAC4AAAAAAAAADgAAAAAAABAuQAAALgAAAAAAAAAOAAAYDkAAAC5AABAOQAAkDkAAJC5AADAOAAAALgAAKC5AABgOQAAILkAANC5AACAOQAAAAAAAAC4AACAOQAAALkAAMA4AADAuAAAoLkAAAA4AADAuAAAAAAAAIA4AADAuAAAgDgAAIA4AAAAuAAAAAAAAAC5AACAuQAAgDgAAJA5AADAOAAAgDgAAJC5AAAguQAAADkAAIC4AACAOAAAgDgAAAC4AACAOAAAADgAAAC4AAAgOQAAALgAAGC5AAAAuQAAALgAAJA5AACwOQAAADkAAJC5AACAOAAAgLgAAMC4AAAAAAAAoLkAACA5AADAOAAAgLgAALA5AACAOAAAADkAAOA5AAAAAAAAADkAAMA5AAAAAAAAAAAAAKC5AADAuQAAALgAAAC4AADAuAAAwLgAACA5AABAOQAAwDgAAIA4AACAOQAAgDkAAAA4AABAOQAAILkAAJC5AACAOAAAALgAAAA4AABguQAAwLgAACA5AAAguQAAYLkAAIC5AADAuAAAwLgAAIA4AAAAOAAAgLkAAEA5AACAOQAAADgAAMA4AADAOAAAwDgAAMA4AAAAAAAAgDgAAAAAAACQuQAAQLkAACC5AAAAuAAAADgAAAAAAAAAAAAAADkAAIA4AADAOAAAADkAAIC5AAAAuQAAIDkAAAC5AABAuQAAgLkAAIC4AACAOAAAAAAAAKA5AAAAOQAAwDgAAEA5AAAAOAAAgLgAAIC4AACAOAAAgDgAAMC4AAAgOQAAQDkAAAA4AACgOQAAYDkAAMA4AAAAOAAAgDgAAIA4AACAuAAAwLgAAAC4AADAuAAAALgAAGA5AABgOQAAgDkAAIA5AACAuAAAALgAAIA4AACAuAAAgDgAAGC5AADAuAAAADkAAIC4AAAAAAAAgDgAAAC4AAAAuAAAADgAAAAAAACAuQAAkLkAANC5AABguQAAALkAAMA4AACAOQAAAAAAAAA4AADAOAAAADgAAMA4AAAguQAAkLkAAGC5AABAuQAAALgAAMA4AAAAuAAAALgAAKA5AACgOQAAwDgAAEA5AAAAOAAAALgAAAA5AACguQAAwLkAAKC5AACQuQAAgDgAAEC5AAAAuAAA8DkAACA5AABAOQAAYDkAAAAAAACAOQAAALgAACC5AAAAuAAAILkAAAA4AAAAOQAAILkAAAC4AAAgOQAAgDgAAAA4AAAAOAAAgDgAAIC4AAAAuAAAgLgAAIC4AABAuQAAYDkAAJA5AAAAAAAAsDkAAOA5AACAOQAAILkAAAC5AAAAuAAA4LkAAJC5AAAAAAAAYLkAAGC5AACgOQAAQDkAAMC4AAAAOQAAADoAACA5AABguQAAADgAAAAAAACQuQAAQLkAAAAAAADAuAAAgLgAAJA5AACQOQAAgDgAAAA4AABAOQAAgDgAAJC5AADAuQAAgLkAACC5AAAAuQAAQDkAAAC4AAAguQAAADkAAAA5AADAOAAAwDgAAGA5AAAgOQAAoLkAACC5AAAAAAAACLoAAKC5AADAOAAAgLgAAIA5AADwOQAAkDkAAIA4AAAAuAAAADgAAMA4AACwuQAAsLkAAAA5AAAguQAAgDgAALA5AACAOAAAwDgAAIA5AAAgOQAAgDgAAIC4AACAOAAAAAAAABC6AAAAuQAAgDgAAMC4AAAAOAAAADkAAAA4AAAAOAAAADkAAMA4AACAuAAAALkAAAA4AACAOAAAALkAAAC4AACgOQAAALgAAMA4AAAAOgAAwDgAAIC5AAAAAAAAAAAAAPC5AAAAugAAgLgAAAAAAABguQAAAAAAAOA5AACQOQAAsDkAAPA5AABgOQAAADgAAAAAAACAOAAAALkAAJC5AACAOAAAADgAAEC5AACAuAAAQDkAAAC4AADQuQAAoLkAAAA4AAAAuAAAALgAAMA5AACAOAAAQLkAAPA5AACwOQAAALkAACA5AADAOAAAgLgAAEC5AACAuAAAgLgAABC6AACAuQAAsDkAAAA4AADAuAAAIDkAACA5AAAAuQAAwLgAAGA5AACAuAAAgLkAAGA5AACgOQAAgLgAAIA4AACwOQAAILkAAPC5AACAOAAAgLgAABC6AACQuQAAADkAAAC5AACAuQAAwDgAAKA5AAAgOQAAgDkAAAg6AAAAOAAAILkAAJA5AACAOAAAELoAAGC5AACQOQAAgLkAAOC5AAAAOAAAIDkAAEC5AAAAuQAAoDkAAMC4AACguQAAYDkAAIA5AABguQAAALgAAMA5AACAuAAAwLkAAAC4AAAgOQAAwLkAAAC5AACQOQAAwDgAAIC5AAAAAAAAgDkAAIC4AAAAAAAAQDkAAMA4AACAuQAAsDkAAKA5AADAuAAAQDkAAIA5AABgOQAAwLgAAAA4AADQOQAAgDgAAAC5AACAOQAAADgAAGC5AABAOQAAoDkAACA5AABAOQAAYDkAAAAAAACAuQAAALkAAAA5AABguQAAsLkAACA5AABgOQAAAAAAAJA5AAAQOgAAADgAAAC5AADAOAAAAAAAAJC5AACAuQAAAAAAACC5AACQuQAAgLgAAAC4AACwuQAAwDgAAKA5AACAOAAAgDgAAGA5AACwOQAAgLgAAAC5AAAAOQAAALkAAGC5AAAAOAAAILkAAAC6AADAuAAAAAAAAJC5AACAuQAAALgAAMA4AACQuQAA4LkAACA5AAAguQAAwLkAAJA5AAAguQAA8LkAAIC4AAAgOQAAgDgAAAC5AACAOQAAADkAAAC6AAAAAAAAgDgAAPC5AADwuQAAALgAAAA4AADAuAAAwDgAANA5AABAOQAAgDgAAJA5AAAgOQAAALgAAGA5AADAOAAAQLkAAAA4AAAAOAAAQLkAAMC5AAAgOQAAsDkAAIC4AACAuAAAgDkAAJA5AACQuQAAgLgAAIA5AAAAuAAAoDkAAKA5AACAuAAAAAAAAMA4AABgOQAAALgAAMC4AAAgOQAAADgAAJC5AABgOQAAEDoAAKA5AACAOQAAkDkAAGA5AAAguQAAADgAAMA5AAAgOQAAoLkAAAC5AACAOAAAILkAAGA5AADQOQAAADgAAEC5AACAuQAAsLkAAOC5AAAAuQAAADgAAGC5AAAguQAAIDkAAAA5AADAuAAAwDgAALA5AAAAuQAAsLkAAIA4AAAAOAAAgLkAAMC4AAAAOQAAIDkAAIA4AAAAuQAAgLgAACC5AAAAuAAAgDgAACC5AADAuAAAQDkAAMA4AAAAuQAAsDkAAAA6AAAAAAAAkLkAAIA4AADAOAAAQLkAAAAAAACAOAAAAAAAAIC5AADAuAAAADgAAIC5AAAAOAAAgDgAALC5AAAAuQAAoDkAAAA5AAAguQAAQDkAAAA6AAAgOQAAgLgAAIA4AADAOAAAwLkAAGC5AAAAOAAA4LkAAOC5AADAuAAAgLgAAMA4AACQOQAA8DkAAJA5AAAAAAAAQDkAAAA4AADQuQAAYLkAACA5AADAuQAAILoAAAC4AACAuAAA4LkAAAAAAACQOQAAALkAALC5AAAAuQAAADgAACC5AADAOAAAQDkAAEC5AACguQAAwLgAAIA5AADAOAAAADgAAAA5AACQuQAAgLkAACA5AABAOQAAADgAALA5AACgOQAAgLgAAEC5AABgOQAAoDkAACC5AADAuAAAgDkAALA5AADAOAAAQDkAALA5AADQOQAAwDkAAIC4AACAuQAAALkAACA5AAAAOQAAILkAAAAAAAAgOQAAALkAAIC5AACQOQAA4DkAAAAAAAAAuAAAADkAAAC4AADAuAAAgLgAAIC4AACAOAAAwDkAAAA4AAAAuQAA0DkAAJA5AAAAuAAAALkAAAC4AABAuQAAoLkAAEC5AABAOQAA0DkAACC5AADguQAA4LkAAKC5AAAAuQAAADgAAMA4AAAAuAAAgLkAAKC5AAAguQAAgLkAAKC5AACwuQAA0LkAAJC5AADwuQAASLoAALC5AACAOAAAgLgAAIC5AAAAOAAAkDkAAIA4AABAOQAAMDoAALA5AABguQAAYLkAAAC5AABAOQAAALkAAEC5AAAAOAAAIDkAAGA5AAAAuAAAsDkAAEg6AAAwOgAAQDkAAIA4AADgOQAA0DkAAIC4AACAuAAAQDkAACA5AAAAuQAAALkAAPA5AACwOQAAwDgAAGA5AAAgOQAAwLgAAKC5AAAAAAAAAAAAAMA4AABAOQAAgLgAAEC5AAAAOQAA0DkAAAAAAACAOAAAEDoAAOA5AACAuAAAgLgAAAAAAAAgOQAAwDkAAIA4AAAAuAAAYLkAAIC5AAAguQAAYLkAAGA5AACwOQAAAAAAAGC5AAAAOAAAoDkAAAAAAADAuAAAALkAAOC5AAA4ugAAELoAAJC5AADAuQAAgLkAAMC4AACAuQAA4LkAAAi6AACAuAAAgDgAAAA4AACAuAAAsLkAACC5AACAOAAAwLgAAAC4AACQOQAAADkAAAC5AAAAuQAAoDkAACA6AACAuAAAYLkAAAA5AADAOAAAgLgAACA5AADQOQAAQDkAAEC5AADguQAAkLkAACA5AACQOQAAwDgAAEA5AACgOQAAgDgAACC5AACguQAAAAAAAIA4AADwuQAAALkAAAA5AACAuAAAYLkAAAC4AADwOQAAADkAAIA4AAAAAAAAkDkAABA6AACAOQAAIDkAAEC5AACAOAAAQLkAAMC5AACAOQAAGDoAABA6AACAOQAAwDkAAKA5AABAuQAAQLkAACA5AACQOQAAYDkAAIC4AAAAuQAAgLgAAIC4AADAuAAAILkAALC5AAAAugAAALoAAAA4AAAAOgAAgDkAAMC4AAAAugAA4LkAAAC5AAAAuQAAADgAALA5AAAAOAAAILoAACi6AAAguQAAADkAACA5AAAIOgAAEDoAACA5AADAuAAAkLkAACC5AAAAOQAAgDgAAGC5AACAuQAAAAAAAMA4AADAOAAAADkAAKA5AAAAAAAA4LkAAAC4AADAOQAAwDkAAAC5AACQuQAAkLkAADi6AAAIugAAQLkAAAAAAADAOAAAIDkAAIC4AACwuQAAwLgAAMA4AABAOQAAoDkAANA5AAAAuQAAELoAAAC5AACAOAAAALkAAAA5AADgOQAAIDoAALA5AADAOAAAGDoAACA6AADAOQAAoDkAAAAAAABAuQAAgDgAACA5AAAAOAAAAAAAAEA5AABguQAAMLoAAEC5AADQOQAA0DkAAMA5AACwOQAAQLkAAAC6AAAYugAAgLkAAAAAAACAuQAAGLoAAAC6AAAguQAAwLgAAAC5AAAAAAAAIDkAAAA5AACQOQAAwDkAAFg6AAAwOgAAAAAAAIC4AACAOAAAQLkAAIC5AACQOQAAKDoAAJA5AAAAuAAAADgAAAC4AACAuAAAAAAAAIA4AADgOQAA0DkAACC5AAAougAAMLoAACC6AAAQugAAALoAAGC5AAAAOAAAALgAAAC5AADAOAAAQDkAAKC5AACQuQAAILkAAMC4AACAOAAAADgAAEC5AACguQAAALkAAIC5AACQuQAAQDkAABg6AADwOQAAkDkAAMA5AACwOQAAwLgAAAC4AACwOQAAADkAAKC5AADAuQAAgLgAAKC5AAAQugAAwLkAAAC5AAAAAAAAADkAAGA5AAAgOQAAgDgAACA5AACguQAAOLoAABi6AAAQugAAGLoAAEC5AACQOQAAsDkAAMA4AABAOQAAsDkAAKA5AAAAOgAAWDoAAFA6AADQOQAAIDkAAJC5AAAIugAAwLgAAEA5AABgOQAA4DkAADA6AAAoOgAAgDkAALA5AAAgOgAAQDkAAEC5AACwuQAAALkAAEC5AAAYugAAALoAAFC6AACMugAAELoAAMC4AACAOQAAODoAAFg6AABgOQAAILkAAGC5AADwuQAAsLkAAIA4AACQOQAAALkAACC6AACguQAAILkAAAA4AAAAOgAAYDoAAEg6AAA4OgAAQDoAAJA5AACQOQAAgLgAAKC5AADAuQAA4LkAAGC5AAAguQAAALgAACA5AADAOAAAsLkAAIC5AAAAOQAAADgAAKC5AAAAuQAAwDgAAAC6AACQugAAaLoAACi6AAAIugAAILkAAEA5AABgOQAAQDkAAPA5AADgOQAAQDkAANA5AACAOQAAAAAAAAA5AACAOAAAADgAAJA5AAAgOQAAYDkAACA6AACQOQAAwDkAAGA6AAA4OgAAKDoAAPA5AACAuAAACLoAANC5AACQuQAA4LkAAJC5AADQuQAAwLkAANC5AAAgOQAAYDkAAAAAAAAAOgAAgDkAAAAAAAAAuQAAgLgAAPC5AABQugAA8LkAAGC5AABAuQAAALgAAPA5AAAQOgAACDoAAFA6AAAwOgAA8DkAAGA5AACAOAAAkDkAAIA4AACAuQAAILoAABi6AADAuQAAgLgAAIA4AAAAOAAAIDkAAMC4AAAAuQAAwLkAABi6AAAAugAAELoAALC5AABguQAAkLkAAAi6AABQugAAYLkAAIA5AACAOQAAsDkAANA5AADwOQAAADgAAJC5AADAuAAAwLgAAEC5AADAuAAAgDkAABA6AABgOQAAgDgAACA5AACAOQAAIDkAAAA4AADQOQAAkDkAAEC5AACAuQAAQLkAAAC6AABYugAAwLkAACC5AACAuAAAwDkAAJA5AAAAAAAAADgAAMA4AAAAAAAAAAAAAMA4AAAAOAAAADkAACA5AACAOAAAwLgAAIA4AACAuAAAIDkAAGg6AAAwOgAA0DkAAOA5AADAOQAAYDkAAMA4AABguQAAYLkAAIC4AAAAuAAAgDkAAJA5AACAOAAAoLkAAMC4AAAgOQAAALkAAAAAAADQOQAAsDkAAEC5AACwuQAAwLkAAKC5AAAgugAA0LkAAAAAAADAuAAAgDgAAAAAAAAAAAAAALgAAAC4AAAAOAAAADgAAKA5AAAIOgAA4DkAAAAAAAAAuQAAkLkAAAC6AAAAuQAAIDkAACA5AAAAOQAAADgAACC5AABAuQAAALkAAMC4AADAuAAAgLgAAAAAAADQuQAA4LkAAOC5AAAougAA8LkAAAC5AAAAOQAAgDkAAAC4AAAAuQAAAAAAALC5AABguQAAADgAAEA5AADAOAAAgDkAAAg6AACAuAAAwLkAACC5AAAAOQAAwDgAAKA5AAAQOgAAAAAAAIC4AACAOAAAAAAAAAC4AADAuAAAADkAAIA4AAAAOAAAALgAAIC5AAAguQAAQDkAACA5AADAOAAAQDkAAAA6AACQOQAAwDgAAMA5AACAuQAAELoAAAC5AACAOQAAADgAAAA5AAAYOgAAkDkAAGA5AAAYOgAACDoAAEA5AAAAuAAAADkAAMC4AABAuQAAwLgAACC5AACwuQAA4LkAAKC5AADAOAAAgDkAAAC4AAAAOgAA0DkAAAC4AADAuQAAGLoAABi6AAAgugAAkLkAAEC5AACAuAAAALkAAAC6AABguQAAoDkAAGA5AABAOQAAgDkAALA5AABgOQAAAAAAACC5AAAYugAAILoAAPC5AADAOAAAkDkAAAA4AABgOQAAADkAAMC4AADAOAAAADoAAKA5AACAuAAA4DkAAEA5AAAIugAAALoAAJC5AACAuQAAkLkAAIA5AAAQOgAAADoAANA5AACwOQAAADkAAAA4AABAOQAAAAAAAIA5AABgOQAAALgAAAC5AABAuQAAILkAAAC4AACgOQAA8DkAALA5AABgOQAAwDgAAMA4AABAOQAAgLgAAOC5AADwuQAAoLkAAIC5AAAAuQAAALgAAAA4AADAOAAAYLkAAAC6AAAguQAAgDkAAAC5AAAgugAAILkAAMC4AABAugAACLoAAMC4AAAAuAAAkLkAAMC4AACAOQAAgDkAAMA4AAAguQAAQLkAAGC5AAAAuAAAAAAAAAC4AAAAOQAAILkAAAC6AACAuQAAALgAAAA4AAAAuAAAgDgAAIA5AABAOQAAQDkAAIC4AAAAuQAAAAAAAJC5AABguQAAADkAAEA5AADAOAAAALgAAAAAAADAOAAAIDkAAAA5AAAAOQAACDoAABA6AAAAOAAAIDkAABA6AACAOQAAALgAAAA4AACAOQAAoDkAAIA4AAAAOQAA8DkAACA5AAAguQAAQDkAAPA5AACwOQAA8DkAALA5AADAuAAAAAAAACA5AAAAAAAAYLkAAAA4AABAOQAAILkAAIA4AABAOQAAAAAAAIC5AACAuQAAgLgAAAA5AAAAOQAAwLgAAMC4AABAuQAAgLkAAPC5AABguQAAAAAAAJC5AAAYugAAYLkAAIC4AAAAugAAQLkAAIA4AADAOAAAALgAAIC5AAAAuAAA0DkAAEC5AAAgugAAwLgAAKC5AADQuQAAgLgAAIA4AAAAAAAAgLgAAMC4AACQuQAAwLkAAMA4AAAgOQAA4LkAACC5AACAOQAAALkAAIC4AAAAOQAAwDgAAMC4AAAAuAAAgDkAALA5AAAgOQAAwDgAAEA5AAAgOQAAADkAAIA4AAAgOQAAQDkAACA5AAAAuAAAADgAANA5AAAgOQAAADgAAGA5AABgOQAAgDgAAAAAAADAOAAAADkAAAA4AAAAuQAAAAAAAIA4AAAAuAAAAAAAAAA5AACAOAAAADgAAAA5AACAuAAAAAAAAAA5AABAOQAAYLkAAAi6AACQOQAAQDkAAAC6AADAuAAAgLgAAMC4AACAuQAAgDkAABg6AACAuAAAILkAAAAAAAAAuQAAALkAAIA4AACAOAAAYLkAAMC5AACQuQAAkLkAAAA4AACQOQAAQLkAAGC5AADQOQAAwDg=\" type=\"audio/x-wav\" />\n",
       "                    Your browser does not support the audio element.\n",
       "                </audio>\n",
       "              "
      ],
      "text/plain": [
       "<IPython.lib.display.Audio object>"
      ]
     },
     "execution_count": 137,
     "metadata": {},
     "output_type": "execute_result"
    }
   ],
   "source": [
    "while True:\n",
    "    index = random.randint(0, len(val_set))\n",
    "    waveform, sample_rate, label,= val_set[index]\n",
    "    logits_argmax = softmaxs_val[index].argmax(dim = -1).squeeze()\n",
    "    if label !=  index_to_label(int(logits_argmax)):\n",
    "        wrong += 1\n",
    "        break\n",
    "    cor +=1\n",
    "    \n",
    "\n",
    "plt.plot(waveform.t().numpy());\n",
    "plt.show()\n",
    "waveform.shape\n",
    "\n",
    "\n",
    "import IPython\n",
    "\n",
    "print(index)\n",
    "print(label)\n",
    "print(softmaxs_val[index])\n",
    "figure(figsize=(20, 4), dpi=80)\n",
    "plt.scatter([index_to_label(i) for i in range(0,len(softmaxs_val[index]))],softmaxs_val[index])\n",
    "plt.show()\n",
    "logits_argmax = softmaxs_val[index].argmax(dim = -1).squeeze()\n",
    "print(\"Predition\", index_to_label(int(logits_argmax)))\n",
    "print(\"Accuracy\", cor / (cor + wrong))\n",
    "torchaudio.save('a.wav', waveform, 16000)\n",
    "IPython.display.Audio(\"a.wav\")\n"
   ]
  },
  {
   "cell_type": "code",
   "execution_count": 53,
   "metadata": {
    "execution": {
     "iopub.execute_input": "2022-05-09T14:44:10.407423Z",
     "iopub.status.busy": "2022-05-09T14:44:10.407118Z",
     "iopub.status.idle": "2022-05-09T14:44:10.412306Z",
     "shell.execute_reply": "2022-05-09T14:44:10.411568Z",
     "shell.execute_reply.started": "2022-05-09T14:44:10.407389Z"
    }
   },
   "outputs": [],
   "source": [
    "whole_loader = DataLoader(\n",
    "    whole_set,\n",
    "    batch_size=batch_size,\n",
    "    shuffle=True,\n",
    "    drop_last=False,\n",
    "    collate_fn=collate_fn,\n",
    "    pin_memory=True,\n",
    ")"
   ]
  },
  {
   "cell_type": "code",
   "execution_count": 54,
   "metadata": {
    "execution": {
     "iopub.execute_input": "2022-05-09T14:44:12.241511Z",
     "iopub.status.busy": "2022-05-09T14:44:12.240854Z",
     "iopub.status.idle": "2022-05-09T14:44:12.316674Z",
     "shell.execute_reply": "2022-05-09T14:44:12.315977Z",
     "shell.execute_reply.started": "2022-05-09T14:44:12.241469Z"
    }
   },
   "outputs": [],
   "source": [
    "model4 = RNN2(16000, 512, 4, len(labels)).cuda()"
   ]
  },
  {
   "cell_type": "code",
   "execution_count": 55,
   "metadata": {
    "execution": {
     "iopub.execute_input": "2022-05-09T14:44:31.603544Z",
     "iopub.status.busy": "2022-05-09T14:44:31.602779Z",
     "iopub.status.idle": "2022-05-09T15:12:19.264143Z",
     "shell.execute_reply": "2022-05-09T15:12:19.263341Z",
     "shell.execute_reply.started": "2022-05-09T14:44:31.603494Z"
    }
   },
   "outputs": [
    {
     "name": "stderr",
     "output_type": "stream",
     "text": [
      "Training (epoch=0/30): 100%|██████████| 263/263 [00:55<00:00,  4.73it/s, batch acc=0.426]\n"
     ]
    },
    {
     "name": "stdout",
     "output_type": "stream",
     "text": [
      "Train acc 0.5279072885168248\n"
     ]
    },
    {
     "name": "stderr",
     "output_type": "stream",
     "text": [
      "Training (epoch=1/30): 100%|██████████| 263/263 [00:55<00:00,  4.73it/s, batch acc=0.738]\n"
     ]
    },
    {
     "name": "stdout",
     "output_type": "stream",
     "text": [
      "Train acc 0.64276883202002\n"
     ]
    },
    {
     "name": "stderr",
     "output_type": "stream",
     "text": [
      "Training (epoch=2/30): 100%|██████████| 263/263 [00:55<00:00,  4.73it/s, batch acc=0.738]\n"
     ]
    },
    {
     "name": "stdout",
     "output_type": "stream",
     "text": [
      "Train acc 0.7568706895267603\n"
     ]
    },
    {
     "name": "stderr",
     "output_type": "stream",
     "text": [
      "Training (epoch=3/30): 100%|██████████| 263/263 [00:55<00:00,  4.72it/s, batch acc=0.902]\n"
     ]
    },
    {
     "name": "stdout",
     "output_type": "stream",
     "text": [
      "Train acc 0.7974766508274619\n"
     ]
    },
    {
     "name": "stderr",
     "output_type": "stream",
     "text": [
      "Training (epoch=4/30): 100%|██████████| 263/263 [00:55<00:00,  4.74it/s, batch acc=0.754]\n"
     ]
    },
    {
     "name": "stdout",
     "output_type": "stream",
     "text": [
      "Train acc 0.8237528488224867\n"
     ]
    },
    {
     "name": "stderr",
     "output_type": "stream",
     "text": [
      "Training (epoch=5/30): 100%|██████████| 263/263 [00:55<00:00,  4.74it/s, batch acc=0.803]\n"
     ]
    },
    {
     "name": "stdout",
     "output_type": "stream",
     "text": [
      "Train acc 0.8336585583841032\n"
     ]
    },
    {
     "name": "stderr",
     "output_type": "stream",
     "text": [
      "Training (epoch=6/30): 100%|██████████| 263/263 [00:55<00:00,  4.73it/s, batch acc=0.869]\n"
     ]
    },
    {
     "name": "stdout",
     "output_type": "stream",
     "text": [
      "Train acc 0.8530379991956266\n"
     ]
    },
    {
     "name": "stderr",
     "output_type": "stream",
     "text": [
      "Training (epoch=7/30): 100%|██████████| 263/263 [00:55<00:00,  4.72it/s, batch acc=0.918]\n"
     ]
    },
    {
     "name": "stdout",
     "output_type": "stream",
     "text": [
      "Train acc 0.8611562122949965\n"
     ]
    },
    {
     "name": "stderr",
     "output_type": "stream",
     "text": [
      "Training (epoch=8/30): 100%|██████████| 263/263 [00:55<00:00,  4.74it/s, batch acc=0.918]\n"
     ]
    },
    {
     "name": "stdout",
     "output_type": "stream",
     "text": [
      "Train acc 0.871047026052761\n"
     ]
    },
    {
     "name": "stderr",
     "output_type": "stream",
     "text": [
      "Training (epoch=9/30): 100%|██████████| 263/263 [00:55<00:00,  4.74it/s, batch acc=0.836]\n"
     ]
    },
    {
     "name": "stdout",
     "output_type": "stream",
     "text": [
      "Train acc 0.8799100293447336\n"
     ]
    },
    {
     "name": "stderr",
     "output_type": "stream",
     "text": [
      "Training (epoch=10/30): 100%|██████████| 263/263 [00:55<00:00,  4.73it/s, batch acc=0.82] \n"
     ]
    },
    {
     "name": "stdout",
     "output_type": "stream",
     "text": [
      "Train acc 0.8862258501780048\n"
     ]
    },
    {
     "name": "stderr",
     "output_type": "stream",
     "text": [
      "Training (epoch=11/30): 100%|██████████| 263/263 [00:55<00:00,  4.73it/s, batch acc=0.902]\n"
     ]
    },
    {
     "name": "stdout",
     "output_type": "stream",
     "text": [
      "Train acc 0.8902477172180596\n"
     ]
    },
    {
     "name": "stderr",
     "output_type": "stream",
     "text": [
      "Training (epoch=12/30): 100%|██████████| 263/263 [00:55<00:00,  4.74it/s, batch acc=0.934]\n"
     ]
    },
    {
     "name": "stdout",
     "output_type": "stream",
     "text": [
      "Train acc 0.8997661358795227\n"
     ]
    },
    {
     "name": "stderr",
     "output_type": "stream",
     "text": [
      "Training (epoch=13/30): 100%|██████████| 263/263 [00:55<00:00,  4.73it/s, batch acc=0.869]\n"
     ]
    },
    {
     "name": "stdout",
     "output_type": "stream",
     "text": [
      "Train acc 0.9040114399773583\n"
     ]
    },
    {
     "name": "stderr",
     "output_type": "stream",
     "text": [
      "Training (epoch=14/30): 100%|██████████| 263/263 [00:55<00:00,  4.73it/s, batch acc=0.934]\n"
     ]
    },
    {
     "name": "stdout",
     "output_type": "stream",
     "text": [
      "Train acc 0.9082120566636378\n"
     ]
    },
    {
     "name": "stderr",
     "output_type": "stream",
     "text": [
      "Training (epoch=15/30): 100%|██████████| 263/263 [00:55<00:00,  4.72it/s, batch acc=0.967]\n"
     ]
    },
    {
     "name": "stdout",
     "output_type": "stream",
     "text": [
      "Train acc 0.9114444460995338\n"
     ]
    },
    {
     "name": "stderr",
     "output_type": "stream",
     "text": [
      "Training (epoch=16/30): 100%|██████████| 263/263 [00:55<00:00,  4.74it/s, batch acc=0.934]\n"
     ]
    },
    {
     "name": "stdout",
     "output_type": "stream",
     "text": [
      "Train acc 0.9160919369013749\n"
     ]
    },
    {
     "name": "stderr",
     "output_type": "stream",
     "text": [
      "Training (epoch=17/30): 100%|██████████| 263/263 [00:55<00:00,  4.74it/s, batch acc=0.918]\n"
     ]
    },
    {
     "name": "stdout",
     "output_type": "stream",
     "text": [
      "Train acc 0.9204266158223229\n"
     ]
    },
    {
     "name": "stderr",
     "output_type": "stream",
     "text": [
      "Training (epoch=18/30): 100%|██████████| 263/263 [00:55<00:00,  4.73it/s, batch acc=0.951]\n"
     ]
    },
    {
     "name": "stdout",
     "output_type": "stream",
     "text": [
      "Train acc 0.9263849373631448\n"
     ]
    },
    {
     "name": "stderr",
     "output_type": "stream",
     "text": [
      "Training (epoch=19/30): 100%|██████████| 263/263 [00:55<00:00,  4.73it/s, batch acc=0.852]\n"
     ]
    },
    {
     "name": "stdout",
     "output_type": "stream",
     "text": [
      "Train acc 0.9284852457062845\n"
     ]
    },
    {
     "name": "stderr",
     "output_type": "stream",
     "text": [
      "Training (epoch=20/30): 100%|██████████| 263/263 [00:55<00:00,  4.73it/s, batch acc=0.869]\n"
     ]
    },
    {
     "name": "stdout",
     "output_type": "stream",
     "text": [
      "Train acc 0.9305706582455722\n"
     ]
    },
    {
     "name": "stderr",
     "output_type": "stream",
     "text": [
      "Training (epoch=21/30): 100%|██████████| 263/263 [00:55<00:00,  4.74it/s, batch acc=0.934]\n"
     ]
    },
    {
     "name": "stdout",
     "output_type": "stream",
     "text": [
      "Train acc 0.9329241952541969\n"
     ]
    },
    {
     "name": "stderr",
     "output_type": "stream",
     "text": [
      "Training (epoch=22/30): 100%|██████████| 263/263 [00:55<00:00,  4.74it/s, batch acc=0.951]\n"
     ]
    },
    {
     "name": "stdout",
     "output_type": "stream",
     "text": [
      "Train acc 0.9342350259931778\n"
     ]
    },
    {
     "name": "stderr",
     "output_type": "stream",
     "text": [
      "Training (epoch=23/30): 100%|██████████| 263/263 [00:55<00:00,  4.74it/s, batch acc=0.984]\n"
     ]
    },
    {
     "name": "stdout",
     "output_type": "stream",
     "text": [
      "Train acc 0.9406551174534133\n"
     ]
    },
    {
     "name": "stderr",
     "output_type": "stream",
     "text": [
      "Training (epoch=24/30): 100%|██████████| 263/263 [00:55<00:00,  4.72it/s, batch acc=0.934]\n"
     ]
    },
    {
     "name": "stdout",
     "output_type": "stream",
     "text": [
      "Train acc 0.9387037671487942\n"
     ]
    },
    {
     "name": "stderr",
     "output_type": "stream",
     "text": [
      "Training (epoch=25/30): 100%|██████████| 263/263 [00:55<00:00,  4.73it/s, batch acc=0.951]\n"
     ]
    },
    {
     "name": "stdout",
     "output_type": "stream",
     "text": [
      "Train acc 0.9597962254033039\n"
     ]
    },
    {
     "name": "stderr",
     "output_type": "stream",
     "text": [
      "Training (epoch=26/30): 100%|██████████| 263/263 [00:55<00:00,  4.74it/s, batch acc=0.967]\n"
     ]
    },
    {
     "name": "stdout",
     "output_type": "stream",
     "text": [
      "Train acc 0.9673930853678518\n"
     ]
    },
    {
     "name": "stderr",
     "output_type": "stream",
     "text": [
      "Training (epoch=27/30): 100%|██████████| 263/263 [00:55<00:00,  4.73it/s, batch acc=1]    \n"
     ]
    },
    {
     "name": "stdout",
     "output_type": "stream",
     "text": [
      "Train acc 0.9697466223764766\n"
     ]
    },
    {
     "name": "stderr",
     "output_type": "stream",
     "text": [
      "Training (epoch=28/30): 100%|██████████| 263/263 [00:55<00:00,  4.74it/s, batch acc=0.934]\n"
     ]
    },
    {
     "name": "stdout",
     "output_type": "stream",
     "text": [
      "Train acc 0.9714447440156108\n"
     ]
    },
    {
     "name": "stderr",
     "output_type": "stream",
     "text": [
      "Training (epoch=29/30): 100%|██████████| 263/263 [00:55<00:00,  4.73it/s, batch acc=0.984]"
     ]
    },
    {
     "name": "stdout",
     "output_type": "stream",
     "text": [
      "Train acc 0.9711319321347176\n"
     ]
    },
    {
     "name": "stderr",
     "output_type": "stream",
     "text": [
      "\n"
     ]
    }
   ],
   "source": [
    "tr_loss, val_los = train(model4, whole_loader, num_epochs=30, lr = 0.001, keepBest = False, metrics= metrics, weight = weight)"
   ]
  },
  {
   "cell_type": "code",
   "execution_count": 138,
   "metadata": {
    "execution": {
     "iopub.execute_input": "2022-05-09T15:39:49.857437Z",
     "iopub.status.busy": "2022-05-09T15:39:49.857165Z",
     "iopub.status.idle": "2022-05-09T15:39:50.795657Z",
     "shell.execute_reply": "2022-05-09T15:39:50.794736Z",
     "shell.execute_reply.started": "2022-05-09T15:39:49.857404Z"
    }
   },
   "outputs": [],
   "source": [
    "testset = SpeechDataset(\"./test\",None, exclude = lambda x: x.startswith('_background_noise_'))\n",
    "\n",
    "\n",
    "test_set = testset.getTrainValidationSubset()\n"
   ]
  },
  {
   "cell_type": "code",
   "execution_count": 141,
   "metadata": {
    "execution": {
     "iopub.execute_input": "2022-05-09T15:40:09.016646Z",
     "iopub.status.busy": "2022-05-09T15:40:09.016117Z",
     "iopub.status.idle": "2022-05-09T15:40:09.020207Z",
     "shell.execute_reply": "2022-05-09T15:40:09.019491Z",
     "shell.execute_reply.started": "2022-05-09T15:40:09.016607Z"
    }
   },
   "outputs": [],
   "source": [
    "labels.append(\"audio\")"
   ]
  },
  {
   "cell_type": "code",
   "execution_count": 147,
   "metadata": {
    "execution": {
     "iopub.execute_input": "2022-05-09T15:43:21.766440Z",
     "iopub.status.busy": "2022-05-09T15:43:21.765715Z",
     "iopub.status.idle": "2022-05-09T15:43:21.770680Z",
     "shell.execute_reply": "2022-05-09T15:43:21.769984Z",
     "shell.execute_reply.started": "2022-05-09T15:43:21.766403Z"
    }
   },
   "outputs": [],
   "source": [
    "test_loader = DataLoader(\n",
    "    test_set,\n",
    "    batch_size=batch_size,\n",
    "    shuffle=False,\n",
    "    drop_last=False,\n",
    "    collate_fn=collate_fn,\n",
    "    pin_memory=True,\n",
    ")"
   ]
  },
  {
   "cell_type": "code",
   "execution_count": 149,
   "metadata": {
    "execution": {
     "iopub.execute_input": "2022-05-09T15:44:51.612642Z",
     "iopub.status.busy": "2022-05-09T15:44:51.612397Z",
     "iopub.status.idle": "2022-05-09T15:46:10.319695Z",
     "shell.execute_reply": "2022-05-09T15:46:10.318946Z",
     "shell.execute_reply.started": "2022-05-09T15:44:51.612605Z"
    }
   },
   "outputs": [],
   "source": [
    "softmaxs_test = getSoftMax(model4, test_loader)"
   ]
  },
  {
   "cell_type": "code",
   "execution_count": 61,
   "metadata": {
    "execution": {
     "iopub.execute_input": "2022-05-09T15:15:54.125142Z",
     "iopub.status.busy": "2022-05-09T15:15:54.124548Z",
     "iopub.status.idle": "2022-05-09T15:15:55.111218Z",
     "shell.execute_reply": "2022-05-09T15:15:55.110521Z",
     "shell.execute_reply.started": "2022-05-09T15:15:54.125093Z"
    }
   },
   "outputs": [
    {
     "data": {
      "text/plain": [
       "[154777,\n",
       " 41332,\n",
       " 25088,\n",
       " 45118,\n",
       " 91118,\n",
       " 4807,\n",
       " 84597,\n",
       " 150072,\n",
       " 110841,\n",
       " 102592,\n",
       " 5393,\n",
       " 86393,\n",
       " 112556,\n",
       " 120598,\n",
       " 35910,\n",
       " 58602,\n",
       " 21834,\n",
       " 67340,\n",
       " 84966,\n",
       " 85988]"
      ]
     },
     "execution_count": 61,
     "metadata": {},
     "output_type": "execute_result"
    }
   ],
   "source": [
    "softmaxs_test_copy = copy.deepcopy(list(softmaxs_test.numpy()))\n",
    "a = sorted(list(range(len(softmaxs_test_copy))),key = lambda x : (\n",
    "   softmaxs_test_copy[x].sort(),\n",
    "   softmaxs_test_copy[x][-2]\n",
    "))\n",
    "a[-20:]"
   ]
  },
  {
   "cell_type": "code",
   "execution_count": 152,
   "metadata": {
    "execution": {
     "iopub.execute_input": "2022-05-09T15:54:42.405163Z",
     "iopub.status.busy": "2022-05-09T15:54:42.404624Z",
     "iopub.status.idle": "2022-05-09T15:54:42.790480Z",
     "shell.execute_reply": "2022-05-09T15:54:42.789675Z",
     "shell.execute_reply.started": "2022-05-09T15:54:42.405117Z"
    }
   },
   "outputs": [
    {
     "data": {
      "image/png": "[encoded data removed]",
      "text/plain": [
       "<Figure size 432x288 with 1 Axes>"
      ]
     },
     "metadata": {
      "needs_background": "light"
     },
     "output_type": "display_data"
    },
    {
     "name": "stdout",
     "output_type": "stream",
     "text": [
      "92874\n",
      "audio\n",
      "12\n"
     ]
    },
    {
     "data": {
      "image/png": "[encoded data removed]",
      "text/plain": [
       "<Figure size 1600x320 with 1 Axes>"
      ]
     },
     "metadata": {
      "needs_background": "light"
     },
     "output_type": "display_data"
    },
    {
     "name": "stdout",
     "output_type": "stream",
     "text": [
      "Predition go\n"
     ]
    },
    {
     "data": {
      "text/html": [
       "\n",
       "                <audio  controls=\"controls\" >\n",
       "                    <source src=\"data:audio/x-wav;base64,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\" type=\"audio/x-wav\" />\n",
       "                    Your browser does not support the audio element.\n",
       "                </audio>\n",
       "              "
      ],
      "text/plain": [
       "<IPython.lib.display.Audio object>"
      ]
     },
     "execution_count": 152,
     "metadata": {},
     "output_type": "execute_result"
    }
   ],
   "source": [
    "index = random.randint(0, len(test_set))\n",
    "#index = 67340\n",
    "waveform, sample_rate, label,= test_set[index]\n",
    "\n",
    "plt.plot(waveform.t().numpy());\n",
    "plt.show()\n",
    "waveform.shape\n",
    "\n",
    "\n",
    "import IPython\n",
    "\n",
    "print(index)\n",
    "print(label)\n",
    "print(len(softmaxs_test[index]))\n",
    "figure(figsize=(20, 4), dpi=80)\n",
    "plt.scatter([index_to_label(i) for i in range(0,len(softmaxs_test[index]))],softmaxs_test[index])\n",
    "plt.show()\n",
    "logits_argmax = softmaxs_test[index].argmax(dim = -1).squeeze()\n",
    "print(\"Predition\", index_to_label(int(logits_argmax)))\n",
    "torchaudio.save('a.wav', waveform, 16000)\n",
    "IPython.display.Audio(\"a.wav\")"
   ]
  },
  {
   "cell_type": "code",
   "execution_count": 153,
   "metadata": {
    "execution": {
     "iopub.execute_input": "2022-05-09T15:54:48.926137Z",
     "iopub.status.busy": "2022-05-09T15:54:48.925608Z",
     "iopub.status.idle": "2022-05-09T15:56:09.550160Z",
     "shell.execute_reply": "2022-05-09T15:56:09.549306Z",
     "shell.execute_reply.started": "2022-05-09T15:54:48.926094Z"
    }
   },
   "outputs": [
    {
     "name": "stderr",
     "output_type": "stream",
     "text": [
      "Testing: 100%|██████████| 620/620 [01:20<00:00,  7.69it/s]\n"
     ]
    }
   ],
   "source": [
    "pred = prediction(model4,test_loader)"
   ]
  },
  {
   "cell_type": "code",
   "execution_count": 154,
   "metadata": {
    "execution": {
     "iopub.execute_input": "2022-05-09T15:56:36.396079Z",
     "iopub.status.busy": "2022-05-09T15:56:36.395820Z",
     "iopub.status.idle": "2022-05-09T15:56:36.443022Z",
     "shell.execute_reply": "2022-05-09T15:56:36.442130Z",
     "shell.execute_reply.started": "2022-05-09T15:56:36.396050Z"
    }
   },
   "outputs": [],
   "source": [
    "filenames = [a.split(\"/\")[1] for a in testset.getFilenames()]"
   ]
  },
  {
   "cell_type": "code",
   "execution_count": 155,
   "metadata": {
    "execution": {
     "iopub.execute_input": "2022-05-09T15:56:39.403027Z",
     "iopub.status.busy": "2022-05-09T15:56:39.402490Z",
     "iopub.status.idle": "2022-05-09T15:56:39.447363Z",
     "shell.execute_reply": "2022-05-09T15:56:39.446687Z",
     "shell.execute_reply.started": "2022-05-09T15:56:39.402987Z"
    }
   },
   "outputs": [],
   "source": [
    "pred_name = [index_to_label(a) for a in pred]"
   ]
  },
  {
   "cell_type": "code",
   "execution_count": 156,
   "metadata": {
    "execution": {
     "iopub.execute_input": "2022-05-09T15:56:40.896263Z",
     "iopub.status.busy": "2022-05-09T15:56:40.895310Z",
     "iopub.status.idle": "2022-05-09T15:56:40.966822Z",
     "shell.execute_reply": "2022-05-09T15:56:40.966027Z",
     "shell.execute_reply.started": "2022-05-09T15:56:40.896210Z"
    }
   },
   "outputs": [
    {
     "name": "stdout",
     "output_type": "stream",
     "text": [
      "[['down' '4836']\n",
      " ['go' '6647']\n",
      " ['left' '5909']\n",
      " ['no' '6926']\n",
      " ['off' '6231']\n",
      " ['on' '5992']\n",
      " ['right' '5353']\n",
      " ['silence' '14960']\n",
      " ['stop' '5721']\n",
      " ['unknown' '84081']\n",
      " ['up' '5887']\n",
      " ['yes' '5995']]\n"
     ]
    }
   ],
   "source": [
    "unique, counts = np.unique(pred_name, return_counts=True)\n",
    "\n",
    "result = np.column_stack((unique, counts))\n",
    "print (result)"
   ]
  },
  {
   "cell_type": "code",
   "execution_count": 157,
   "metadata": {
    "execution": {
     "iopub.execute_input": "2022-05-09T15:56:46.616065Z",
     "iopub.status.busy": "2022-05-09T15:56:46.615815Z",
     "iopub.status.idle": "2022-05-09T15:56:46.645956Z",
     "shell.execute_reply": "2022-05-09T15:56:46.645203Z",
     "shell.execute_reply.started": "2022-05-09T15:56:46.616036Z"
    }
   },
   "outputs": [],
   "source": [
    "import pandas as pd\n",
    "df = pd.DataFrame(\n",
    "    {'fname': filenames,\n",
    "     'label': pred_name,\n",
    "    })"
   ]
  },
  {
   "cell_type": "code",
   "execution_count": 164,
   "metadata": {
    "execution": {
     "iopub.execute_input": "2022-05-09T15:57:15.454867Z",
     "iopub.status.busy": "2022-05-09T15:57:15.454333Z",
     "iopub.status.idle": "2022-05-09T15:57:15.467784Z",
     "shell.execute_reply": "2022-05-09T15:57:15.466856Z",
     "shell.execute_reply.started": "2022-05-09T15:57:15.454829Z"
    }
   },
   "outputs": [
    {
     "name": "stdout",
     "output_type": "stream",
     "text": [
      "up\n",
      "7563\n"
     ]
    },
    {
     "data": {
      "text/html": [
       "\n",
       "                <audio  controls=\"controls\" >\n",
       "                    <source src=\"data:audio/x-wav;base64,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\" type=\"audio/x-wav\" />\n",
       "                    Your browser does not support the audio element.\n",
       "                </audio>\n",
       "              "
      ],
      "text/plain": [
       "<IPython.lib.display.Audio object>"
      ]
     },
     "execution_count": 164,
     "metadata": {},
     "output_type": "execute_result"
    }
   ],
   "source": [
    "#test\n",
    "label = \"a\"\n",
    "while label != \"up\":\n",
    "    i = random.randint(0, len(df))\n",
    "    label  =  df.iloc[i][\"label\"]\n",
    "filename = df.iloc[i][\"fname\"]\n",
    "\n",
    "import IPython\n",
    "\n",
    "print(label)\n",
    "print(i)\n",
    "IPython.display.Audio(\"test/audio/\"+filename)\n"
   ]
  },
  {
   "cell_type": "code",
   "execution_count": null,
   "metadata": {
    "execution": {
     "iopub.execute_input": "2022-05-08T11:52:31.857808Z",
     "iopub.status.busy": "2022-05-08T11:52:31.857511Z",
     "iopub.status.idle": "2022-05-08T11:52:33.269592Z",
     "shell.execute_reply": "2022-05-08T11:52:33.268916Z",
     "shell.execute_reply.started": "2022-05-08T11:52:31.857775Z"
    }
   },
   "outputs": [],
   "source": [
    "model_scripted = torch.jit.script(model4) # Export to TorchScript\n",
    "model_scripted.save('model4_scripted.pt') #\n",
    "\n",
    "model4 = torch.jit.load('../input/weights/model4_scripted.pt')\n",
    "model4.eval()"
   ]
  },
  {
   "cell_type": "code",
   "execution_count": 165,
   "metadata": {
    "execution": {
     "iopub.execute_input": "2022-05-09T15:57:20.064558Z",
     "iopub.status.busy": "2022-05-09T15:57:20.064210Z",
     "iopub.status.idle": "2022-05-09T15:57:20.388317Z",
     "shell.execute_reply": "2022-05-09T15:57:20.387462Z",
     "shell.execute_reply.started": "2022-05-09T15:57:20.064518Z"
    }
   },
   "outputs": [],
   "source": [
    "df.to_csv('submission.csv', index=False)"
   ]
  },
  {
   "attachments": {
    "image.png": {
     "image/png": "[encoded data removed]"
    }
   },
   "cell_type": "markdown",
   "metadata": {},
   "source": [
    "![image.png](attachment:image.png)"
   ]
  }
 ],
 "metadata": {
  "kernelspec": {
   "display_name": "Python 3",
   "language": "python",
   "name": "python3"
  },
  "language_info": {
   "codemirror_mode": {
    "name": "ipython",
    "version": 3
   },
   "file_extension": ".py",
   "mimetype": "text/x-python",
   "name": "python",
   "nbconvert_exporter": "python",
   "pygments_lexer": "ipython3",
   "version": "3.8.5"
  }
 },
 "nbformat": 4,
 "nbformat_minor": 4
}
